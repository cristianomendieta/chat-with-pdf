{
 "cells": [
  {
   "cell_type": "code",
   "execution_count": 1,
   "id": "c541dbf9",
   "metadata": {},
   "outputs": [
    {
     "data": {
      "text/plain": [
       "True"
      ]
     },
     "execution_count": 1,
     "metadata": {},
     "output_type": "execute_result"
    }
   ],
   "source": [
    "# !pip install pymupdf4llm\n",
    "# !pip install transformers\n",
    "# !pip install \"pinecone[grpc]\"\n",
    "from dotenv import load_dotenv\n",
    "\n",
    "load_dotenv()"
   ]
  },
  {
   "cell_type": "code",
   "execution_count": 2,
   "id": "9fe22ca4",
   "metadata": {},
   "outputs": [],
   "source": [
    "import pymupdf4llm\n",
    "from langchain_text_splitters import RecursiveCharacterTextSplitter\n",
    "\n",
    "md_text = pymupdf4llm.to_markdown(\"/home/cristianomendieta/estudos/chat-with-pdf/case_files/LB5001.pdf\")"
   ]
  },
  {
   "cell_type": "code",
   "execution_count": 3,
   "id": "c08c1904",
   "metadata": {},
   "outputs": [],
   "source": [
    "text_splitter = RecursiveCharacterTextSplitter(\n",
    "            # Set a really small chunk size, just to show.\n",
    "            chunk_size=1000,\n",
    "            chunk_overlap=100,\n",
    "            length_function=len,\n",
    "            is_separator_regex=False,\n",
    "        )\n",
    "texts = text_splitter.create_documents([md_text])"
   ]
  },
  {
   "cell_type": "code",
   "execution_count": 4,
   "id": "ab05a783",
   "metadata": {},
   "outputs": [
    {
     "data": {
      "text/plain": [
       "[Document(metadata={}, page_content='**AC & DC Motor Installation & Maintenance Instructions**\\n**Handling**\\nThe weight of the motor and shipping container will vary. Use correct material handling\\nequipment to avoid injury.\\n\\n**Receiving**\\nInspect the motor for damage before accepting it. The Motor shaft should rotate freely with\\nno rubs. Report any damage immediately to the commercial carrier that delivered your\\nmotor.'),\n",
       " Document(metadata={}, page_content='**Safety Notice**\\nOnly qualified personnel trained in the safe installation and operation of this equipment\\nshould install this motor. When improperly installed or used, rotating equipment can\\ncause serious or fatal injury. Equipment must be installed in accordance with the National\\nElectrical Code (NEC), local codes and NEMA MG2 Safety Standards for Construction and\\nGuide for Selection, Installation and Use of Electric Motors and Generators. Observe the\\nfollowing guidelines:\\n1. When eyebolts are provided, they must be fully tightened and are intended to lift the\\nmotor and its included accessories only.\\n2. Ground the motor according to NEC and local codes.\\n3. Provide a permanent guard to prevent accidental contact of body parts or clothing with\\nrotating or moving parts or burns if motor is hot.\\n4. Shaft key must be secured before starting motor.\\n5. Do not apply power to the motor until the motor is securely mounted by its mounting\\nholes.'),\n",
       " Document(metadata={}, page_content='5. Do not apply power to the motor until the motor is securely mounted by its mounting\\nholes.\\n6. This motor must only be connected to the proper line voltage, line frequency and load\\nsize.\\n7. If a motor mounted brake is installed, provide proper safeguards for personnel in case\\nof brake failure.\\n8. Disconnect all power services and stop the motor before servicing.\\n9. For single phase motors, discharge the start and/or run capacitors before servicing.\\n10. Do not by-pass or render inoperative any safety device.\\n11. When using AC motors with frequency inverters, be certain that the Maximum Speed\\nrating (on nameplate) is not exceeded.\\n12. Mounting bolts should be high tensile steel. Be sure to use a suitable locking device on\\neach bolt (spring washer or thread lock compound).'),\n",
       " Document(metadata={}, page_content='**Motor Enclosure**\\nODP, Open drip proof motors are intended for use in clean, dry locations with adequate\\nsupply of cooling air. These motors should not be used in the presence of flammable or\\ncombustible materials. Open motors can emit flame and/or molten metal in the event of\\ninsulation failure.\\nTEFC, totally enclosed motors are intended for use where moisture, dirt and/or corrosive\\nmaterials are present in indoor and outdoor locations. Explosion proof motors, as indicated\\nby the Underwriters Laboratories, Inc. label are intended for use in hazardous areas as\\nspecified by the NEC.'),\n",
       " Document(metadata={}, page_content='**Mounting**\\nFoot mounted machines should be mounted to a rigid foundation to prevent excessive\\nvibration. Shims may be used if location is uneven.\\nFlange mounted machines should be properly seated and aligned. Note: If improper\\nrotation direction is detrimental to the load, check rotation direction prior to coupling the\\nload to the motor shaft.\\nFor V-belt drive, mount the sheave pulley close to the motor housing. Allow clearance\\nfor end to end movement of the motor shaft. Do not overtighten belts as this may cause\\npremature bearing failure or shaft breakage.\\nDirect coupled machines should be carefully aligned and the shaft should rotate freely\\nwithout binding.'),\n",
       " Document(metadata={}, page_content='**Wiring**\\nConnect the motor as shown in the connection diagram. The wiring, fusing and grounding\\nmust comply with the National Electrical Code and local codes. When the motor is connected\\nto the load for proper direction of rotation and started, it should start quickly and run\\nsmoothly. If not, stop the motor immediately and determine the cause.\\nPossible causes are: low voltage at the motor, motor connections are not correct or the\\nload is too heavy. Check the motor current after a few minutes of operation and compare\\nthe measured current with the nameplate rating.\\n\\n**Lubrication**\\nThis is a ball bearing motor. The bearings have been lubricated at the factory. Motors that do\\nnot have regrease capability are factory lubricated for the normal life of the bearings.\\n**Relubrication Intervals** (For motors with rearease capability)\\nNew motors that have been stored for a year or more should be relubricated. Lubrication is\\nalso recommended at these intervals:'),\n",
       " Document(metadata={}, page_content='|also recommended at these inte|ervals: Relubrication Intervals|Col3|Col4|Col5|\\n|---|---|---|---|---|\\n|NEMA (IEC) Frame Size|Rated Speed (RPM)|Rated Speed (RPM)|Rated Speed (RPM)|Rated Speed (RPM)|\\n|NEMA (IEC) Frame Size|3600|1800|1200|900|\\n|Up to 210 incl. (132)|5500Hrs.|12000Hrs.|18000Hrs.|22000Hrs.|\\n|Over 210 to 280 incl. (180)|3600Hrs.|9500Hrs.|15000Hrs.|18000Hrs.|\\n|Over 280 to 360 incl. (225)|*2200Hrs.|7400Hrs.|12000Hrs.|15000Hrs.|\\n|Over 360 to 5000 incl.(300)|*2200Hrs.|3500Hrs.|7400Hrs.|10500Hrs.|\\n\\n\\n\\n- Lubrication interval for 6313 or 6314 bearings that are used in 360 through 5000 frame,\\n2 pole motors. If roller bearings are used, bearings must be lubricated more frequently,\\ndivide the interval by 2.\\n\\n**Lubricant**\\nBaldor motors are pregreased, normally with Polyrex EM (Exxon Mobil). If other greases are\\npreferred, check with a local Baldor Service Center for recommendations.'),\n",
       " Document(metadata={}, page_content='**Procedure**\\nClean the grease fitting (or area around grease hole, if equipped with slotted grease\\nscrews). If motor has a purge plug, remove it. Motors can be regreased while stopped\\n(at less than 80°C) or running.\\nApply grease gun to fitting (or grease hole). Too much grease or injecting grease to quickly\\ncan cause premature bearing failure. Slowly apply the recommended amount of grease,\\ntaking 1 minute or so to apply. Operate motor for 20 minutes, then reinstall purge plug if\\npreviously removed.\\n\\n**Caution:  Keep grease clean. Mixing dissimilar grease is not recommended.**\\n\\n**Amount of Grease to Add**'),\n",
       " Document(metadata={}, page_content='**Amount of Grease to Add**\\n\\n\\n\\n\\n|Frame Size NEMA (IEC)|Weight of grease<br>to add<br>ounce (gram)|Volume of grease to add|Col4|\\n|---|---|---|---|\\n|Frame Size NEMA (IEC)|Weight of grease<br>to add<br>ounce (gram)|inches3|teaspoon|\\n|Up to 210 incl. (132)|0.30 (8.4)|0.6|2.0|\\n|Over 210 to 280 incl. (180)|0.61 (17.4)|1.2|3.9|\\n|Over 280 to 360 incl. (225)|0.81 (23.1)|1.5|5.2|\\n|Over 360 to 5000 incl.(300)|2.12(60.0)|4.1|13.4|\\n\\n\\n**Maintenance Interval for Motors with Baldor Shaft Grounding Brush**\\nBaldor shaft grounding motors are designed for long life, but do require periodic replacement.\\nRecommended interval for changing the brush assembly on all frame sizes:\\n**Replacement Intervals**\\n\\n|Rated speed (RPM)|Col2|Col3|Col4|\\n|---|---|---|---|\\n|3600|1800|1200|900|\\n|22,000Hrs.|44,000Hrs.|66,000Hrs.|88,000Hrs.|\\n\\n\\n\\nP.O. Box 2400\\nFort Smith, AR 72902-2400 USA\\n(479) 646-4711\\n\\n9/14 LB5001')]"
      ]
     },
     "execution_count": 4,
     "metadata": {},
     "output_type": "execute_result"
    }
   ],
   "source": [
    "texts"
   ]
  },
  {
   "cell_type": "code",
   "execution_count": 1,
   "id": "9ad8fe14",
   "metadata": {},
   "outputs": [],
   "source": [
    "from pinecone import Pinecone, ServerlessSpec\n",
    "from pinecone import ServerlessSpec\n",
    "\n",
    "pc = Pinecone(api_key=\"pcsk_2SrBmu_MDxZLJmhrvwasnH9P8KEDAHmKfA5hhGWKebMRaNdRm8yuuf6wcwcsszpBNuvaBL\")\n",
    "\n",
    "dense_index_name = \"dense-chat-with-pdf\"\n",
    "sparse_index_name = \"sparse-chat-with-pdf\"\n",
    "\n",
    "if not pc.has_index(dense_index_name):\n",
    "    pc.create_index(\n",
    "        name=dense_index_name,\n",
    "        dimension=1536,\n",
    "        metric=\"cosine\",\n",
    "        spec=ServerlessSpec(\n",
    "            cloud=\"aws\",\n",
    "            region=\"us-east-1\"\n",
    "        ),\n",
    "        deletion_protection=\"disabled\",\n",
    "    )\n",
    "\n",
    "if not pc.has_index(sparse_index_name):\n",
    "    pc.create_index(\n",
    "        name=sparse_index_name,\n",
    "        vector_type=\"sparse\",\n",
    "        metric=\"dotproduct\",\n",
    "        spec=ServerlessSpec(cloud=\"aws\", region=\"us-east-1\")\n",
    "    )"
   ]
  },
  {
   "cell_type": "code",
   "execution_count": null,
   "id": "e7b9c262",
   "metadata": {},
   "outputs": [],
   "source": []
  },
  {
   "cell_type": "code",
   "execution_count": 6,
   "id": "80c49f03",
   "metadata": {},
   "outputs": [
    {
     "name": "stderr",
     "output_type": "stream",
     "text": [
      "/home/cristianomendieta/estudos/chat-with-pdf/my_env/lib/python3.11/site-packages/tqdm/auto.py:21: TqdmWarning: IProgress not found. Please update jupyter and ipywidgets. See https://ipywidgets.readthedocs.io/en/stable/user_install.html\n",
      "  from .autonotebook import tqdm as notebook_tqdm\n",
      "None of PyTorch, TensorFlow >= 2.0, or Flax have been found. Models won't be available and only tokenizers, configuration and file/data utilities can be used.\n",
      "None of PyTorch, TensorFlow >= 2.0, or Flax have been found. Models won't be available and only tokenizers, configuration and file/data utilities can be used.\n"
     ]
    }
   ],
   "source": [
    "from transformers import BertTokenizerFast  # !pip install transformers\n",
    "\n",
    "# load bert tokenizer from huggingface\n",
    "tokenizer = BertTokenizerFast.from_pretrained(\n",
    "   'bert-base-multilingual-uncased'\n",
    ")"
   ]
  },
  {
   "cell_type": "code",
   "execution_count": 7,
   "id": "5d44cdbb",
   "metadata": {},
   "outputs": [
    {
     "data": {
      "text/plain": [
       "dict_keys(['input_ids', 'token_type_ids', 'attention_mask'])"
      ]
     },
     "execution_count": 7,
     "metadata": {},
     "output_type": "execute_result"
    }
   ],
   "source": [
    "# tokenize the context passage\n",
    "inputs = tokenizer(\n",
    "    texts[0].page_content, padding=True, truncation=True,\n",
    "    max_length=512\n",
    ")\n",
    "inputs.keys()"
   ]
  },
  {
   "cell_type": "code",
   "execution_count": 8,
   "id": "c58cb242",
   "metadata": {},
   "outputs": [
    {
     "data": {
      "text/plain": [
       "[101,\n",
       " 115,\n",
       " 115,\n",
       " 12181,\n",
       " 111,\n",
       " 14410,\n",
       " 13469,\n",
       " 33040,\n",
       " 111,\n",
       " 33379,\n",
       " 58179,\n",
       " 115,\n",
       " 115,\n",
       " 115,\n",
       " 115,\n",
       " 47240,\n",
       " 115,\n",
       " 115,\n",
       " 10103,\n",
       " 23602,\n",
       " 10108,\n",
       " 10103,\n",
       " 13469,\n",
       " 10110,\n",
       " 47639,\n",
       " 77258,\n",
       " 11229,\n",
       " 37355,\n",
       " 119,\n",
       " 11868,\n",
       " 46085,\n",
       " 13220,\n",
       " 47240,\n",
       " 22490,\n",
       " 10114,\n",
       " 32406,\n",
       " 26751,\n",
       " 119,\n",
       " 115,\n",
       " 115,\n",
       " 30512,\n",
       " 115,\n",
       " 115,\n",
       " 15450,\n",
       " 84789,\n",
       " 10103,\n",
       " 13469,\n",
       " 10139,\n",
       " 24046,\n",
       " 11364,\n",
       " 39898,\n",
       " 10285,\n",
       " 10197,\n",
       " 119,\n",
       " 10103,\n",
       " 13469,\n",
       " 65315,\n",
       " 14693,\n",
       " 46566,\n",
       " 10218,\n",
       " 12487,\n",
       " 10563,\n",
       " 10171,\n",
       " 10181,\n",
       " 13462,\n",
       " 20540,\n",
       " 119,\n",
       " 13100,\n",
       " 11318,\n",
       " 24046,\n",
       " 23062,\n",
       " 10114,\n",
       " 10103,\n",
       " 16229,\n",
       " 34441,\n",
       " 10203,\n",
       " 35768,\n",
       " 12787,\n",
       " 13469,\n",
       " 119,\n",
       " 102]"
      ]
     },
     "execution_count": 8,
     "metadata": {},
     "output_type": "execute_result"
    }
   ],
   "source": [
    "# extract the input ids\n",
    "input_ids = inputs['input_ids']\n",
    "input_ids"
   ]
  },
  {
   "cell_type": "code",
   "execution_count": 9,
   "id": "af09b146",
   "metadata": {},
   "outputs": [],
   "source": [
    "from collections import Counter\n",
    "from langchain_openai import OpenAIEmbeddings\n",
    "\n",
    "def build_dict(input_batch):\n",
    "    # store a batch of sparse embeddings\n",
    "    sparse_emb = []\n",
    "    # iterate through input batch\n",
    "    for token_ids in input_batch:\n",
    "        # convert the input_ids list to a dictionary of key to frequency values\n",
    "        d = dict(Counter(token_ids))\n",
    "        # remove special tokens and create indices/values lists\n",
    "        indices = []\n",
    "        values = []\n",
    "        for idx in d:\n",
    "            if idx not in [101, 102, 103, 0]:  # filter out special tokens\n",
    "                indices.append(idx)\n",
    "                values.append(float(d[idx]))\n",
    "        sparse_emb.append({'indices': indices, 'values': values})\n",
    "    # return sparse_emb list\n",
    "    return sparse_emb\n",
    "\n",
    "\n",
    "def generate_sparse_vectors(context_batch):\n",
    "    # create batch of input_ids\n",
    "    inputs = tokenizer(\n",
    "            context_batch, padding=True,\n",
    "            truncation=True,\n",
    "            max_length=512\n",
    "    )['input_ids']\n",
    "    # create sparse dictionaries\n",
    "    sparse_embeds = build_dict(inputs)\n",
    "    return sparse_embeds\n",
    "\n",
    "\n",
    "def generate_dense_vectors(context_batch):\n",
    "    # Initialize OpenAI embeddings\n",
    "    embeddings = OpenAIEmbeddings(\n",
    "        model=\"text-embedding-3-small\",\n",
    "    )\n",
    "    \n",
    "    # Generate embeddings for the entire batch\n",
    "    dense_vectors = embeddings.embed_documents(context_batch)\n",
    "    \n",
    "    return dense_vectors\n"
   ]
  },
  {
   "cell_type": "code",
   "execution_count": 10,
   "id": "06655767",
   "metadata": {},
   "outputs": [],
   "source": [
    "text_chunks = [text.page_content for text in texts]"
   ]
  },
  {
   "cell_type": "code",
   "execution_count": 11,
   "id": "92f7b8ad",
   "metadata": {},
   "outputs": [
    {
     "data": {
      "text/plain": [
       "9"
      ]
     },
     "execution_count": 11,
     "metadata": {},
     "output_type": "execute_result"
    }
   ],
   "source": [
    "len(text_chunks)"
   ]
  },
  {
   "cell_type": "code",
   "execution_count": 15,
   "id": "96be63e5",
   "metadata": {},
   "outputs": [],
   "source": [
    "# from tqdm.auto import tqdm\n",
    "\n",
    "# batch_size = 32\n",
    "# vectors = []  # Initialize vectors list\n",
    "\n",
    "# for i in tqdm(range(0, len(text_chunks), batch_size)):\n",
    "#     # find end of batch\n",
    "#     i_end = min(i+batch_size, len(text_chunks))\n",
    "#     # extract batch\n",
    "#     context_batch = text_chunks[i:i_end]\n",
    "#     # create unique IDs\n",
    "#     ids = [str(x) for x in range(i, i_end)]\n",
    "#     # add context passages as metadata\n",
    "#     meta = [{'chunk_text': context} for context in context_batch]\n",
    "#     # create sparse vectors\n",
    "#     sparse_embeds = generate_sparse_vectors(context_batch)\n",
    "\n",
    "#     # loop through the data and create dictionaries for uploading documents to pinecone index\n",
    "#     for _id, sparse, metadata in zip(ids, sparse_embeds, meta):\n",
    "#         vectors.append({\n",
    "#             'id': _id,\n",
    "#             'sparse_values': sparse,  # sparse já tem o formato correto: {'indices': [...], 'values': [...]}\n",
    "#             'metadata': metadata\n",
    "#         })\n",
    "\n",
    "# print(f\"Total vectors created: {len(vectors)}\")\n",
    "# print(f\"First vector format: {vectors[0] if vectors else 'No vectors created'}\")\n",
    "\n",
    "# #     # upload the documents to the new hybrid index\n",
    "# #     index.upsert(vectors=vectors)\n",
    "\n",
    "# # # show index description after uploading the documents\n",
    "# # index.describe_index_stats()"
   ]
  },
  {
   "cell_type": "code",
   "execution_count": 12,
   "id": "bd411cb7",
   "metadata": {},
   "outputs": [
    {
     "name": "stderr",
     "output_type": "stream",
     "text": [
      "100%|██████████| 1/1 [00:01<00:00,  1.65s/it]"
     ]
    },
    {
     "name": "stdout",
     "output_type": "stream",
     "text": [
      "Total dense vectors created: 9\n",
      "Total sparse vectors created: 9\n",
      "Dense vector dimension: 1536\n",
      "Sparse vector indices count: 52\n"
     ]
    },
    {
     "name": "stderr",
     "output_type": "stream",
     "text": [
      "\n"
     ]
    }
   ],
   "source": [
    "# Processamento de vetores separados para cada índice\n",
    "from tqdm.auto import tqdm\n",
    "\n",
    "batch_size = 32\n",
    "dense_vectors = []  # Vetores apenas densos\n",
    "sparse_vectors = []  # Vetores apenas esparsos\n",
    "\n",
    "for i in tqdm(range(0, len(text_chunks), batch_size)):\n",
    "    # find end of batch\n",
    "    i_end = min(i+batch_size, len(text_chunks))\n",
    "    # extract batch\n",
    "    context_batch = text_chunks[i:i_end]\n",
    "    # create unique IDs\n",
    "    ids = [str(x) for x in range(i, i_end)]\n",
    "    # add context passages as metadata\n",
    "    meta = [{'chunk_text': context} for context in context_batch]\n",
    "    \n",
    "    # create sparse vectors\n",
    "    sparse_embeds = generate_sparse_vectors(context_batch)\n",
    "    # create dense vectors\n",
    "    dense_embeds = generate_dense_vectors(context_batch)\n",
    "\n",
    "    # Create separate vectors for each index type\n",
    "    for _id, sparse, dense, metadata in zip(ids, sparse_embeds, dense_embeds, meta):\n",
    "        # Dense vector for dense index\n",
    "        dense_vectors.append({\n",
    "            'id': _id,\n",
    "            'values': dense,  # only dense vector\n",
    "            'metadata': metadata\n",
    "        })\n",
    "        \n",
    "        # Sparse vector for sparse index\n",
    "        sparse_vectors.append({\n",
    "            'id': _id,\n",
    "            'sparse_values': sparse,  # only sparse vector\n",
    "            'metadata': metadata\n",
    "        })\n",
    "\n",
    "print(f\"Total dense vectors created: {len(dense_vectors)}\")\n",
    "print(f\"Total sparse vectors created: {len(sparse_vectors)}\")\n",
    "print(f\"Dense vector dimension: {len(dense_vectors[0]['values']) if dense_vectors else 'N/A'}\")\n",
    "print(f\"Sparse vector indices count: {len(sparse_vectors[0]['sparse_values']['indices']) if sparse_vectors else 'N/A'}\")"
   ]
  },
  {
   "cell_type": "code",
   "execution_count": 13,
   "id": "b456acde",
   "metadata": {},
   "outputs": [
    {
     "data": {
      "text/plain": [
       "1536"
      ]
     },
     "execution_count": 13,
     "metadata": {},
     "output_type": "execute_result"
    }
   ],
   "source": [
    "len(dense_vectors[0]['values'])"
   ]
  },
  {
   "cell_type": "code",
   "execution_count": 3,
   "id": "c95dc7d3",
   "metadata": {},
   "outputs": [
    {
     "name": "stderr",
     "output_type": "stream",
     "text": [
      "/home/cristianomendieta/estudos/chat-with-pdf/my_env/lib/python3.11/site-packages/tqdm/auto.py:21: TqdmWarning: IProgress not found. Please update jupyter and ipywidgets. See https://ipywidgets.readthedocs.io/en/stable/user_install.html\n",
      "  from .autonotebook import tqdm as notebook_tqdm\n"
     ]
    }
   ],
   "source": [
    "# Upload dos vetores para os índices apropriados\n",
    "dense_index = pc.Index(dense_index_name)\n",
    "sparse_index = pc.Index(sparse_index_name)"
   ]
  },
  {
   "cell_type": "code",
   "execution_count": 4,
   "id": "f073a33b",
   "metadata": {},
   "outputs": [
    {
     "name": "stdout",
     "output_type": "stream",
     "text": [
      "Upload completed!\n",
      "\n",
      "Dense index stats:\n",
      "{'dimension': 1536,\n",
      " 'index_fullness': 0.0,\n",
      " 'metric': 'cosine',\n",
      " 'namespaces': {'': {'vector_count': 61}},\n",
      " 'total_vector_count': 61,\n",
      " 'vector_type': 'dense'}\n",
      "\n",
      "Sparse index stats:\n",
      "{'index_fullness': 0.0,\n",
      " 'metric': 'dotproduct',\n",
      " 'namespaces': {'': {'vector_count': 61}},\n",
      " 'total_vector_count': 61,\n",
      " 'vector_type': 'sparse'}\n"
     ]
    }
   ],
   "source": [
    "print(\"Upload completed!\")\n",
    "print(\"\\nDense index stats:\")\n",
    "print(dense_index.describe_index_stats())\n",
    "print(\"\\nSparse index stats:\")\n",
    "print(sparse_index.describe_index_stats())"
   ]
  },
  {
   "cell_type": "code",
   "execution_count": 6,
   "id": "834b47f2",
   "metadata": {},
   "outputs": [
    {
     "data": {
      "text/plain": [
       "{}"
      ]
     },
     "execution_count": 6,
     "metadata": {},
     "output_type": "execute_result"
    }
   ],
   "source": [
    "dense_index.delete(delete_all=True)"
   ]
  },
  {
   "cell_type": "code",
   "execution_count": 7,
   "id": "50e4e7ee",
   "metadata": {},
   "outputs": [
    {
     "data": {
      "text/plain": [
       "{}"
      ]
     },
     "execution_count": 7,
     "metadata": {},
     "output_type": "execute_result"
    }
   ],
   "source": [
    "sparse_index.delete(delete_all=True)"
   ]
  },
  {
   "cell_type": "code",
   "execution_count": null,
   "id": "69e004b6",
   "metadata": {},
   "outputs": [],
   "source": [
    "# Upload dos vetores para os índices apropriados\n",
    "dense_index = pc.Index(dense_index_name)\n",
    "sparse_index = pc.Index(sparse_index_name)\n",
    "\n",
    "# Upload em batches para evitar problemas de timeout\n",
    "upload_batch_size = 100\n",
    "\n",
    "print(\"Uploading dense vectors...\")\n",
    "for i in tqdm(range(0, len(dense_vectors), upload_batch_size)):\n",
    "    i_end = min(i + upload_batch_size, len(dense_vectors))\n",
    "    batch_vectors = dense_vectors[i:i_end]\n",
    "    dense_index.upsert(vectors=batch_vectors)\n",
    "\n",
    "print(\"Uploading sparse vectors...\")\n",
    "for i in tqdm(range(0, len(sparse_vectors), upload_batch_size)):\n",
    "    i_end = min(i + upload_batch_size, len(sparse_vectors))\n",
    "    batch_vectors = sparse_vectors[i:i_end]\n",
    "    sparse_index.upsert(vectors=batch_vectors)"
   ]
  },
  {
   "cell_type": "code",
   "execution_count": 2,
   "id": "32622075",
   "metadata": {},
   "outputs": [
    {
     "name": "stdout",
     "output_type": "stream",
     "text": [
      "Upload completed!\n",
      "\n",
      "Dense index stats:\n"
     ]
    },
    {
     "ename": "NameError",
     "evalue": "name 'dense_index' is not defined",
     "output_type": "error",
     "traceback": [
      "\u001b[31m---------------------------------------------------------------------------\u001b[39m",
      "\u001b[31mNameError\u001b[39m                                 Traceback (most recent call last)",
      "\u001b[36mCell\u001b[39m\u001b[36m \u001b[39m\u001b[32mIn[2]\u001b[39m\u001b[32m, line 3\u001b[39m\n\u001b[32m      1\u001b[39m \u001b[38;5;28mprint\u001b[39m(\u001b[33m\"\u001b[39m\u001b[33mUpload completed!\u001b[39m\u001b[33m\"\u001b[39m)\n\u001b[32m      2\u001b[39m \u001b[38;5;28mprint\u001b[39m(\u001b[33m\"\u001b[39m\u001b[38;5;130;01m\\n\u001b[39;00m\u001b[33mDense index stats:\u001b[39m\u001b[33m\"\u001b[39m)\n\u001b[32m----> \u001b[39m\u001b[32m3\u001b[39m \u001b[38;5;28mprint\u001b[39m(\u001b[43mdense_index\u001b[49m.describe_index_stats())\n\u001b[32m      4\u001b[39m \u001b[38;5;28mprint\u001b[39m(\u001b[33m\"\u001b[39m\u001b[38;5;130;01m\\n\u001b[39;00m\u001b[33mSparse index stats:\u001b[39m\u001b[33m\"\u001b[39m)\n\u001b[32m      5\u001b[39m \u001b[38;5;28mprint\u001b[39m(sparse_index.describe_index_stats())\n",
      "\u001b[31mNameError\u001b[39m: name 'dense_index' is not defined"
     ]
    }
   ],
   "source": [
    "print(\"Upload completed!\")\n",
    "print(\"\\nDense index stats:\")\n",
    "print(dense_index.describe_index_stats())\n",
    "print(\"\\nSparse index stats:\")\n",
    "print(sparse_index.describe_index_stats())"
   ]
  },
  {
   "cell_type": "code",
   "execution_count": 17,
   "id": "01db9f06",
   "metadata": {},
   "outputs": [],
   "source": [
    "def sparse_query(question, top_k):\n",
    "    # convert the question into a sparse vector\n",
    "    sparse_vec = generate_sparse_vectors([question])[0]\n",
    "    # query pinecone with the query parameters\n",
    "    result = sparse_index.query(\n",
    "        sparse_vector=sparse_vec,\n",
    "        top_k=top_k,\n",
    "        include_metadata=True\n",
    "    )\n",
    "    # return search results as json\n",
    "    return result"
   ]
  },
  {
   "cell_type": "code",
   "execution_count": 18,
   "id": "097a1b67",
   "metadata": {},
   "outputs": [],
   "source": [
    "sparse_query_result = sparse_query(\n",
    "    question=\"Polyrex EM\",\n",
    "    top_k=5\n",
    ")"
   ]
  },
  {
   "cell_type": "code",
   "execution_count": 21,
   "id": "994614a4",
   "metadata": {},
   "outputs": [],
   "source": [
    "def dense_query(question, top_k):\n",
    "    # convert the question into a dense vector\n",
    "    dense_vec = generate_dense_vectors([question])[0]\n",
    "    # query pinecone with the query parameters\n",
    "    result = dense_index.query(\n",
    "        vector=dense_vec,\n",
    "        top_k=top_k,\n",
    "        include_metadata=True\n",
    "    )\n",
    "    # return search results as json\n",
    "    return result"
   ]
  },
  {
   "cell_type": "code",
   "execution_count": 22,
   "id": "b8842bdf",
   "metadata": {},
   "outputs": [],
   "source": [
    "dense_query_result = dense_query(\n",
    "    question=\"whats the name of the company that produces Polyrex EM?\",\n",
    "    top_k=5\n",
    ")"
   ]
  },
  {
   "cell_type": "code",
   "execution_count": 38,
   "id": "5c25ebb8",
   "metadata": {},
   "outputs": [],
   "source": [
    "# dense_query_result"
   ]
  },
  {
   "cell_type": "code",
   "execution_count": 41,
   "id": "a377107e",
   "metadata": {},
   "outputs": [],
   "source": [
    "# sparse_query_result"
   ]
  },
  {
   "cell_type": "code",
   "execution_count": 33,
   "id": "7c89f77a",
   "metadata": {},
   "outputs": [],
   "source": [
    "h1 = sparse_query_result\n",
    "h2 = dense_query_result\n",
    "\n",
    "deduped_hits = {hit['id']: hit for hit in h1['matches'] + h2['matches']}.values()"
   ]
  },
  {
   "cell_type": "code",
   "execution_count": 42,
   "id": "773f6b51",
   "metadata": {},
   "outputs": [
    {
     "name": "stdout",
     "output_type": "stream",
     "text": [
      "[\n",
      "   {'id': '3', 'chunk_text': '**Motor Enclosure**\\nODP, Open drip proof motors are intended for use in clean, dry locations with adequate\\nsupply of cooling air. These motors should not be used in the presence of flammable or\\ncombustible materials. Open motors can emit flame and/or molten metal in the event of\\ninsulation failure.\\nTEFC, totally enclosed motors are intended for use where moisture, dirt and/or corrosive\\nmaterials are present in indoor and outdoor locations. Explosion proof motors, as indicated\\nby the Underwriters Laboratories, Inc. label are intended for use in hazardous areas as\\nspecified by the NEC.'},\n",
      "   {'id': '6', 'chunk_text': '|also recommended at these inte|ervals: Relubrication Intervals|Col3|Col4|Col5|\\n|---|---|---|---|---|\\n|NEMA (IEC) Frame Size|Rated Speed (RPM)|Rated Speed (RPM)|Rated Speed (RPM)|Rated Speed (RPM)|\\n|NEMA (IEC) Frame Size|3600|1800|1200|900|\\n|Up to 210 incl. (132)|5500Hrs.|12000Hrs.|18000Hrs.|22000Hrs.|\\n|Over 210 to 280 incl. (180)|3600Hrs.|9500Hrs.|15000Hrs.|18000Hrs.|\\n|Over 280 to 360 incl. (225)|*2200Hrs.|7400Hrs.|12000Hrs.|15000Hrs.|\\n|Over 360 to 5000 incl.(300)|*2200Hrs.|3500Hrs.|7400Hrs.|10500Hrs.|\\n\\n\\n\\n- Lubrication interval for 6313 or 6314 bearings that are used in 360 through 5000 frame,\\n2 pole motors. If roller bearings are used, bearings must be lubricated more frequently,\\ndivide the interval by 2.\\n\\n**Lubricant**\\nBaldor motors are pregreased, normally with Polyrex EM (Exxon Mobil). If other greases are\\npreferred, check with a local Baldor Service Center for recommendations.'},\n",
      "   {'id': '8', 'chunk_text': '**Amount of Grease to Add**\\n\\n\\n\\n\\n|Frame Size NEMA (IEC)|Weight of grease<br>to add<br>ounce (gram)|Volume of grease to add|Col4|\\n|---|---|---|---|\\n|Frame Size NEMA (IEC)|Weight of grease<br>to add<br>ounce (gram)|inches3|teaspoon|\\n|Up to 210 incl. (132)|0.30 (8.4)|0.6|2.0|\\n|Over 210 to 280 incl. (180)|0.61 (17.4)|1.2|3.9|\\n|Over 280 to 360 incl. (225)|0.81 (23.1)|1.5|5.2|\\n|Over 360 to 5000 incl.(300)|2.12(60.0)|4.1|13.4|\\n\\n\\n**Maintenance Interval for Motors with Baldor Shaft Grounding Brush**\\nBaldor shaft grounding motors are designed for long life, but do require periodic replacement.\\nRecommended interval for changing the brush assembly on all frame sizes:\\n**Replacement Intervals**\\n\\n|Rated speed (RPM)|Col2|Col3|Col4|\\n|---|---|---|---|\\n|3600|1800|1200|900|\\n|22,000Hrs.|44,000Hrs.|66,000Hrs.|88,000Hrs.|\\n\\n\\n\\nP.O. Box 2400\\nFort Smith, AR 72902-2400 USA\\n(479) 646-4711\\n\\n9/14 LB5001'},\n",
      "   {'id': '7', 'chunk_text': '**Procedure**\\nClean the grease fitting (or area around grease hole, if equipped with slotted grease\\nscrews). If motor has a purge plug, remove it. Motors can be regreased while stopped\\n(at less than 80°C) or running.\\nApply grease gun to fitting (or grease hole). Too much grease or injecting grease to quickly\\ncan cause premature bearing failure. Slowly apply the recommended amount of grease,\\ntaking 1 minute or so to apply. Operate motor for 20 minutes, then reinstall purge plug if\\npreviously removed.\\n\\n**Caution:  Keep grease clean. Mixing dissimilar grease is not recommended.**\\n\\n**Amount of Grease to Add**'},\n",
      "   {'id': '1', 'chunk_text': '**Safety Notice**\\nOnly qualified personnel trained in the safe installation and operation of this equipment\\nshould install this motor. When improperly installed or used, rotating equipment can\\ncause serious or fatal injury. Equipment must be installed in accordance with the National\\nElectrical Code (NEC), local codes and NEMA MG2 Safety Standards for Construction and\\nGuide for Selection, Installation and Use of Electric Motors and Generators. Observe the\\nfollowing guidelines:\\n1. When eyebolts are provided, they must be fully tightened and are intended to lift the\\nmotor and its included accessories only.\\n2. Ground the motor according to NEC and local codes.\\n3. Provide a permanent guard to prevent accidental contact of body parts or clothing with\\nrotating or moving parts or burns if motor is hot.\\n4. Shaft key must be secured before starting motor.\\n5. Do not apply power to the motor until the motor is securely mounted by its mounting\\nholes.'}\n",
      "]\n"
     ]
    }
   ],
   "source": [
    "def merge_chunks(h1, h2):\n",
    "    \"\"\"Get the unique hits from two search results and return them as single array of {'id', 'chunk_text'} dicts, printing each dict on a new line.\"\"\"\n",
    "    # Deduplicate by id\n",
    "    deduped_hits = {hit['id']: hit for hit in h1['matches'] + h2['matches']}.values()\n",
    "\n",
    "    # Sort by _score descending\n",
    "    sorted_hits = sorted(deduped_hits, key=lambda x: x['score'], reverse=True)\n",
    "    # Transform to format for reranking\n",
    "    result = [{'id': hit['id'], 'chunk_text': hit['metadata']['chunk_text']} for hit in sorted_hits]\n",
    "    return result\n",
    "\n",
    "merged_results = merge_chunks(sparse_query_result, dense_query_result)\n",
    "\n",
    "print('[\\n   ' + ',\\n   '.join(str(obj) for obj in merged_results) + '\\n]')"
   ]
  },
  {
   "cell_type": "code",
   "execution_count": null,
   "id": "0e2a07d8",
   "metadata": {},
   "outputs": [],
   "source": [
    "# Exemplo de como usar as estratégias de busca implementadas na aplicação\n",
    "\n",
    "# Simulando o uso das estratégias:\n",
    "print(\"=== Estratégias de Busca Implementadas ===\")\n",
    "print()\n",
    "\n",
    "# 1. Busca Dense (usando OpenAI embeddings)\n",
    "print(\"1. BUSCA DENSE:\")\n",
    "print(\"   - Usa embeddings do OpenAI (text-embedding-3-small)\")\n",
    "print(\"   - Melhor para busca semântica\")\n",
    "print(\"   - Dimensão: 1536\")\n",
    "print(\"   - Índice: dense-chat-with-pdf\")\n",
    "print()\n",
    "\n",
    "# 2. Busca Sparse (usando BERT tokenizer)\n",
    "print(\"2. BUSCA SPARSE:\")\n",
    "print(\"   - Usa tokenização BERT (bert-base-multilingual-uncased)\")\n",
    "print(\"   - Melhor para correspondência exata de palavras\")\n",
    "print(\"   - Baseada em frequência de tokens\")\n",
    "print(\"   - Índice: sparse-chat-with-pdf\")\n",
    "print()\n",
    "\n",
    "# 3. Busca Híbrida (combinando ambas)\n",
    "print(\"3. BUSCA HÍBRIDA:\")\n",
    "print(\"   - Combina dense + sparse\")\n",
    "print(\"   - Pesos: 70% dense + 30% sparse (configurável)\")\n",
    "print(\"   - Melhor dos dois mundos\")\n",
    "print(\"   - Deduplicação automática\")\n",
    "print()\n",
    "\n",
    "print(\"=== Como usar na aplicação ===\")\n",
    "print()\n",
    "print(\"# Exemplo de request para a API:\")\n",
    "example_request = {\n",
    "    \"question\": \"O que é Polyrex EM?\",\n",
    "    \"search_strategy\": \"hybrid\",  # dense, sparse, ou hybrid\n",
    "    \"max_documents\": 5\n",
    "}\n",
    "print(f\"POST /questions/\")\n",
    "print(f\"Body: {example_request}\")\n",
    "print()\n",
    "\n",
    "print(\"# Exemplo de response:\")\n",
    "example_response = {\n",
    "    \"answer\": \"Resposta baseada nos documentos encontrados...\",\n",
    "    \"references\": [\n",
    "        \"documento1.pdf (Score: 0.95, Tipo: hybrid)\",\n",
    "        \"documento2.pdf (Score: 0.87, Tipo: hybrid)\"\n",
    "    ],\n",
    "    \"search_strategy\": \"hybrid\",\n",
    "    \"documents_found\": 5,\n",
    "    \"context_used\": 3\n",
    "}\n",
    "print(f\"Response: {example_response}\")"
   ]
  },
  {
   "cell_type": "code",
   "execution_count": 12,
   "id": "f791b078",
   "metadata": {},
   "outputs": [],
   "source": [
    "md_text = pymupdf4llm.to_markdown(doc=\"/home/cristianomendieta/estudos/chat-with-pdf/case_files/WEG-motores-eletricos-guia-de-especificacao-50032749-brochure-portuguese-web.pdf\",\n",
    "                                      write_images=True,\n",
    "                                      image_path=\"/home/cristianomendieta/estudos/chat-with-pdf/case_files/images-2\")"
   ]
  },
  {
   "cell_type": "code",
   "execution_count": 1,
   "id": "15df1f9a",
   "metadata": {},
   "outputs": [],
   "source": [
    "# !pip install -U sentence-transformers"
   ]
  },
  {
   "cell_type": "code",
   "execution_count": 3,
   "id": "ece93f34",
   "metadata": {},
   "outputs": [
    {
     "ename": "ModuleNotFoundError",
     "evalue": "No module named 'sentence_transformers'",
     "output_type": "error",
     "traceback": [
      "\u001b[31m---------------------------------------------------------------------------\u001b[39m",
      "\u001b[31mModuleNotFoundError\u001b[39m                       Traceback (most recent call last)",
      "\u001b[36mCell\u001b[39m\u001b[36m \u001b[39m\u001b[32mIn[3]\u001b[39m\u001b[32m, line 1\u001b[39m\n\u001b[32m----> \u001b[39m\u001b[32m1\u001b[39m \u001b[38;5;28;01mfrom\u001b[39;00m\u001b[38;5;250m \u001b[39m\u001b[34;01msentence_transformers\u001b[39;00m\u001b[38;5;250m \u001b[39m\u001b[38;5;28;01mimport\u001b[39;00m CrossEncoder\n\u001b[32m      3\u001b[39m \u001b[38;5;66;03m# 1. Load a pre-trained CrossEncoder model\u001b[39;00m\n\u001b[32m      4\u001b[39m model = CrossEncoder(\u001b[33m\"\u001b[39m\u001b[33mcross-encoder/ms-marco-MiniLM-L6-v2\u001b[39m\u001b[33m\"\u001b[39m)\n",
      "\u001b[31mModuleNotFoundError\u001b[39m: No module named 'sentence_transformers'"
     ]
    }
   ],
   "source": [
    "from sentence_transformers import CrossEncoder\n",
    "\n",
    "# 1. Load a pre-trained CrossEncoder model\n",
    "model = CrossEncoder(\"cross-encoder/ms-marco-MiniLM-L6-v2\")\n",
    "\n",
    "# 2. Predict scores for a pair of sentences\n",
    "scores = model.predict([\n",
    "    (\"How many people live in Berlin?\", \"Berlin had a population of 3,520,031 registered inhabitants in an area of 891.82 square kilometers.\"),\n",
    "    (\"How many people live in Berlin?\", \"Berlin is well known for its museums.\"),\n",
    "])\n",
    "# => array([ 8.607138 , -4.3200774], dtype=float32)\n",
    "\n",
    "# 3. Rank a list of passages for a query\n",
    "query = \"How many people live in Berlin?\"\n",
    "passages = [\n",
    "    \"Berlin had a population of 3,520,031 registered inhabitants in an area of 891.82 square kilometers.\",\n",
    "    \"Berlin is well known for its museums.\",\n",
    "    \"In 2014, the city state Berlin had 37,368 live births (+6.6%), a record number since 1991.\",\n",
    "    \"The urban area of Berlin comprised about 4.1 million people in 2014, making it the seventh most populous urban area in the European Union.\",\n",
    "    \"The city of Paris had a population of 2,165,423 people within its administrative city limits as of January 1, 2019\",\n",
    "    \"An estimated 300,000-420,000 Muslims reside in Berlin, making up about 8-11 percent of the population.\",\n",
    "    \"Berlin is subdivided into 12 boroughs or districts (Bezirke).\",\n",
    "    \"In 2015, the total labour force in Berlin was 1.85 million.\",\n",
    "    \"In 2013 around 600,000 Berliners were registered in one of the more than 2,300 sport and fitness clubs.\",\n",
    "    \"Berlin has a yearly total of about 135 million day visitors, which puts it in third place among the most-visited city destinations in the European Union.\",\n",
    "]\n",
    "ranks = model.rank(query, passages)\n",
    "\n",
    "# Print the scores\n",
    "print(\"Query:\", query)\n",
    "for rank in ranks:\n",
    "    print(f\"{rank['score']:.2f}\\t{passages[rank['corpus_id']]}\")\n",
    "\"\"\"\n",
    "Query: How many people live in Berlin?\n",
    "8.92    The urban area of Berlin comprised about 4.1 million people in 2014, making it the seventh most populous urban area in the European Union.\n",
    "8.61    Berlin had a population of 3,520,031 registered inhabitants in an area of 891.82 square kilometers.\n",
    "8.24    An estimated 300,000-420,000 Muslims reside in Berlin, making up about 8-11 percent of the population.\n",
    "7.60    In 2014, the city state Berlin had 37,368 live births (+6.6%), a record number since 1991.\n",
    "6.35    In 2013 around 600,000 Berliners were registered in one of the more than 2,300 sport and fitness clubs.\n",
    "5.42    Berlin has a yearly total of about 135 million day visitors, which puts it in third place among the most-visited city destinations in the European Union.\n",
    "3.45    In 2015, the total labour force in Berlin was 1.85 million.\n",
    "0.33    Berlin is subdivided into 12 boroughs or districts (Bezirke).\n",
    "-4.24   The city of Paris had a population of 2,165,423 people within its administrative city limits as of January 1, 2019\n",
    "-4.32   Berlin is well known for its museums.\n",
    "\"\"\""
   ]
  },
  {
   "cell_type": "code",
   "execution_count": 2,
   "id": "5c6cb7f1",
   "metadata": {},
   "outputs": [
    {
     "ename": "ModuleNotFoundError",
     "evalue": "No module named 'sentence_transformers'",
     "output_type": "error",
     "traceback": [
      "\u001b[31m---------------------------------------------------------------------------\u001b[39m",
      "\u001b[31mModuleNotFoundError\u001b[39m                       Traceback (most recent call last)",
      "\u001b[36mCell\u001b[39m\u001b[36m \u001b[39m\u001b[32mIn[2]\u001b[39m\u001b[32m, line 1\u001b[39m\n\u001b[32m----> \u001b[39m\u001b[32m1\u001b[39m \u001b[38;5;28;01mfrom\u001b[39;00m\u001b[38;5;250m \u001b[39m\u001b[34;01msentence_transformers\u001b[39;00m\u001b[38;5;250m \u001b[39m\u001b[38;5;28;01mimport\u001b[39;00m CrossEncoder\n\u001b[32m      3\u001b[39m model = CrossEncoder(\u001b[33m'\u001b[39m\u001b[33mcross-encoder/ms-marco-MiniLM-L6-v2\u001b[39m\u001b[33m'\u001b[39m)\n\u001b[32m      4\u001b[39m scores = model.predict([\n\u001b[32m      5\u001b[39m     (\u001b[33m\"\u001b[39m\u001b[33mHow many people live in Berlin?\u001b[39m\u001b[33m\"\u001b[39m, \u001b[33m\"\u001b[39m\u001b[33mBerlin had a population of 3,520,031 registered inhabitants in an area of 891.82 square kilometers.\u001b[39m\u001b[33m\"\u001b[39m),\n\u001b[32m      6\u001b[39m     (\u001b[33m\"\u001b[39m\u001b[33mHow many people live in Berlin?\u001b[39m\u001b[33m\"\u001b[39m, \u001b[33m\"\u001b[39m\u001b[33mBerlin is well known for its museums.\u001b[39m\u001b[33m\"\u001b[39m),\n\u001b[32m      7\u001b[39m ])\n",
      "\u001b[31mModuleNotFoundError\u001b[39m: No module named 'sentence_transformers'"
     ]
    }
   ],
   "source": [
    "from sentence_transformers import CrossEncoder\n",
    "\n",
    "model = CrossEncoder('cross-encoder/ms-marco-MiniLM-L6-v2')\n",
    "scores = model.predict([\n",
    "    (\"How many people live in Berlin?\", \"Berlin had a population of 3,520,031 registered inhabitants in an area of 891.82 square kilometers.\"),\n",
    "    (\"How many people live in Berlin?\", \"Berlin is well known for its museums.\"),\n",
    "])\n",
    "print(scores)\n",
    "# [ 8.607138 -4.320078]\n"
   ]
  }
 ],
 "metadata": {
  "kernelspec": {
   "display_name": "my_env",
   "language": "python",
   "name": "python3"
  },
  "language_info": {
   "codemirror_mode": {
    "name": "ipython",
    "version": 3
   },
   "file_extension": ".py",
   "mimetype": "text/x-python",
   "name": "python",
   "nbconvert_exporter": "python",
   "pygments_lexer": "ipython3",
   "version": "3.11.9"
  }
 },
 "nbformat": 4,
 "nbformat_minor": 5
}
