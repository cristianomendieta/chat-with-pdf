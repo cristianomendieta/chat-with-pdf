{
 "cells": [
  {
   "cell_type": "code",
   "execution_count": 1,
   "id": "c541dbf9",
   "metadata": {},
   "outputs": [
    {
     "data": {
      "text/plain": [
       "True"
      ]
     },
     "execution_count": 1,
     "metadata": {},
     "output_type": "execute_result"
    }
   ],
   "source": [
    "# !pip install pymupdf4llm\n",
    "# !pip install transformers\n",
    "# !pip install \"pinecone[grpc]\"\n",
    "from dotenv import load_dotenv\n",
    "\n",
    "load_dotenv()"
   ]
  },
  {
   "cell_type": "code",
   "execution_count": 1,
   "id": "efbdb5ba",
   "metadata": {},
   "outputs": [],
   "source": [
    "# !pip install pdfrw"
   ]
  },
  {
   "cell_type": "code",
   "execution_count": 1,
   "id": "6137a1da",
   "metadata": {},
   "outputs": [
    {
     "ename": "ModuleNotFoundError",
     "evalue": "No module named 'pdfrw'",
     "output_type": "error",
     "traceback": [
      "\u001b[31m---------------------------------------------------------------------------\u001b[39m",
      "\u001b[31mModuleNotFoundError\u001b[39m                       Traceback (most recent call last)",
      "\u001b[36mCell\u001b[39m\u001b[36m \u001b[39m\u001b[32mIn[1]\u001b[39m\u001b[32m, line 3\u001b[39m\n\u001b[32m      1\u001b[39m \u001b[38;5;28;01mimport\u001b[39;00m\u001b[38;5;250m \u001b[39m\u001b[34;01msys\u001b[39;00m\n\u001b[32m      2\u001b[39m \u001b[38;5;28;01mfrom\u001b[39;00m\u001b[38;5;250m \u001b[39m\u001b[34;01mio\u001b[39;00m\u001b[38;5;250m \u001b[39m\u001b[38;5;28;01mimport\u001b[39;00m BytesIO\n\u001b[32m----> \u001b[39m\u001b[32m3\u001b[39m \u001b[38;5;28;01mfrom\u001b[39;00m\u001b[38;5;250m \u001b[39m\u001b[34;01mpdfrw\u001b[39;00m\u001b[38;5;250m \u001b[39m\u001b[38;5;28;01mimport\u001b[39;00m PdfReader\n\u001b[32m      4\u001b[39m \u001b[38;5;28;01mimport\u001b[39;00m\u001b[38;5;250m \u001b[39m\u001b[34;01mpymupdf\u001b[39;00m\n\u001b[32m      6\u001b[39m \u001b[38;5;66;03m#---------------------------------------\u001b[39;00m\n\u001b[32m      7\u001b[39m \u001b[38;5;66;03m# 'Tolerant' PDF reader\u001b[39;00m\n\u001b[32m      8\u001b[39m \u001b[38;5;66;03m#---------------------------------------\u001b[39;00m\n",
      "\u001b[31mModuleNotFoundError\u001b[39m: No module named 'pdfrw'"
     ]
    }
   ],
   "source": [
    "import sys\n",
    "from io import BytesIO\n",
    "from pdfrw import PdfReader\n",
    "import pymupdf\n",
    "\n",
    "#---------------------------------------\n",
    "# 'Tolerant' PDF reader\n",
    "#---------------------------------------\n",
    "def reader(fname, password = None):\n",
    "    idata = open(fname, \"rb\").read()  # read the PDF into memory and\n",
    "    ibuffer = BytesIO(idata)  # convert to stream\n",
    "    if password is None:\n",
    "        try:\n",
    "            return PdfReader(ibuffer)  # if this works: fine!\n",
    "        except:\n",
    "            pass\n",
    "\n",
    "    # either we need a password or it is a problem-PDF\n",
    "    # create a repaired / decompressed / decrypted version\n",
    "    doc = pymupdf.open(\"pdf\", ibuffer)\n",
    "    if password is not None:  # decrypt if password provided\n",
    "        rc = doc.authenticate(password)\n",
    "        if not rc > 0:\n",
    "            raise ValueError(\"wrong password\")\n",
    "    c = doc.tobytes(garbage=3, deflate=True)\n",
    "    del doc  # close & delete doc\n",
    "    return PdfReader(BytesIO(c))  # let pdfrw retry\n",
    "#---------------------------------------\n",
    "# Main program\n",
    "#---------------------------------------\n",
    "pdf = reader(\"/home/cristianomendieta/estudos/chat-with-pdf/case_files/WEG-CESTARI-manual-iom-guia-consulta-rapida-50111652-pt-en-es-web.pdf\", password = None) # include a password if necessary\n",
    "# do further processing"
   ]
  },
  {
   "cell_type": "code",
   "execution_count": 9,
   "id": "9fe22ca4",
   "metadata": {},
   "outputs": [],
   "source": [
    "import pymupdf4llm\n",
    "from langchain_text_splitters import RecursiveCharacterTextSplitter\n",
    "\n",
    "md_text = pymupdf4llm.to_markdown(\"/home/cristianomendieta/estudos/chat-with-pdf/case_files/WEG-CESTARI-manual-iom-guia-consulta-rapida-50111652-pt-en-es-web.pdf\",  write_images=True)"
   ]
  },
  {
   "cell_type": "code",
   "execution_count": null,
   "id": "f05d429e",
   "metadata": {},
   "outputs": [],
   "source": [
    "import pymupdf\n",
    "\n",
    "doc = pymupdf.open('/home/cristianomendieta/estudos/chat-with-pdf/case_files/WEG-CESTARI-manual-iom-guia-consulta-rapida-50111652-pt-en-es-web.pdf')"
   ]
  },
  {
   "cell_type": "code",
   "execution_count": 8,
   "id": "c75f1420",
   "metadata": {},
   "outputs": [
    {
     "data": {
      "text/plain": [
       "'2 \\n \\n \\nRevisão/Revisión/Review: \\n02 - 09/2019 \\n\\x03\\n1ŶĚŝĐĞ\\x03ͬ\\x03/ŶĚŝĐĞ\\x03ͬ\\x03/ŶĚĞǆ\\x03\\n\\x03\\n\\x03\\n\\x03\\n\\x03\\n3RUWXJXrV\\x03\\n0DQXDO\\x03GH\\x03,QVWDODomR\\x0f\\x032SHUDomR\\x03H\\x030DQXWHQomR\\x03\\n\\x14\\x10\\x15\\x19\\x03\\n\\x03\\n\\x03\\n\\x03\\n\\x03\\n(VSDxRO\\x03\\n0DQXDO\\x03GH\\x03,QVWDODFLyQ\\x0f\\x032SHUDFLyQ\\x03\\\\\\x030DQWHQLPLHQWR\\x03\\n\\x15\\x1a\\x10\\x18\\x15\\x03\\n\\x03\\n\\x03\\n\\x03\\n\\x03\\n(QJOLVK\\x03\\n,QVWDOODWLRQ\\x0f\\x032SHUDWLRQ\\x03DQG\\x030DLQWHQDQFH\\x030DQXDO\\x03\\n\\x18\\x16\\x10\\x1a\\x1b\\x03\\n\\x03\\n\\x03\\n\\x03\\n\\x03\\n'"
      ]
     },
     "execution_count": 8,
     "metadata": {},
     "output_type": "execute_result"
    }
   ],
   "source": [
    "doc.get_page_text(2)"
   ]
  },
  {
   "cell_type": "code",
   "execution_count": 1,
   "id": "bf31391d",
   "metadata": {},
   "outputs": [
    {
     "ename": "TesseractNotFoundError",
     "evalue": "tesseract is not installed or it's not in your PATH. See README file for more information.",
     "output_type": "error",
     "traceback": [
      "\u001b[31m---------------------------------------------------------------------------\u001b[39m",
      "\u001b[31mFileNotFoundError\u001b[39m                         Traceback (most recent call last)",
      "\u001b[36mFile \u001b[39m\u001b[32m~/estudos/chat-with-pdf/my_env/lib/python3.11/site-packages/pytesseract/pytesseract.py:275\u001b[39m, in \u001b[36mrun_tesseract\u001b[39m\u001b[34m(input_filename, output_filename_base, extension, lang, config, nice, timeout)\u001b[39m\n\u001b[32m    274\u001b[39m \u001b[38;5;28;01mtry\u001b[39;00m:\n\u001b[32m--> \u001b[39m\u001b[32m275\u001b[39m     proc = \u001b[43msubprocess\u001b[49m\u001b[43m.\u001b[49m\u001b[43mPopen\u001b[49m\u001b[43m(\u001b[49m\u001b[43mcmd_args\u001b[49m\u001b[43m,\u001b[49m\u001b[43m \u001b[49m\u001b[43m*\u001b[49m\u001b[43m*\u001b[49m\u001b[43msubprocess_args\u001b[49m\u001b[43m(\u001b[49m\u001b[43m)\u001b[49m\u001b[43m)\u001b[49m\n\u001b[32m    276\u001b[39m \u001b[38;5;28;01mexcept\u001b[39;00m \u001b[38;5;167;01mOSError\u001b[39;00m \u001b[38;5;28;01mas\u001b[39;00m e:\n",
      "\u001b[36mFile \u001b[39m\u001b[32m/usr/lib/python3.11/subprocess.py:1026\u001b[39m, in \u001b[36mPopen.__init__\u001b[39m\u001b[34m(self, args, bufsize, executable, stdin, stdout, stderr, preexec_fn, close_fds, shell, cwd, env, universal_newlines, startupinfo, creationflags, restore_signals, start_new_session, pass_fds, user, group, extra_groups, encoding, errors, text, umask, pipesize, process_group)\u001b[39m\n\u001b[32m   1023\u001b[39m             \u001b[38;5;28mself\u001b[39m.stderr = io.TextIOWrapper(\u001b[38;5;28mself\u001b[39m.stderr,\n\u001b[32m   1024\u001b[39m                     encoding=encoding, errors=errors)\n\u001b[32m-> \u001b[39m\u001b[32m1026\u001b[39m     \u001b[38;5;28;43mself\u001b[39;49m\u001b[43m.\u001b[49m\u001b[43m_execute_child\u001b[49m\u001b[43m(\u001b[49m\u001b[43margs\u001b[49m\u001b[43m,\u001b[49m\u001b[43m \u001b[49m\u001b[43mexecutable\u001b[49m\u001b[43m,\u001b[49m\u001b[43m \u001b[49m\u001b[43mpreexec_fn\u001b[49m\u001b[43m,\u001b[49m\u001b[43m \u001b[49m\u001b[43mclose_fds\u001b[49m\u001b[43m,\u001b[49m\n\u001b[32m   1027\u001b[39m \u001b[43m                        \u001b[49m\u001b[43mpass_fds\u001b[49m\u001b[43m,\u001b[49m\u001b[43m \u001b[49m\u001b[43mcwd\u001b[49m\u001b[43m,\u001b[49m\u001b[43m \u001b[49m\u001b[43menv\u001b[49m\u001b[43m,\u001b[49m\n\u001b[32m   1028\u001b[39m \u001b[43m                        \u001b[49m\u001b[43mstartupinfo\u001b[49m\u001b[43m,\u001b[49m\u001b[43m \u001b[49m\u001b[43mcreationflags\u001b[49m\u001b[43m,\u001b[49m\u001b[43m \u001b[49m\u001b[43mshell\u001b[49m\u001b[43m,\u001b[49m\n\u001b[32m   1029\u001b[39m \u001b[43m                        \u001b[49m\u001b[43mp2cread\u001b[49m\u001b[43m,\u001b[49m\u001b[43m \u001b[49m\u001b[43mp2cwrite\u001b[49m\u001b[43m,\u001b[49m\n\u001b[32m   1030\u001b[39m \u001b[43m                        \u001b[49m\u001b[43mc2pread\u001b[49m\u001b[43m,\u001b[49m\u001b[43m \u001b[49m\u001b[43mc2pwrite\u001b[49m\u001b[43m,\u001b[49m\n\u001b[32m   1031\u001b[39m \u001b[43m                        \u001b[49m\u001b[43merrread\u001b[49m\u001b[43m,\u001b[49m\u001b[43m \u001b[49m\u001b[43merrwrite\u001b[49m\u001b[43m,\u001b[49m\n\u001b[32m   1032\u001b[39m \u001b[43m                        \u001b[49m\u001b[43mrestore_signals\u001b[49m\u001b[43m,\u001b[49m\n\u001b[32m   1033\u001b[39m \u001b[43m                        \u001b[49m\u001b[43mgid\u001b[49m\u001b[43m,\u001b[49m\u001b[43m \u001b[49m\u001b[43mgids\u001b[49m\u001b[43m,\u001b[49m\u001b[43m \u001b[49m\u001b[43muid\u001b[49m\u001b[43m,\u001b[49m\u001b[43m \u001b[49m\u001b[43mumask\u001b[49m\u001b[43m,\u001b[49m\n\u001b[32m   1034\u001b[39m \u001b[43m                        \u001b[49m\u001b[43mstart_new_session\u001b[49m\u001b[43m,\u001b[49m\u001b[43m \u001b[49m\u001b[43mprocess_group\u001b[49m\u001b[43m)\u001b[49m\n\u001b[32m   1035\u001b[39m \u001b[38;5;28;01mexcept\u001b[39;00m:\n\u001b[32m   1036\u001b[39m     \u001b[38;5;66;03m# Cleanup if the child failed starting.\u001b[39;00m\n",
      "\u001b[36mFile \u001b[39m\u001b[32m/usr/lib/python3.11/subprocess.py:1955\u001b[39m, in \u001b[36mPopen._execute_child\u001b[39m\u001b[34m(self, args, executable, preexec_fn, close_fds, pass_fds, cwd, env, startupinfo, creationflags, shell, p2cread, p2cwrite, c2pread, c2pwrite, errread, errwrite, restore_signals, gid, gids, uid, umask, start_new_session, process_group)\u001b[39m\n\u001b[32m   1954\u001b[39m \u001b[38;5;28;01mif\u001b[39;00m err_filename \u001b[38;5;129;01mis\u001b[39;00m \u001b[38;5;129;01mnot\u001b[39;00m \u001b[38;5;28;01mNone\u001b[39;00m:\n\u001b[32m-> \u001b[39m\u001b[32m1955\u001b[39m     \u001b[38;5;28;01mraise\u001b[39;00m child_exception_type(errno_num, err_msg, err_filename)\n\u001b[32m   1956\u001b[39m \u001b[38;5;28;01melse\u001b[39;00m:\n",
      "\u001b[31mFileNotFoundError\u001b[39m: [Errno 2] No such file or directory: 'tesseract'",
      "\nDuring handling of the above exception, another exception occurred:\n",
      "\u001b[31mTesseractNotFoundError\u001b[39m                    Traceback (most recent call last)",
      "\u001b[36mCell\u001b[39m\u001b[36m \u001b[39m\u001b[32mIn[1]\u001b[39m\u001b[32m, line 10\u001b[39m\n\u001b[32m      8\u001b[39m pix = page.get_pixmap()\n\u001b[32m      9\u001b[39m img = Image.open(io.BytesIO(pix.tobytes()))\n\u001b[32m---> \u001b[39m\u001b[32m10\u001b[39m text = \u001b[43mpytesseract\u001b[49m\u001b[43m.\u001b[49m\u001b[43mimage_to_string\u001b[49m\u001b[43m(\u001b[49m\u001b[43mimg\u001b[49m\u001b[43m)\u001b[49m  \u001b[38;5;66;03m# OCR em português\u001b[39;00m\n\u001b[32m     11\u001b[39m \u001b[38;5;28mprint\u001b[39m(text)\n",
      "\u001b[36mFile \u001b[39m\u001b[32m~/estudos/chat-with-pdf/my_env/lib/python3.11/site-packages/pytesseract/pytesseract.py:486\u001b[39m, in \u001b[36mimage_to_string\u001b[39m\u001b[34m(image, lang, config, nice, output_type, timeout)\u001b[39m\n\u001b[32m    481\u001b[39m \u001b[38;5;250m\u001b[39m\u001b[33;03m\"\"\"\u001b[39;00m\n\u001b[32m    482\u001b[39m \u001b[33;03mReturns the result of a Tesseract OCR run on the provided image to string\u001b[39;00m\n\u001b[32m    483\u001b[39m \u001b[33;03m\"\"\"\u001b[39;00m\n\u001b[32m    484\u001b[39m args = [image, \u001b[33m'\u001b[39m\u001b[33mtxt\u001b[39m\u001b[33m'\u001b[39m, lang, config, nice, timeout]\n\u001b[32m--> \u001b[39m\u001b[32m486\u001b[39m \u001b[38;5;28;01mreturn\u001b[39;00m \u001b[43m{\u001b[49m\n\u001b[32m    487\u001b[39m \u001b[43m    \u001b[49m\u001b[43mOutput\u001b[49m\u001b[43m.\u001b[49m\u001b[43mBYTES\u001b[49m\u001b[43m:\u001b[49m\u001b[43m \u001b[49m\u001b[38;5;28;43;01mlambda\u001b[39;49;00m\u001b[43m:\u001b[49m\u001b[43m \u001b[49m\u001b[43mrun_and_get_output\u001b[49m\u001b[43m(\u001b[49m\u001b[43m*\u001b[49m\u001b[43m(\u001b[49m\u001b[43margs\u001b[49m\u001b[43m \u001b[49m\u001b[43m+\u001b[49m\u001b[43m \u001b[49m\u001b[43m[\u001b[49m\u001b[38;5;28;43;01mTrue\u001b[39;49;00m\u001b[43m]\u001b[49m\u001b[43m)\u001b[49m\u001b[43m)\u001b[49m\u001b[43m,\u001b[49m\n\u001b[32m    488\u001b[39m \u001b[43m    \u001b[49m\u001b[43mOutput\u001b[49m\u001b[43m.\u001b[49m\u001b[43mDICT\u001b[49m\u001b[43m:\u001b[49m\u001b[43m \u001b[49m\u001b[38;5;28;43;01mlambda\u001b[39;49;00m\u001b[43m:\u001b[49m\u001b[43m \u001b[49m\u001b[43m{\u001b[49m\u001b[33;43m'\u001b[39;49m\u001b[33;43mtext\u001b[39;49m\u001b[33;43m'\u001b[39;49m\u001b[43m:\u001b[49m\u001b[43m \u001b[49m\u001b[43mrun_and_get_output\u001b[49m\u001b[43m(\u001b[49m\u001b[43m*\u001b[49m\u001b[43margs\u001b[49m\u001b[43m)\u001b[49m\u001b[43m}\u001b[49m\u001b[43m,\u001b[49m\n\u001b[32m    489\u001b[39m \u001b[43m    \u001b[49m\u001b[43mOutput\u001b[49m\u001b[43m.\u001b[49m\u001b[43mSTRING\u001b[49m\u001b[43m:\u001b[49m\u001b[43m \u001b[49m\u001b[38;5;28;43;01mlambda\u001b[39;49;00m\u001b[43m:\u001b[49m\u001b[43m \u001b[49m\u001b[43mrun_and_get_output\u001b[49m\u001b[43m(\u001b[49m\u001b[43m*\u001b[49m\u001b[43margs\u001b[49m\u001b[43m)\u001b[49m\u001b[43m,\u001b[49m\n\u001b[32m    490\u001b[39m \u001b[43m\u001b[49m\u001b[43m}\u001b[49m\u001b[43m[\u001b[49m\u001b[43moutput_type\u001b[49m\u001b[43m]\u001b[49m\u001b[43m(\u001b[49m\u001b[43m)\u001b[49m\n",
      "\u001b[36mFile \u001b[39m\u001b[32m~/estudos/chat-with-pdf/my_env/lib/python3.11/site-packages/pytesseract/pytesseract.py:489\u001b[39m, in \u001b[36mimage_to_string.<locals>.<lambda>\u001b[39m\u001b[34m()\u001b[39m\n\u001b[32m    481\u001b[39m \u001b[38;5;250m\u001b[39m\u001b[33;03m\"\"\"\u001b[39;00m\n\u001b[32m    482\u001b[39m \u001b[33;03mReturns the result of a Tesseract OCR run on the provided image to string\u001b[39;00m\n\u001b[32m    483\u001b[39m \u001b[33;03m\"\"\"\u001b[39;00m\n\u001b[32m    484\u001b[39m args = [image, \u001b[33m'\u001b[39m\u001b[33mtxt\u001b[39m\u001b[33m'\u001b[39m, lang, config, nice, timeout]\n\u001b[32m    486\u001b[39m \u001b[38;5;28;01mreturn\u001b[39;00m {\n\u001b[32m    487\u001b[39m     Output.BYTES: \u001b[38;5;28;01mlambda\u001b[39;00m: run_and_get_output(*(args + [\u001b[38;5;28;01mTrue\u001b[39;00m])),\n\u001b[32m    488\u001b[39m     Output.DICT: \u001b[38;5;28;01mlambda\u001b[39;00m: {\u001b[33m'\u001b[39m\u001b[33mtext\u001b[39m\u001b[33m'\u001b[39m: run_and_get_output(*args)},\n\u001b[32m--> \u001b[39m\u001b[32m489\u001b[39m     Output.STRING: \u001b[38;5;28;01mlambda\u001b[39;00m: \u001b[43mrun_and_get_output\u001b[49m\u001b[43m(\u001b[49m\u001b[43m*\u001b[49m\u001b[43margs\u001b[49m\u001b[43m)\u001b[49m,\n\u001b[32m    490\u001b[39m }[output_type]()\n",
      "\u001b[36mFile \u001b[39m\u001b[32m~/estudos/chat-with-pdf/my_env/lib/python3.11/site-packages/pytesseract/pytesseract.py:352\u001b[39m, in \u001b[36mrun_and_get_output\u001b[39m\u001b[34m(image, extension, lang, config, nice, timeout, return_bytes)\u001b[39m\n\u001b[32m    341\u001b[39m \u001b[38;5;28;01mwith\u001b[39;00m save(image) \u001b[38;5;28;01mas\u001b[39;00m (temp_name, input_filename):\n\u001b[32m    342\u001b[39m     kwargs = {\n\u001b[32m    343\u001b[39m         \u001b[33m'\u001b[39m\u001b[33minput_filename\u001b[39m\u001b[33m'\u001b[39m: input_filename,\n\u001b[32m    344\u001b[39m         \u001b[33m'\u001b[39m\u001b[33moutput_filename_base\u001b[39m\u001b[33m'\u001b[39m: temp_name,\n\u001b[32m   (...)\u001b[39m\u001b[32m    349\u001b[39m         \u001b[33m'\u001b[39m\u001b[33mtimeout\u001b[39m\u001b[33m'\u001b[39m: timeout,\n\u001b[32m    350\u001b[39m     }\n\u001b[32m--> \u001b[39m\u001b[32m352\u001b[39m     \u001b[43mrun_tesseract\u001b[49m\u001b[43m(\u001b[49m\u001b[43m*\u001b[49m\u001b[43m*\u001b[49m\u001b[43mkwargs\u001b[49m\u001b[43m)\u001b[49m\n\u001b[32m    353\u001b[39m     \u001b[38;5;28;01mreturn\u001b[39;00m _read_output(\n\u001b[32m    354\u001b[39m         \u001b[33mf\u001b[39m\u001b[33m\"\u001b[39m\u001b[38;5;132;01m{\u001b[39;00mkwargs[\u001b[33m'\u001b[39m\u001b[33moutput_filename_base\u001b[39m\u001b[33m'\u001b[39m]\u001b[38;5;132;01m}\u001b[39;00m\u001b[38;5;132;01m{\u001b[39;00mextsep\u001b[38;5;132;01m}\u001b[39;00m\u001b[38;5;132;01m{\u001b[39;00mextension\u001b[38;5;132;01m}\u001b[39;00m\u001b[33m\"\u001b[39m,\n\u001b[32m    355\u001b[39m         return_bytes,\n\u001b[32m    356\u001b[39m     )\n",
      "\u001b[36mFile \u001b[39m\u001b[32m~/estudos/chat-with-pdf/my_env/lib/python3.11/site-packages/pytesseract/pytesseract.py:280\u001b[39m, in \u001b[36mrun_tesseract\u001b[39m\u001b[34m(input_filename, output_filename_base, extension, lang, config, nice, timeout)\u001b[39m\n\u001b[32m    278\u001b[39m         \u001b[38;5;28;01mraise\u001b[39;00m\n\u001b[32m    279\u001b[39m     \u001b[38;5;28;01melse\u001b[39;00m:\n\u001b[32m--> \u001b[39m\u001b[32m280\u001b[39m         \u001b[38;5;28;01mraise\u001b[39;00m TesseractNotFoundError()\n\u001b[32m    282\u001b[39m \u001b[38;5;28;01mwith\u001b[39;00m timeout_manager(proc, timeout) \u001b[38;5;28;01mas\u001b[39;00m error_string:\n\u001b[32m    283\u001b[39m     \u001b[38;5;28;01mif\u001b[39;00m proc.returncode:\n",
      "\u001b[31mTesseractNotFoundError\u001b[39m: tesseract is not installed or it's not in your PATH. See README file for more information."
     ]
    }
   ],
   "source": [
    "import fitz\n",
    "import pytesseract\n",
    "from PIL import Image\n",
    "import io\n",
    "\n",
    "with fitz.open(\"/home/cristianomendieta/estudos/chat-with-pdf/case_files/WEG-CESTARI-manual-iom-guia-consulta-rapida-50111652-pt-en-es-web.pdf\") as doc:\n",
    "    for page in doc:\n",
    "        pix = page.get_pixmap()\n",
    "        img = Image.open(io.BytesIO(pix.tobytes()))\n",
    "        text = pytesseract.image_to_string(img)  # OCR em português\n",
    "        print(text)\n"
   ]
  },
  {
   "cell_type": "code",
   "execution_count": 10,
   "id": "7c020a08",
   "metadata": {},
   "outputs": [
    {
     "data": {
      "text/plain": [
       "'![](WEG-CESTARI-manual-iom-guia-consulta-rapida-50111652-pt-en-es-web.pdf-0-1.png)\\n#### **Guia de Consulta Rápida**\\n\\n\\n![](WEG-CESTARI-manual-iom-guia-consulta-rapida-50111652-pt-en-es-web.pdf-0-2.png)\\n### ������� �� ���������������\\n\\n![](WEG-CESTARI-manual-iom-guia-consulta-rapida-50111652-pt-en-es-web.pdf-2-0.png)\\n\\n![](WEG-CESTARI-manual-iom-guia-consulta-rapida-50111652-pt-en-es-web.pdf-2-1.png)\\n\\n![](WEG-CESTARI-manual-iom-guia-consulta-rapida-50111652-pt-en-es-web.pdf-2-2.png)\\n\\nRevisão/Revisión/Review:\\n02 - 09/2019\\n\\n**2**\\n\\n![](WEG-CESTARI-manual-iom-guia-consulta-rapida-50111652-pt-en-es-web.pdf-4-0.png)\\n\\n��������������������������������������������\\n### **������������������������** **������������������������������������������**\\n\\n**�������**\\n\\n������������������������� ��\\n\\n��������������������������������������� ��\\n\\n��������������� ��\\n\\n���������������������� ��\\n\\n����������������� ��\\n\\n������������� ��\\n\\n��������������� ��\\n\\n������������������������ ��\\n\\n������������ ��\\n\\n���������������������� ��\\n\\n��������������������������� ��\\n\\n*Check List* ��������������������������������������� ��\\n\\n**1**\\n\\n**PORTUGUÊS**\\n\\n**1.** **CONSIDERAÇÕES GERAIS**\\n\\nO objetivo deste manual é fornecer informações importantes que devem ser observadas durante o\\n\\ntransporte, armazenagem, instalação, operação e manutenção dos produtos WEG-CESTARI\\n\\n(redutores, motorredutores, partes e peças) e, por esse motivo, recomendamos ler atentamente as\\n\\ninstruções aqui contidas. A não observação das instruções indicadas neste manual, no manual do\\n\\nmotor (se fornecido) e do manual completo disponível no site: **www.wegcestari.com** na seção\\n\\n***“downloads”***, anula a garantia do produto e pode resultar em sérios danos pessoais e materiais.\\n\\nQuando tratar-se de motorredutor fornecido com motor WEG, o Manual de Instalação, Operação e\\n\\nManutenção do Motor encontra-se anexo a este manual e também deve ser atentamente observado.\\n\\nOs redutores são fornecidos com uma placa de identificação (Fig.1) e os motorredutores são\\n\\nfornecidos com duas placas de identificação, uma do redutor (Fig.1) e outra do motor (conforme padrão\\n\\ndo fabricante). As placas de identificação contêm símbolos e valores que determinam as\\n\\ncaracterísticas do redutor e do motor. São fixadas em local facilmente visível; confeccionadas em\\n\\nmaterial resistente às intempéries.\\n\\nOs dados contidos na Placa de Identificação do redutor são:\\n\\n� **Código:** Código do redutor ou motorredutor.\\n\\n� **Série:** Número de Série.\\n\\n� **P1:** Potência do Motor ou do Redutor (kW).\\n\\n� **rpm:** Rotação de saída do redutor.\\n\\n� **M2:** Torque de Saída (Nm).\\n\\n� **fs:** Fator de serviço.\\n\\n� **i:** Redução Total.\\n\\n� **Peso:** Peso do redutor sem o motor (kg).\\n\\n� **Óleo:** Tipo e Viscosidade do óleo a 40ºC.\\n\\n\\n� **P:** Posição de Trabalho e **Ano** de fabricação.\\n\\n� **TAG:** Espaço para Informações\\n\\n\\n![](WEG-CESTARI-manual-iom-guia-consulta-rapida-50111652-pt-en-es-web.pdf-5-0.png)\\n\\n**Figura 1**\\n\\n\\nOs motorredutores e redutores são fornecidos pintados com esmalte sintético padrão WEG-CESTARI\\n\\nou conforme solicitação específica do cliente.\\n\\n**2**\\n\\n**2.** **TRANSPORTE, MANUSEIO E ARMAZENAGEM**\\n\\nRecomendamos que, quando do recebimento do nosso produto (redutor/motorredutor e/ou partes e\\n\\npeças), seja verificado seu estado e se o mesmo corresponde ao especificado. Caso algum dano\\n\\ntenha sido constatado no produto, solicitamos a imediata comunicação formal do fato a transportadora\\n\\ne a WEG-CESTARI e nesse caso, nenhum trabalho de instalação deve ser iniciado antes que o\\n\\nproblema encontrado seja solucionado.\\n\\nQuando da movimentação de redutores/motorredutores, utilize corda, cabos, cintas e equipamentos\\n\\nde suspensão adequados para não pôr em risco vidas humanas e o próprio equipamento.\\n\\nOs redutores/motorredutores deverão ser movimentados utilizando-se do parafuso de suspensão\\n\\n(Fig.2A) e na inexistência deste, a unidade deverá ser suspensa através da carcaça do redutor\\n\\n(Fig.2B), em conjunto com o olhal do motor (Fig.2C) respeitando o ângulo máximo de 60º entre os\\n\\ncabos. Nunca suspenda o equipamento somente através do motor.\\n\\n![](WEG-CESTARI-manual-iom-guia-consulta-rapida-50111652-pt-en-es-web.pdf-6-0.png)\\n\\n![](WEG-CESTARI-manual-iom-guia-consulta-rapida-50111652-pt-en-es-web.pdf-6-1.png)\\n\\n![](WEG-CESTARI-manual-iom-guia-consulta-rapida-50111652-pt-en-es-web.pdf-6-2.png)\\n\\n**Figura 2A** **Figura 2B** **Figura 2C**\\n\\nAntes de levantar totalmente o redutor/motorredutor, certifique-se de estar a carga devidamente\\n\\nbalanceada. Todo manuseio do redutor/motorredutor deve ser realizado de maneira suave para evitar\\n\\nimpactos e danos no redutor/motorredutor, principalmente nas pontas dos eixos.\\n\\nOs produtos WEG-CESTARI (redutores, motorredutores, partes e peças) devem ser armazenados em\\n\\nsua embalagem original em ambiente fechado (não expostos diretamente aos raios solares ou raios\\n\\nUV), seco, protegido contra insetos, livre de poeira, umidade do ar inferior a 60%, isentos de gases,\\n\\nfungos, agentes corrosivos (ar contaminado, ozônio, gases, solventes, ácidos, alcalina, sais,\\n\\nradioatividade, etc.) e temperatura ambiente entre -5ºC a +40ºC.\\n\\n**3**\\n\\nOs redutores/motorredutores da WEG-CESTARI deverão ser armazenados na posição de trabalho\\n\\nespecificada e fornecida, em superfície plana sobre estrados ou em prateleiras apropriadas (não em\\n\\ncontato direto com o piso) e não disposto em local com trepidação e oscilações.\\n\\n**2.1** **Período sem funcionamento**\\n\\nOs redutores/motorredutores WEG-CESTARI saem de fábrica e devem ser postos em operação\\n\\ndentro do período máximo de 6 meses.\\n\\nPara períodos de 6 meses até 9 meses sem operação, é recomendado preencher todo interior do\\n\\nredutor com lubrificantes apropriados (lubrificante recomendado ver manual do produto disponível no\\n\\nsite: **www.wegcestari.com** na seção ***“downloads”*** ). Preencher o redutor com óleo até a parte\\n\\nsuperior (logo abaixo do respiro), garantindo assim, que todas suas engrenagens e rolamentos fiquem\\n\\nimersos em óleo. O eixo de entrada do redutor deverá ser girado no mínimo duas voltas completas e\\n\\neste procedimento deverá ser repetido, no mínimo, 1 vez a cada 2 meses.\\n\\n**NOTAS:** Antes da operação, o lubrificante do redutor/motorredutor deverá ser drenado até o nível\\n\\nadequado para operação (centro do visor de nível ou no nível quando do tipo bujão\\n\\nsextavado modelo HN10-WD – similar DIN 510)\\n\\nPara os redutores das linhas: Alumag, Magma M e WCG20, o volume adequado de\\n\\nlubrificante deve ser consultado no manual do produto disponível no site:\\n\\n**www.wegcestari.com** na seção ***“downloads”***\\n\\nProteger os retentores externamente com graxa e nos redutores que possuem vedação labirinto\\n\\n(“taconite”), para um período sem funcionamento acima de 6 meses, aplicar uma fina camada de graxa\\n\\nna superfície externa para prevenir ressecamento. A graxa deve ser removida antes do início da\\n\\noperação (graxa recomendada NLGI#2EP Texaco Multifak EP2 ou similar).\\n\\n**4**\\n\\n**����** **������������������������������**\\n\\n����������������������������������������������������������������������������������������������\\n\\n��������������������������������������������������������������������������������������\\n\\n��������������������������������������������������������������������������������������������\\n\\n���������������������������������������������������������\\n\\n������������������������������������������������������������������������������������������������\\n\\n�����������������������������������������\\n\\n������������������������������������������������������������������������������������������������\\n\\n���� **�** **�������������������** ���������� ***“downloads”*** ����������������������������������������\\n\\n**�����������������������������**\\n\\n������������������������������������������������������������������������������������\\n\\n�������������������������������������������������������������������������������������������\\n\\n��������������������\\n\\n����������������������������������������������������������������������������������������� *Volatile*\\n\\n*Corrosion Inhibitor* ������������������������������������������������������������������������\\n\\n����������������������������\\n\\n��������������������������������������������������������������������������������������������\\n\\n���������������������������������������������������������������������������������������\\n\\n����������������������������������������������� ��������������������� ��\\n\\n����������������������������������������������������������������������������\\n\\n�������������������������������������������������������������������������������������������\\n\\n����������������������������������������������������������������������������������������\\n\\n�������������������������������������������������������������������������������������������\\n\\n����������������������������������������������������������������������������������������\\n\\n�����������������������������������������������������������������������������������������������\\n\\n���������������������������������������������������������������������������������������������\\n\\n����������������������������������������������������������������������������������������\\n\\n**5**\\n\\n���������������������������������������������������������������������������������������\\n\\n���������������������������������������\\n\\n����������������������������������������������������������������������������������������������\\n\\n�������������������������������������������������������������������������������������������\\n\\n��������������������������������������������������\\n\\n**��������������������������������**\\n\\n����������������������������������������������������������������������������������������������\\n\\n�����������������������������������������������������������������������������������������������������\\n\\n�����������������������������\\n\\n���������������������������������������������������������������������������������������������\\n\\n�������������������������\\n\\n������������������������������������������������������������\\n\\n�����������������������������������������������������������������������������������������������\\n\\n�����������������������������������\\n\\n����������������������������������������������������������������������������������������������\\n\\n���������������������\\n\\n���������������������������������������������������������������������������� **��**\\n\\n**���������������** **�** **�** **�** ���������� ***“downloads”*** �������������������������������������\\n\\n�������������������������������������������������\\n\\n���������������������������������������������������������������������������������������������\\n\\n�����������������������������������������������������������������������������������������\\n\\n������������������ **�** **�������������������** ���������� ***“downloads”*** ���\\n\\n��������������������������������������������������������������������������������������������\\n\\n���������������������������������������������������������������������������������������\\n\\n������������\\n\\n�������������������������������������������������������������������������������������������\\n\\n���������������������������������������������������������������\\n\\n**6**\\n\\n**���** **�����������**\\n\\n���������������������������������������������������������������������������������������������\\n\\n�������������������������������������������������������������������������������������������\\n\\n��������������������������������������������������������\\n\\n![](WEG-CESTARI-manual-iom-guia-consulta-rapida-50111652-pt-en-es-web.pdf-10-0.png)\\n\\n����������������������������������������������������������������������\\n\\n�����������������������������������������������������������������������������������������������\\n\\n����������������������������������������������������������������������������������������������������\\n\\n**��������** ���������������������������������������������������������������������������������������\\n\\n��������������������������������������������������������������������������������������������\\n\\n�������������������������������������������������������������������������������������������������\\n\\n�����������������������������������������������������������������������\\n\\n**��������������������������������**\\n\\n**7** **��**\\n\\n\\n![](WEG-CESTARI-manual-iom-guia-consulta-rapida-50111652-pt-en-es-web.pdf-10-1.png)\\n�������������������������������������������������������������������������������������������\\n\\n![](WEG-CESTARI-manual-iom-guia-consulta-rapida-50111652-pt-en-es-web.pdf-11-0.png)\\n\\n����������������������������������������������������\\n\\n�������������������������������������������������������������������������������������������\\n\\n������������������������������������������������������������\\n\\n�����������������������������������������������������������������������������������������������������\\n\\n�������������������������������������������������������������������������������������������\\n\\n���������������������������������������������������������������������������������������������\\n\\n���������������������������������������������������������������������������������������������������\\n\\n��������������\\n\\n��������������������������������������������������������������������������������������������\\n\\n����������������������������������������������������������������������������������������������\\n\\n��������������������������������������������������������������������������������������������������\\n\\n�����������������������������������������������������������������������������������\\n\\n![](WEG-CESTARI-manual-iom-guia-consulta-rapida-50111652-pt-en-es-web.pdf-11-1.png)\\n\\n**������** ��� �� ���������������������������������\\n\\n��� ��� ���������������������������������������������������������\\n\\n��� ��� �����������������\\n\\n**8**\\n\\n**�������������������������**\\n\\n����������������������������������������������������������������������������������\\n\\n��������������������������������������������������������������������������������\\n\\n��������������������������������������������������������������������������������\\n\\n����������������������������������������������������������������������������\\n\\n������������������������������������������������������������������������������������������\\n\\n��������������������������������������������\\n\\n������������������������������������������������������������������������������������������������\\n\\n������������������������������������������������������������������������������������������������\\n\\n���������������������������������������������������������������������������������������������\\n\\n�������������������������\\n\\n![](WEG-CESTARI-manual-iom-guia-consulta-rapida-50111652-pt-en-es-web.pdf-12-0.png)\\n\\n� � � � � � � � �\\n\\n� � � � � � � � � �\\n\\n� � � � � � � � � �\\n\\n� � � � � � � � � � �\\n\\n� � � � � � � � � � �\\n\\n\\n����������������������������������������������������������������������������������������\\n\\n������������������������\\n\\n�����������������������������������������������������������������������������������\\n\\n��������������������������������������������������������������������������������������������������\\n\\n������������������������������������������������������������������������������������������������\\n\\n���������������������������������������������������������������������������������������\\n\\n�������������������������������������������������\\n\\n~~��~~ � ~~������������~~ � ~~���~~ � ~~��~~ � ~~������������~~ � ~~��~~ � ~~���������~~ � ~~��~~ � ~~����������~~ � ~~��������~~\\n\\n~~�����~~ � ~~��~~ � ~~�����~~ � ~~���������~~ � ~~���~~ � ~~����~~ � ~~��~~ � ~~���������~~ � ~~����������~~ � ~~������~~ � ~~�������~~\\n\\n~~����������~~ � ~~�~~ � ~~������~~ � ~~�����~~ � ~~��~~ � ~~�������~~ � ~~��~~ � ~~��������~~ � ~~��~~ � ~~�����������~~ � ~~���������~~\\n\\n~~��~~ � ~~������~~ � ~~��~~ � ~~����������~~ � ~~��~~ � ~~��������~~ � ~~���~~ � ~~������~~ � ~~��������~~ � ~~�����~~ � ~~����~~ � ~~����~~\\n\\n~~��������~~ � ~~������~~ � ~~��~~ � ~~���������~~ � ~~��~~ � ~~��������~~ � ~~����������~~ � ~~��~~ � ~~����~~ � ~~����~~ � ~~�~~ � ~~�������~~\\n\\n~~������������������������~~ �\\n\\n**9**\\n\\n\\n![](WEG-CESTARI-manual-iom-guia-consulta-rapida-50111652-pt-en-es-web.pdf-12-1.png)\\n\\n� � � � � � � � �\\n\\n� � � � � � � � � �\\n\\n� � � � � � � � � �\\n\\n� � � � � � � � � � �\\n\\n� � � � � � � � � � �\\n\\n������������������������������������������������������������������������������������������������\\n\\n������������������������������������������������������������������������������������������������\\n\\n��������������������������������������������������������������������������������������\\n\\n�����������������������������������������������������������������������������������������������\\n\\n���������������������������������������������������������\\n\\n![](WEG-CESTARI-manual-iom-guia-consulta-rapida-50111652-pt-en-es-web.pdf-13-0.png)\\n\\n������������������������������������������������������������������������������������������\\n\\n����������������������������������������������������������������������������������������������\\n\\n����������������������������������������������������������������������������������������������\\n\\n��������������������������������������������������������\\n\\n��������������������������������������������������������������������������������������������\\n\\n�����������������������������������������������������������������������������������������������\\n\\n���������������������������������������������������������������������������������������������\\n\\n���������������������������������������\\n\\n**10**\\n\\n\\n![](WEG-CESTARI-manual-iom-guia-consulta-rapida-50111652-pt-en-es-web.pdf-13-1.png)\\n\\n![](WEG-CESTARI-manual-iom-guia-consulta-rapida-50111652-pt-en-es-web.pdf-13-2.png)\\n����������������������������������������������������������������������������������������������������\\n\\n�������������������������������������������������������������������������������������\\n\\n���������������������������������������������������������������������������������������������\\n\\n������������������������������������������������������������������������������������������\\n\\n��������������������������������������������������������������������������������������������\\n\\n�����������������������������������������������������������������������������������������������\\n\\n������� � **������������������** ���������� ***“downloads”.***\\n\\n����������������������������������������������������������������������������������������\\n\\n�������������������������������������������������������������������������������������������\\n\\n�����������������������������������������������������������������������\\n\\n�������������������������������������������������������������������������������������������������\\n\\n���������������������������������������� **������������������** ���������� ***“downloads”*** ��\\n\\n������������������������������������������\\n\\n�����������������������������������������������������������������������������������������\\n\\n�����������������������������������������������������������������������������������������������\\n\\n����������������������������������������������������\\n\\n������������������������������������������������������������������������������������������������\\n\\n����������������������������������������������������������������������������������������\\n\\n���������������������������������������������������������������������������������������������\\n\\n������������������������������������������������������\\n\\n**�����** ����������������������������������������������������������������������������\\n\\n������������������������������������������������������������������������������������\\n\\n�������\\n\\n**11**\\n\\n**���** **�������������**\\n\\n���������������������������������������������������������������������������������������������������\\n\\n������������������������������������������������������������������������������������������������\\n\\n������������������������������������������������������������������������������������������������\\n\\n��������������������������������������������������������������������\\n\\n**�����** ���������������������������������������������������������������������������\\n\\n�������������������������������������������������������������������������������������\\n\\n����������������������������������������� **������������������** ����������\\n\\n***“downloads”.***\\n\\n����������������������������������������������������������������������������������������������������\\n\\n�����������������������������������������������������������������������������������������������\\n\\n**�����** ����������������������������������������������������������������������������\\n\\n��������������������������������������������������������������������������\\n\\n**������������������** � ��������� ***“downloads”***\\n\\n�����������������������������������������������������������������������������������������������������\\n\\n���������������������������������������������������������������������������������������������\\n\\n�������� � **���������������** **��** **�** � ��������� ***“downloads”*** ���\\n\\n������������������������������������������������������������������������������������������������\\n\\n���������������������������������������������������������������������������������������������\\n\\n�����������\\n\\n�����������������������������������������������������������������������������������������������\\n\\n����������������������������������������������������������������������������������������������������\\n\\n**������������������** ���������� ***“downloads”*** ���\\n\\n**12**\\n\\n�����������������������������������������������������������������������������������������������\\n\\n����������������\\n\\n|Ï/(2\\x03|Col2|7(03(5$785$\\x030Ë1,0$\\x03|Col4|\\n|---|---|---|---|\\n|7LSR\\x03|9LVFRVLGDGH\\x03|/XEULILFDomR\\x03<br>SRU\\x03,PHUVmR\\x03|/XEULILFDomR\\x03<br>)RUoDGD\\x03|\\n|0LQHUDO\\x03&/3\\x03|,62\\x039*\\x03\\x15\\x15\\x13\\x03|\\x0e\\x15\\x83&\\x03|\\x0e\\x1b\\x83&\\x03|\\n|0LQHUDO\\x03&/3\\x03|,62\\x039*\\x03\\x16\\x15\\x13\\x03|\\x0e\\x1a\\x83&\\x03\\x03|\\x0e\\x14\\x17\\x83&\\x03\\x03|\\n|6LQWpWLFR\\x03&/3\\x03<br>+&\\x03 3$2 \\x03|,62\\x039*\\x03\\x15\\x15\\x13\\x03|\\x10\\x18\\x83&\\x03|\\x0e\\x15\\x83&\\x03|\\n|6LQWpWLFR\\x03&/3\\x03<br>+&\\x03 3$2 \\x03|,62\\x039*\\x03\\x16\\x15\\x13\\x03|\\x13\\x83&\\x03\\x03|\\x0e\\x1b\\x83&\\x03\\x03|\\n|6LQWpWLFR\\x03&/3\\x03<br>+&\\x03 3$2 \\x03|,62\\x039*\\x03\\x17\\x19\\x13\\x03|\\x0e\\x19\\x83&\\x03\\x03|\\x10\\x10\\x10\\x03\\x10\\x10\\x10\\x03|\\n\\n\\n\\n�\\n\\n\\n�\\n\\n\\n�\\n\\n\\n�\\n\\n\\n�\\n\\n\\n�\\n\\n\\n�������������������������������������������������������������\\n\\n��������������������������������������������������������������������������������������������\\n\\n�����������������������\\n\\n���������������������������������������������������������������������������������������������\\n\\n��������������������������������������\\n\\n**�����** ����������������������������������������������������������������������������������\\n\\n���������������������������������\\n\\n�����������������������������������������������������������������������������������������\\n\\n����������������������������������������������������������������������������������������������\\n\\n����������������\\n\\n����������������������������������������������������������������������������������������������\\n\\n����������������������������� **������������������** � ��������� ***“downloads”*** �����������������������\\n\\n�����������������������������������������\\n\\n������������������������������������������������������������������������������������������\\n\\n��������\\n\\n**13**\\n\\n|7HPSHUDWXUD\\x03<br>GH\\x032SHUDomR\\x03|ÏOHR\\x030LQHUDO\\x03<br>&/3\\x03|ÏOHR\\x036LQWpWLFR\\x03<br>&/3\\x03+&\\x03<br>+LGURFDUERQV\\x03|ÏOHR\\x036LQWpWLFR\\x03<br>&/3\\x033*\\x03<br>3RO\\\\JO\\\\FRO\\x03|\\n|---|---|---|---|\\n|\\x1b\\x13\\x03\\x83&\\x03|\\x18\\x11\\x13\\x13\\x13\\x03KRUDV\\x03|\\x14\\x18\\x11\\x13\\x13\\x13\\x03KRUDV\\x03|\\x15\\x18\\x11\\x13\\x13\\x13\\x03KRUDV\\x03|\\n|\\x1b\\x18\\x03\\x83&\\x03|\\x16\\x11\\x18\\x13\\x13\\x03KRUDV\\x03|\\x14\\x13\\x11\\x13\\x13\\x13\\x03KRUDV\\x03|\\x14\\x1b\\x11\\x13\\x13\\x13\\x03KRUDV\\x03|\\n|\\x13\\x03\\x83&\\x03|\\x15\\x11\\x18\\x13\\x13\\x03KRUDV\\x03|\\x1a\\x11\\x18\\x13\\x13\\x03KRUDV\\x03|\\x14\\x16\\x11\\x13\\x13\\x13\\x03KRUDV\\x03|\\n|\\x18\\x03\\x83&\\x03|\\x10\\x10\\x10\\x03\\x10\\x10\\x10\\x03|\\x19\\x11\\x13\\x13\\x13\\x03KRUDV\\x03|\\x1b\\x11\\x18\\x13\\x13\\x03KRUDV\\x03|\\n|\\x14\\x13\\x13\\x03\\x83&\\x03|\\x10\\x10\\x10\\x03\\x10\\x10\\x10\\x03|\\x16\\x11\\x1b\\x13\\x13\\x03KRUDV\\x03|\\x19\\x11\\x13\\x13\\x13\\x03KRUDV\\x03|\\n|\\x14\\x13\\x18\\x03\\x83&\\x03|\\x10\\x10\\x10\\x03\\x10\\x10\\x10\\x03|\\x15\\x11\\x18\\x13\\x13\\x03KRUDV\\x03|\\x17\\x11\\x13\\x13\\x13\\x03KRUDV\\x03|\\n|\\x14\\x14\\x13\\x03\\x83&\\x03|\\x10\\x10\\x10\\x03\\x10\\x10\\x10\\x03|\\x15\\x11\\x13\\x13\\x13\\x03KRUDV\\x03|\\x16\\x11\\x13\\x13\\x13\\x03KRUDV\\x03|\\n\\n\\n**�����** ���������������������������������������������������������������������������������������\\n\\n�������������������������������������������������������������������������������\\n\\n**����** **���������������������������������������������������������**\\n\\n�����������������������������������������������������������������������������������������������\\n\\n������������������������������������������������������������������������������\\n\\n����������������������������������������������������������������\\n\\n�������������������������������������������������������������������������\\n\\n������������������������������������������������������������������\\n\\n�������������������������������������������������������������������\\n\\n���������������������������������������������������������������������\\n\\n����������������������������������������������������������������������\\n\\n![](WEG-CESTARI-manual-iom-guia-consulta-rapida-50111652-pt-en-es-web.pdf-17-0.png)\\n\\n�������������������������������������������������������������������������������������������������\\n\\n�����������������������������������������������������������������������������������������������\\n\\n��������������������������������������������������������������������������������������������������\\n\\n���������������������������������������������������������������������������������\\n\\n������������������������������������������������������������������������������������������\\n\\n������������������������������������������������������������������������������������������������\\n\\n**14**\\n\\n![](WEG-CESTARI-manual-iom-guia-consulta-rapida-50111652-pt-en-es-web.pdf-18-0.png)\\n\\nNo start-up do equipamento é bem possível e provável que ocorra\\n\\numa pressão mais elevada acusando “entupimento” do elemento\\n\\nfiltrante. Após poucas horas de funcionamento, a pressão do sistema\\n\\ndeverá cair para a faixa de trabalho de 0,8bar a 8bar.\\n\\nQuando o sistema de lubrificação for elétrico, o motor da bomba deve\\n\\nser acionado antes do motor principal para evitar falta de lubrificação\\n\\nnos componentes. Para a lubrificação mecânica, a rotação de\\n\\nentrada do redutor deve ser a especificada em projeto (ver\\n\\ndimensional e dados de entrada do redutor) com variação máxima de\\n\\n+/- 7% para evitar a deficiência na vazão dimensionada para o\\n\\nredutor.\\n\\n![](WEG-CESTARI-manual-iom-guia-consulta-rapida-50111652-pt-en-es-web.pdf-18-1.png)\\n\\nO sistema de refrigeração pode ser por serpentina imersa no óleo lubrificante; trocador de calor casco\\ntubo água-óleo ou radiador ar-óleo. A temperatura da água na entrada do trocador de calor ou\\n\\nserpentina deve ser máximo 30°C.\\n\\nPara redutor com sistema de lubrificação forçada, após abastecer o redutor de óleo até a metade do\\n\\nvisor, acionar o sistema para encher todo o circuito, e completar novamente com óleo até a metade\\n\\ndo visor.\\n\\nConsultar a WEG-CESTARI para obtenção da vazão e qualidade de água recomendada; manutenção,\\n\\ninstalação e maiores informações dos sistemas de refrigeração e lubrificação.\\n\\n**15**\\n\\n**���** **���������**\\n\\n�����������������������������������������������������������������������������������������������������\\n\\n���������������������������������������������������������������������������������������������\\n\\n�������� � **���������������** **��** **�** � ��������� ***“downloads”*** ���\\n\\n�����������������������������������������������������������������������������������������������\\n\\n�����������������������������������������������������������������������������������������\\n\\n����������������������������������������������������������������������������������������������������\\n\\n����������������������������������������\\n\\n�������������������������������������������������������������������������������������������������\\n\\n��������������������������������������������������������������������������������������\\n\\n���������������������������������������������������������������������������������������������\\n\\n�������������������������������������������������������������������������������������������\\n\\n��������������������������������������������������������\\n\\n![](WEG-CESTARI-manual-iom-guia-consulta-rapida-50111652-pt-en-es-web.pdf-19-0.png)\\n\\n� �\\n\\n\\n����������������������������������������������������������������������\\n\\n�����������������������������������������������������������������������������������������������������\\n\\n������������������������������������������������������������������������\\n\\n**16**\\n\\n**6.** **MANUTENÇÃO**\\n\\nA manutenção preventiva periódica visa principalmente verificar as condições de funcionamento do\\n\\nmotorredutor/redutor. Ela deve ser executada por pessoas qualificadas.\\n\\nNão existem regras rígidas a serem seguidas quando se aborda programas de inspeção. Os\\n\\nperíodos ou intervalos, os tipos de exames a serem realizados podem ser prolongados ou reduzidos\\n\\nde acordo com as condições de trabalho e local onde está instalado o redutor.\\n\\nRecomenda-se que cada motorredutor/redutor possua algum tipo de anotação própria, como ficha,\\n\\ncartões ou etiqueta. O importante é registrar todas as manutenções executadas, as peças trocadas e\\n\\nas datas em que foram realizadas. A análise destas anotações permitiria remanejos e acertos no\\n\\nprograma de manutenção.\\n\\nNa tabela abaixo é apresentado um programa básico para inspeção, contendo os itens a serem\\n\\ninspecionados e os intervalos de tempos sugeridos; porém, tais intervalos são flexíveis, prolongados\\n\\nou reduzidos, de acordo com as condições do local onde está instalado o motorredutor/redutor:\\n\\nRoteiro de Manutenção\\n\\n\\n~~**Itens**~~ ~~**a**~~ ~~**verificar**~~\\n\\n**Condi** **ç** **ões**\\n**mecânicas**\\n\\n**Local onde está**\\n\\n**instalado o**\\n\\n**motorredutor**\\n\\n~~**N**~~ ~~**í**~~ ~~**vel**~~ ~~**de**~~ ~~**ó**~~ ~~**leo**~~\\n\\n**Parafusos de fixação**\\n**do motorredutor**\\n\\n**Terminais**\\n\\n~~**e**~~\\n**parafusos**\\n\\n**Condições**\\n**mecânicas**\\n\\n\\nExaminar a presença de ruídos ou vibrações anormais,vaza~~mento~~ ~~de~~ ~~óleo~~, ~~inspecionar~~ ~~também~~ ~~as~~ ~~condições~~ ~~do~~ ~~sistema~~\\nde transmissão verificando lubrificação e alinhamento\\n\\nIdentificar a existência de água ou vapores junto ao motorredutor, excesso de poeira, aparas ou resíduos, verificar o\\nrespiro do redutor, desentupindo-o se for o caso, verificar as\\ncondições de ventilação do motor elétrico.\\n\\n~~Verifique~~ ~~o~~ ~~nível~~ ~~de~~ ~~óleo~~ ~~e~~, ~~se~~ ~~necessário~~ ~~complete-o~~ .\\n\\nVerificar se por vibração não houve afrouxamento\\ndos parafusos de fixação do motorredutor.\\n\\nObservar se, por vibração não houve o afrouxamento dos\\n~~parafusos~~ ~~e~~ ~~pontes~~ ~~de~~ ~~ligação~~, ~~tornando~~ ~~deficiente~~ ~~o~~ ~~contato~~\\ne prejudicando o fornecimento de energia.\\n\\nExaminar as condições, dos elementos de transmissão,\\nsubstituindo-os se necessário, limpando a carcaça e tampas\\ndo motorredutor.\\nVerificar se há falta de alinhamento ou algo atritando.\\n\\n\\n~~**Procedimentos**~~ ~~**Periodicidade**~~\\n\\n\\n~~**Semanal**~~\\n\\n**Semanal**\\n\\n~~**Semanal**~~\\n\\n**Mensal**\\n\\n~~**Mensal**~~\\n\\n**Semestral**\\n\\n\\n**17**\\n\\n|MEDIDAS CORRETIVAS|Verifique a capacidade indicada na plaqueta do redutor, substitua por uma unidade de capacidade suficiente, ou reduza a carga.|Verifique o nível de óleo, ajuste o nível para a posição correta.|Col4|Drene e encha novamente para o nível de óleo adequado, com o óleo indicado na plaqueta do redutor ou similar.|Cheque o nível e drene para o nível indicado.|Limpe ou substitua o respirador, use um solvente não inflamável para limpeza.|Substitua os retentores gastos por novos. Aplique nova camada de vedação, permatex ou equivalente, monte o conjunto. Monte sempre os retentores com graxa nos lábios de vedação.|Verifique o aperto dos parafusos e se os chumbadores estão firmes em suas fundações ou estruturas. Cheque o alinhamento da unidade e as folhas distanciadoras ou calços.|Substitua os rolamentos gastos, limpe todo o interior do redutor e recoloque óleo novo, conforme o especificado.|Substitua os rolamentos gastos, cheque e repare folgas nos rolamentos, alinhamento dos acoplamentos e cargas sobre os eixos dos redutores.|Col12|Cheque as cargas, troque as engrenagens ou substitua por redutor de capacidade adequada.|Cheque o nível de óleo complete para o nível indicado|Inspecione o redutor contra partes quebradas, perda de parafusos, porcas ou roscas danificadas. Verifique o alinhamento com a máquina acionada. Cheque as chavetas e tolerâncias.|Cheque velocidades indicadas na plaqueta. Verifique as tensões.|Substitua rolamentos gastos. Limpe todo o interior da caixa, alimente a unidade com óleo recomendado.|Substitua engrenagens e chavetas gastas. Aperte todos os parafusos da unidade.|\\n|---|---|---|---|---|---|---|---|---|---|---|---|---|---|---|---|---|---|\\n|CAUSAS|Carga excede a capacidade do redutor.|Volume de óleo insuficiente.|Óleo em demasia no redutor provoca excessiva agitação, geração de calor e gases no interior da caixa.|Óleo fora de especificação.|Quantidade excessiva de óleo.|Respirador para entrada de ar e saída de gases obstruído.|Camadas de vedação entre as superfícies das caixas insuficientes.|Instalação invertida|Fadiga dos rolamentos, verifique desgaste nas esferas, rolos ou pistas. Desgaste pode ser por sujeira no óleo.|Pistas dos rolamentos com descascamentos, marcadas ou com flancos machucados geralmente indicam sobrecarga.|Falha nas gaiolas dos rolamentos também indicam sobrecarga.|Sobrecarga causa Pitting dos dentes (escovação, pequenos furos).|Óleo abaixo do nivel normal pode causar barulho.|Choques excessivos ou conexão imperfeita com outros elementos.|Tensão excessiva nas correias ou correntes de acionamentos.|Rolamento expostos a elementos abrasivos causam desgaste nas esferas, rolos e pistas.|Engrenagens e chavetas gastas ou perda dos parafusos causam blacklash (folga no engrenamento); blacklash aumenta com o número de jogos de engrenagem.|\\n|CAUSAS|Sobrecarga|Lubrificação imprópria|Lubrificação imprópria|Lubrificação imprópria|Retentores gastos ou defeituosos|Retentores gastos ou defeituosos|Retentores gastos ou defeituosos|Irreguraridades nos parafusos de fixação|Falha nos rolamentos|Falha nos rolamentos|Falha nos rolamentos|Excessivo desgaste das engrenagens|Quantidade de óleo insuficiente|Perdas de partes|Alta velocidade dos eixos|Alta velocidade dos eixos|Alta velocidade dos eixos|\\n|SINTOMAS|Aquecimento excessivo|Aquecimento excessivo|Aquecimento excessivo|Aquecimento excessivo|Perda de óleo|Perda de óleo|Perda de óleo|Barulho excessivo e vibração|Barulho excessivo e vibração|Barulho excessivo e vibração|Barulho excessivo e vibração|Barulho excessivo e vibração|Barulho excessivo e vibração|Barulho excessivo e vibração|Barulho excessivo e vibração|Folga excessivas de eixos|Folga excessivas nas engrenagens|\\n\\n\\n**18**\\n\\n**���** **��������**\\n\\n�����������������������������������������������������������������������������������������������\\n\\n��������������������������������������������������������������������������������������������������\\n\\n����������������������������������������\\n\\n�������������������������������������������������������������������������������������������������\\n\\n**������������������** ���������� ***“Relacionamento”, “Canais de Vendas”*** ��������������������������\\n\\n���������� **�������** � **���������������������** ��\\n\\n���������������������������������������������������������������������������������������������\\n\\n������������������������������������������������������������������������������������������\\n\\n������������������������������������������������������������������������������������������\\n\\n������������������������������������������������������\\n\\n**�����** �������������������������������������������������������������������������������\\n\\n���������������������������������������������\\n\\n**19**\\n\\n**���** **������������������**\\n\\n��������������������������������������������������������������������������������������\\n\\n�� **���������** ���������������������������������������������������������������������\\n\\n�� **���������** ��������������������������������������������������������������������\\n\\n**�������**\\n\\n���������������������������������������������������������������������������������������������\\n\\n���������������������������������������������������������������������������������������\\n\\n�����������������\\n\\n����������������������������������������������������������������������������������������������\\n\\n����������������������������������������������������������������\\n\\n��������������������������������������������������������������������������������������\\n\\n���������������������\\n\\n�����������������������������������������������������������������������������������������\\n\\n������������������������������������������������������������������������������������������\\n\\n�����������������������������������������������������������������������������������������������\\n\\n�����������������������������������������������������������������������������������������������\\n\\n����������������\\n\\n�����������������������������������������������������������������������������������������������\\n\\n����������������������������������������������������������������������������������������������\\n\\n������������������������������������������������������������������������������������������������\\n\\n��������������������������������������������������������������������������������������������\\n\\n�������������������������������������������������������������������������\\n\\n��������������������������������������������������������������������������������������������\\n\\n�������������������������������������������������������������������������������������������������\\n\\n���������������������������������\\n\\n**20**\\n\\n�������������������������������������������������������������������������������������������������\\n\\n��������������������������������������������������������������������������������������������\\n\\n���������������������������������������������������������������������������������������������\\n\\n������������������������������������������������������������������������������\\n\\n����������������������������������������������������\\n\\n������������������������������������������������������������������������������������������������\\n\\n���������������������������������������\\n\\n����������������������������������������������������������������������������������������\\n\\n��������������������������������������������������������������������������\\n\\n����������������������������������������������������������������������������������������������\\n\\n�����������������������������������������������������������������������������������������\\n\\n�������������������������������������������������������������������������������������������\\n\\n����������\\n\\n����������������������������������������������������������������������������������������\\n\\n��������������\\n\\n���������������������������������������������������������������������������������������\\n\\n��������������\\n\\n�������������������������������������������������������������������������������������������\\n\\n���������\\n\\n��������������������������������������������������������������������������������������������\\n\\n������������\\n\\n����������������������������������������������������\\n\\n����������������������������������������������������������������������������������������������\\n\\n�����������������������������\\n\\n�������������������������������������������������������������������������\\n\\n������������������������������������������������������������������������\\n\\n�������������������������������������������������������������������������������\\n\\n��������������������������������������������������������������������������������������������\\n\\n�������������������������������������������������������������������\\n\\n�����������������������������������������������������������\\n\\n����������������������������������������������\\n\\n**21**\\n\\n�����������������������������������������������������������������������������������������������\\n\\n������������������������������������������������\\n\\n�������������������������������������������������������������������������������������������\\n\\n����������������������������������������������������������������������������������������������\\n\\n����������������������������������������������������������������������������������������������\\n\\n�����������������������������������������������������������������������������������������\\n\\n��������������������������������������������������������������������������������������������\\n\\n����������������������������������������������������������������������������������������������\\n\\n���������������������������������������������������������������������������������������\\n\\n������������������������������������������������������������������������������������������\\n\\n���������\\n\\n����������������������������������������������������������������������������������������������\\n\\n���������������������������������������������������������������������������������������\\n\\n������������������������������������������������������������������������������������������������\\n\\n����������������������������������������������������������������������������������\\n\\n�����������������������������������������������������������������������������������\\n\\n�������������������������������������������������������������������������������������������\\n\\n��������������������������������������������������������������������������������������������\\n\\n���������������������������������������������������\\n\\n**22**\\n\\n**9.** **ORIENTAÇÕES AMBIENTAIS**\\n\\nOs produtos fabricados pela WEG-CESTARI atendem aos requisitos legais e ambientais definidos\\n\\npela empresa e como parte integrante do nosso Sistema de Gestão Ambiental, as informações\\n\\nreferentes à reciclagem dos nossos produtos são disponibilizadas neste Manual:\\n\\n� **Carcaças, Acoplamentos, Tampas, etc. (Ferro Fundido, Aço ou Alumínio):**\\n\\nSão 100% recicláveis e devem ser destinadas para fundições\\n\\n� **Eixos, Engrenagens, Pinhões, etc. (Aço):**\\n\\nSão 100% recicláveis e devem ser destinadas para siderúrgicas\\n\\n� **Coroas (Bronze):**\\n\\nSão 100% recicláveis e devem ser destinadas para fundições\\n\\n� **Óleos:**\\n\\nDevem ser destinados para rerrefino em empresas devidamente autorizadas\\n\\n� **Vedações (Borracha):**\\n\\nDevem ser destinadas a empresas devidamente licenciadas pelo órgão ambienta responsável\\n\\n(aterro classe II)\\n\\n� **Elementos Elásticos:**\\n\\nSão 100% recicláveis e devem ser destinadas para empresas recicladoras\\n\\n� **Embalagens:**\\n\\n**Madeira:** São fabricadas com madeira de reflorestamento e podem ser reutilizadas ou\\n\\ndestinadas como combustível em caldeiras quando não contaminadas (com óleo,\\n\\ngraxa, tinta).\\n\\n**Papelão:** São 100% recicláveis quando não contaminadas (com óleo, graxa, tinta) e devem\\n\\nser destinadas para empresas recicladoras.\\n\\n**NOTA:** Se algum material estiver contaminado com óleo, graxa, tinta, o mesmo deve ser\\n\\ndestinado a empresas devidamente licenciadas pelo órgão ambiental\\n\\nresponsável.\\n\\n**23**\\n\\n## **Check List - Instalação e Montagem de Redutores**\\n\\n**••••••••••••••••••••••••••••••••••••••••••••••••••••••••••••••••••••••••••••••**\\n### **Recebimento**\\n\\n**Verificação da Pintura**\\n\\nVerificar existência de riscos, descascamento e outras imperfeições\\n\\n**Verificação de Oxidação**\\n\\nVerificar presença de pontos ou áreas oxidadas no redutor e/ou\\n\\nacessórios\\n\\n**Verificação de Vazamentos**\\n\\nVerificar presença de óleo em retentores, tampas e junções\\n\\n**Verificação de Proteção de Partes Usinadas**\\nVerificar se partes usinadas estão protegidas com óleo protetor\\n\\n**Verificação de Componentes**\\nVerificar se componentes utilizados na montagem estão presentes\\n\\n**Verificação de Lacres**\\n\\nVerificar se a válvula respiro está lacrada e se os componentes do\\n\\nSistema EasyLock estão lacrados\\n**Verificação de condições de armazenagem**\\n\\nVerificar se o redutor foi acondicionado conforme instrução do manual\\n\\ndo produto\\n### **Instalação**\\n\\n**Verificação da Posição de Trabalho**\\n\\nVerificar se o redutor está montado na posição para a qual foi fornecido\\n\\n**Verificação de Nível de Óleo Lubrificante**\\nRealizar a verificação de nível de óleo lubrificante conforme manual\\n\\ndo produto\\n**Verificação de Retirada do Lacre da Válvula Respiro**\\nVerificar se o lacre da válvula respiro foi completamente removido\\n\\nantes de colocar o redutor em operação\\n**Verificação dos Elementos de Vedação**\\nVerificar retentores, tampas e demais elementos de vedação para\\n\\nvazamentos e/ou defeitos/deformidades desses elementos\\n\\n**Verificação da Instalação do Redutor**\\nVerificar se a colocação do redutor na máquina acionada seguiu as\\n\\nrecomendações do manual do produto\\n\\n**24**\\n\\n**Verificação do Sistema Easy-Lock**\\nVerificar se o Sistema Easy-Lock foi instalado conforme instruções do\\n\\nmanual do produto\\n**Aplicação de Óleo Pretetivo em Partes Usinadas**\\nVerificar se foi aplicado óleo protetivo nas partes usinadas APÓS\\n\\n\\n![](WEG-CESTARI-manual-iom-guia-consulta-rapida-50111652-pt-en-es-web.pdf-28-0.png)\\n\\n![](WEG-CESTARI-manual-iom-guia-consulta-rapida-50111652-pt-en-es-web.pdf-28-1.png)\\n\\n\\n**25**\\n\\n**ANOTAÇÕES**\\n\\n��������������������������������������������������������������������������������\\n\\n��������������������������������������������������������������������������������\\n\\n��������������������������������������������������������������������������������\\n\\n��������������������������������������������������������������������������������\\n\\n��������������������������������������������������������������������������������\\n\\n��������������������������������������������������������������������������������\\n\\n��������������������������������������������������������������������������������\\n\\n��������������������������������������������������������������������������������\\n\\n��������������������������������������������������������������������������������\\n\\n��������������������������������������������������������������������������������\\n\\n��������������������������������������������������������������������������������\\n\\n��������������������������������������������������������������������������������\\n\\n��������������������������������������������������������������������������������\\n\\n��������������������������������������������������������������������������������\\n\\n��������������������������������������������������������������������������������\\n\\n��������������������������������������������������������������������������������\\n\\n��������������������������������������������������������������������������������\\n\\n��������������������������������������������������������������������������������\\n\\n��������������������������������������������������������������������������������\\n\\n��������������������������������������������������������������������������������\\n\\n��������������������������������������������������������������������������������\\n\\n��������������������������������������������������������������������������������\\n\\n��������������������������������������������������������������������������������\\n\\n��������������������������������������������������������������������������������\\n\\n��������������������������������������������������������������������������������\\n\\n��������������������������������������������������������������������������������\\n\\n���������������������������������������������������������������������������������\\n\\n**26**\\n\\n![](WEG-CESTARI-manual-iom-guia-consulta-rapida-50111652-pt-en-es-web.pdf-30-0.png)\\n\\n�������������������������������������������������\\n### **��������������������������**\\n\\n**���������������������������������������������������������**\\n\\n**�������**\\n\\n������������������������������ ��\\n\\n���������������������������������������������� ��\\n\\n���������������� ��\\n\\n���������������������� ��\\n\\n������������������ ��\\n\\n�������������� ��\\n\\n������������������ ��\\n\\n��������������������������� ��\\n\\n����������������� ��\\n\\n�������������������������� ��\\n\\n������������������������������ ��\\n\\n*Check List* ���������������������������������������� ��\\n\\n**27**\\n\\n**ESPAÑOL**\\n\\n**1.** **CONSIDERACIONES GENERALES**\\n\\nEl objetivo de este manual es suministrar informaciones importantes que deben ser observadas\\n\\ndurante el transporte, almacenamiento, instalación, operación y mantenimiento de los productos WEG\\nCESTARI (reductores, motorreductores, partes y piezas) y, por ese motivo, recomendamos leer\\n\\natentamente las instrucciones aquí contenidas. El no seguimiento de las instrucciones indicadas en\\n\\neste manual, en el manual del motor (siendo suministrado) y del manual completo disponible en el sitio\\n\\nweb: **www.wegcestari.com** en la sección ***“downloads”***, anula la garantía del producto, resultando\\n\\nen serios daños personales y materiales.\\n\\nCuando se trate de motorreductor suministrado con motor WEG, el Manual de Instalación, Operación\\n\\ny Mantenimiento del Motor se encuentra adjunto a este manual, debiendo, también, ser seguido\\n\\natentamente.\\n\\nLos reductores son suministrados con una placa de identificación (Fig.1) mientras que los\\n\\nmotorreductores son suministrados con dos placas de identificación, una del reductor (Fig.1) y otra del\\n\\nmotor (estándar del fabricante). Las placas de identificación contienen símbolos y valores que\\n\\ndeterminan las características del reductor y del motor. Son fijadas en local fácilmente visible; hechas\\n\\nde material resistente a intemperies.\\n\\nLos datos contenidos en la Placa de Identificación del reductor son:\\n\\n� **Código:** Código del reductor o motorreductor.\\n\\n� **Serie:** Numero de serie.\\n\\n� **P1:** Potencia del Motor o Reductor (kW).\\n\\n� **rpm:** Rotación de salida del reductor (rpm).\\n\\n� **M2:** Par de salida (Nm).\\n\\n� **fs:** Factor de servicio.\\n\\n� **i:** Reducción total.\\n\\n� **Peso:** Peso del reductor sin motor (kg).\\n\\n� **Aceite:** Tipo y Viscosidad del aceite a 40ºC.\\n\\n\\n� **P:** Posición de Trabajo y **Año** de fabricación\\n\\n� **TAG:** Espacio para Información.\\n\\n\\n![](WEG-CESTARI-manual-iom-guia-consulta-rapida-50111652-pt-en-es-web.pdf-31-0.png)\\n\\n**Figura 1**\\n\\n\\nLos motorreductores y reductores son suministrados pintados con esmalte sintético estándar WEG\\nCESTARI, o de acuerdo a la solicitud específica del cliente.\\n\\n**28**\\n\\n**2.** **TRANSPORTE, MANIPULACIÓN Y ALMACENAMIENTO**\\n\\nRecomendamos que, al recibir nuestro producto (reductor/motorreductor y/o partes y piezas), sea\\n\\nverificado su estado y si el producto corresponde al especificado. En caso de que haya sido constatado\\n\\nalgún daño en el producto, solicitamos la inmediata comunicación formal del hecho a la transportadora\\n\\ny a WEG-CESTARI, en ese caso, no deberá ser iniciado ningún trabajo de instalación, antes de que\\n\\nel problema encontrado sea solucionado.\\n\\nTratándose del movimiento de los reductores/motorreductores, utilice cuerda, cables, cintas y equipos\\n\\nde suspensión adecuados para no poner en riesgo vidas humanas o al propio equipo.\\n\\nLos reductores/motorreductores deberán ser movidos haciendo uso del cáncamo de izaje (Fig.2A),\\n\\nante la inexistencia de éste, la unidad deberá ser suspendida a través de la carcasa del reductor\\n\\n(Fig.2B), en conjunto con el cáncamo del motor (Fig.2C) respetando el ángulo máximo de 60º entre\\n\\nlos cables. Jamás izar el equipo solamente a través del motor.\\n\\n![](WEG-CESTARI-manual-iom-guia-consulta-rapida-50111652-pt-en-es-web.pdf-32-0.png)\\n\\n![](WEG-CESTARI-manual-iom-guia-consulta-rapida-50111652-pt-en-es-web.pdf-32-1.png)\\n\\n![](WEG-CESTARI-manual-iom-guia-consulta-rapida-50111652-pt-en-es-web.pdf-32-2.png)\\n\\n**Figura 2A** **Figura 2B** **Figura 2C**\\n\\nAntes de levantar totalmente el reductor/motorreductor, asegúrese de que la carga esté debidamente\\n\\nbalanceada. Toda manipulación del reductor/motorreductor debe ser realizada de manera suave, para\\n\\nasí evitar choques y daños en el reductor/motorreductor, principalmente en las puntas de los ejes.\\n\\nLos productos WEG-CESTARI (reductores, motorreductores, partes y piezas) deben ser almacenados\\n\\nen su embalaje original en ambiente cerrado (no expuestos directamente a los rayos solares o rayos\\n\\nUV), seco, protegido contra insectos, libre de polvo, humedad del aire inferior a 60%, exentos de\\n\\ngases, hongos, agentes corrosivos (aire contaminado, ozono, gases, solventes, ácidos, alcalina,\\n\\nsales, radioactividad, etc.) y a una temperatura ambiente entre -5ºC y +40ºC.\\n\\n**29**\\n\\nLos reductores/motorreductores de WEG-CESTARI deberán ser almacenados en la posición de\\n\\ntrabajo especificada y suministrada, en superficie plana, sobre tarimas o en estanterías apropiadas\\n\\n(no en contacto directo con el piso) ni dispuesto en local con trepidación u oscilaciones.\\n\\n**2.1** **Período sin funcionamiento**\\n\\nLos reductores/motorreductores WEG-CESTARI, al salir de fábrica, deberán ser puestos en operación\\n\\ndentro del período máximo de 6 meses.\\n\\nPara períodos desde 6 a 9 meses sin operación, es recomendado llenar todo interior del reductor con\\n\\nlubricantes apropiados (lubricante recomendado ver manual del producto disponible en el sitio:\\n\\n**www.wegcestari.com** en la sección ***“downloads”*** ). Llenar el reductor con aceite hasta la parte\\n\\nsuperior (por debajo del respiradero), garantizando así, que todos sus engranajes y rodamientos se\\n\\nqueden sumergidos en aceite. El eje de entrada del reductor deberá ser girado un mínimo de dos\\n\\nvueltas completas y este procedimiento deberá ser repetido, como mínimo, 1 vez cada 2 meses.\\n\\n**NOTAS:** Antes de la puesta en marcha, el lubricante del reductor/motorreductor deberá ser\\n\\ndrenado hasta el nivel adecuado para operación (centro del visor de nivel o en el nivel,\\n\\ncuando sea el tipo tapón sextavado modelo HN10-WD – similar DIN 510)\\n\\nPara los reductores de las líneas: Alumag, Magma M y WCG20, el volumen adecuado\\n\\nde lubricante debe ser consultado en el manual del producto, disponible en el sitio web:\\n\\n**www.wegcestari.com** en la sección ***“downloads”***\\n\\nProteger los retenes externamente con grasa y en los reductores que poseen sellado laberinto\\n\\n( *“Taconite”* ). Para un período sin funcionamiento mayor a 6 meses, aplicar una película de grasa en la\\n\\nsuperficie externa, para prevenir resecamiento. La grasa deberá ser removida antes del inicio de la\\n\\noperación (grasa recomendada NLGI#2EP Texaco Multifak EP2 o similar).\\n\\n**30**\\n\\n**����** **���������������������������������**\\n\\n�������������������������������������������������������������������������������������������������\\n\\n���������������������������������������������������������������������������������������������\\n\\n��������������������������������������������������������������������������������������������������\\n\\n�����������������������������������������������������������������������\\n\\n���������������������������������������������������������������������������������������������������\\n\\n������������������������������������������������������������������������\\n\\n�������������������������������������������������������������������������������������������������\\n\\n��������� **��** **������������������** ��������������� ***“downloads”*** ������������������������������\\n\\n**���������������������������������**\\n\\n���������������������������������������������������������������������������������������������\\n\\n��������������������������������������������������������������������������������������������������\\n\\n���������������������������\\n\\n�������������������������������������������������������������������������������������������\\n\\n� *Volatile Corrosion Inhibitor* �������������������������������������������������������������\\n\\n������������������������������������������������\\n\\n������������������������������������������������������������������������������������������������\\n\\n�����������������������������������������������������������������������������������������\\n\\n������������������������������������������������� ��������������������������� ���\\n\\n�����������������������������������������������������������������������������\\n\\n��������������������������������������������������������������������������������������������������\\n\\n����������������������������������������������������������������������������������������������\\n\\n���������������\\n\\n������������������������������������������������������������������������������������������������\\n\\n������������������������������������������������������������������������������������\\n\\n���������������������������������������������������������������������������������������������������\\n\\n�����������������������������������������������������������������������������������������������\\n\\n������������������������������������������������������������������������������������������\\n\\n����������������������������������������������������������������������������������������\\n\\n�������������������������������������������\\n\\n**31**\\n\\n�����������������������������������������������������������������������������������������������\\n\\n���������������������������������������������������������������������������������������������\\n\\n�������������������������������������������������������������\\n\\n**�������������������������������������������**\\n\\n������������������������������������������������������������������������������������������\\n\\n�����������������������������������������������������������������������������������������������\\n\\n���������������������������������������������������������\\n\\n�������������������������������������������������������������������������������������������������\\n\\n��������������\\n\\n����������������������������������������������������������������������\\n\\n���������������������������������������������������������������������������������\\n\\n������������������������������������������������������\\n\\n����������������������������������������������������������������������������������������������\\n\\n�������������������������������\\n\\n������������������������������������������������������������������������������������������� **��**\\n\\n**���������������** **�** **�** **�** � �������������� ***“downloads”*** �������������������������������������\\n\\n���������������������������������������������������������\\n\\n��������������������������������������������������������������������������������������������������\\n\\n����������������������������������������������������������������������������������������\\n\\n������������������������������������ **�** **�������������������** � �������������� ***“downloads”*** ���\\n\\n���������������������������������������������������������������������������������������������\\n\\n������������������������������������������������������������������������������������������\\n\\n��������������\\n\\n��������������������������������������������������������������������������������������������\\n\\n������������������������������������������������������������������������������\\n\\n**32**\\n\\n**���** **������������**\\n\\n���������������������������������������������������������������������������������������������������\\n\\n�����������������������������������������������������������������������������������������������\\n\\n������������������������������������������������������������������������������\\n\\n![](WEG-CESTARI-manual-iom-guia-consulta-rapida-50111652-pt-en-es-web.pdf-36-0.png)\\n\\n���������������������������������������������������������������������\\n\\n����������������������������������������������������������������������������������������������������\\n\\n����������������������������������������������������������������������������������������������������\\n\\n�����������\\n\\n**���������** ����������������������������������������������������������������������������������������\\n\\n���������������������������������������������������������������������������������������������\\n\\n���������������������������������������������������������������������������������������������\\n\\n���������������������������������������������������������������������������������������������������\\n\\n**��������������������������������**\\n\\n**��**\\n**33**\\n\\n\\n![](WEG-CESTARI-manual-iom-guia-consulta-rapida-50111652-pt-en-es-web.pdf-36-1.png)\\n��������������������������������������������������������������������������������������������������\\n\\n![](WEG-CESTARI-manual-iom-guia-consulta-rapida-50111652-pt-en-es-web.pdf-37-0.png)\\n\\n��������������������������������������������������\\n\\n������������������������������������������������������������������������������������������������\\n\\n����������������������������������������������������������������\\n\\n�����������������������������������������������������������������������������������������������������\\n\\n������������������������������������������������������������������������������������������������������\\n\\n����������������������������������������������������������������������������������������������\\n\\n��������������������������������������������������������������������������������������������������\\n\\n����������������������������������\\n\\n��������������������������������������������������������������������������������������������\\n\\n��������������������������������������������������������������������������������������������������\\n\\n�����������������������������������������������������������������������������������������������\\n\\n���������������������������������������������������������������������������������������������\\n\\n![](WEG-CESTARI-manual-iom-guia-consulta-rapida-50111652-pt-en-es-web.pdf-37-1.png)\\n\\n**�������** ��� �� ���������������������������������\\n\\n��� ��� �������������������������������������������������������������\\n\\n��� ��� ������������������\\n\\n**34**\\n\\n**���������������������������**\\n\\n��������������������������������������������������������������������������������\\n\\n�������������������������������������������������������������������������������\\n\\n�������������������������������������������������������������������������������\\n\\n������������������������������������������������������������������������\\n\\n�����������������������������������������������������������������������������������������\\n\\n�������������������������������������������������\\n\\n����������������������������������������������������������������������������������������������\\n\\n������������������������������������������������������������������������������������������\\n\\n�������������������������������������������������������������������������������������������������\\n\\n�����������������������������������������������������\\n\\n![](WEG-CESTARI-manual-iom-guia-consulta-rapida-50111652-pt-en-es-web.pdf-38-0.png)\\n\\n� � � � � � � � �\\n\\n� � � � � � � � � �\\n\\n� � � � � � � � � � �\\n\\n� � � � � � � � � �\\n\\n� � � � � � � � � � � � �\\n\\n� � � � � � �\\n\\n\\n�����������������������������������������������������������������������������������������������������\\n\\n�������������������������\\n\\n����������������������������������������������������������������������������������\\n\\n���������������������������������������������������������������������������������������������������\\n\\n����������������������������������������������������������������������������������������������\\n\\n������������������������������������������������������������������������������������������������\\n\\n�����������������������������������������������������������������������������������������\\n\\n~~��~~ � ~~�����������~~ � ~~���~~ � ~~���~~ � ~~�����������~~ � ~~��~~ � ~~����������~~ � ~~��~~ � ~~�����������~~ � ~~��������~~\\n\\n~~�����~~ � ~~���~~ � ~~������~~ � ~~���������~~ � ~~���~~ � ~~�����~~ � ~~��~~ � ~~������������~~ � ~~����������~~ � ~~������~~ � ~~��������~~\\n\\n~~��~~ � ~~�������~~ � ~~�~~ � ~~������~~ � ~~�����~~ � ~~��~~ � ~~�������~~ � ~~��~~ � ~~��~~ � ~~��������~~ � ~~��~~ � ~~������������~~\\n\\n~~�����������~~ � ~~����~~ � ~~�������~~ � ~~���~~ � ~~����������~~ � ~~��~~ � ~~����������~~ � ~~���~~ � ~~�������~~ � ~~��~~ � ~~�������~~\\n\\n~~�~~ � ~~��~~ � ~~�����~~ � ~~����~~ � ~~���~~ � ~~�����~~ � ~~���~~ � ~~������~~ � ~~��~~ � ~~���������~~ � ~~��~~ � ~~��������~~ � ~~����������~~ � ~~��~~\\n\\n~~����~~ � ~~�����~~ � ~~��~~ � ~~��������~~ � ~~����~~ � ~~���������~~ � ~~�~~ � ~~�����������~~\\n\\n**35**\\n\\n\\n![](WEG-CESTARI-manual-iom-guia-consulta-rapida-50111652-pt-en-es-web.pdf-38-1.png)\\n\\n� � � � � � � � �\\n\\n� � � � � � � � � �\\n\\n� � � � � � � � � � �\\n\\n� � � � � � � � � �\\n\\n� � � � � � � � � � � � �\\n\\n� � � � � � �\\n\\n���������������������������������������������������������������������������������������������\\n\\n������������������������������������������������������������������������������������������������\\n\\n��������������������������������������������������������������������������������������������������\\n\\n�������������������������������������������������������������������������������������������������\\n\\n������������������������������������������������������������������������������������\\n\\n![](WEG-CESTARI-manual-iom-guia-consulta-rapida-50111652-pt-en-es-web.pdf-39-0.png)\\n\\n��� ��� ����� ��� ��������������������������� ���� ���� ������� ��� ��� ����� ������� ���\\n\\n����������������������������������������������������������������������������������������������\\n\\n��������������������������������������������������������������������������������������������\\n\\n��������������������������������������������������������������������������������������������\\n\\n������������������������������������������������������������������������������������������\\n\\n�������������������������������������������������������������������������������������������������������\\n\\n����������������������������������������������������������������������������������������\\n\\n�������������������������������������������������������������������������\\n\\n**36**\\n\\n\\n![](WEG-CESTARI-manual-iom-guia-consulta-rapida-50111652-pt-en-es-web.pdf-39-1.png)\\n\\n![](WEG-CESTARI-manual-iom-guia-consulta-rapida-50111652-pt-en-es-web.pdf-39-2.png)\\n�����������������������������������������������������������������������������������������������\\n\\n�������������������������������������������������������������������������������������������������\\n\\n�������������������������������������������������������������������������������������������������������\\n\\n��������������������������������������������������������������������������������������������������\\n\\n��������������������������������������������������������������������������������������������������\\n\\n�������������������������������������������������������������������������������������������\\n\\n�������������������������������� **������������������** ��������������� ***“downloads”.***\\n\\n�����������������������������������������������������������������������������������������\\n\\n����������������������������������������������������������������������������������������������������\\n\\n�����������������������������������������������������������������������������������\\n\\n�������������������������������������������������������������������������������������������������\\n\\n�������������������������������������������������������������� **������������������** �������\\n\\n�������� ***“downloads”*** �����������������������������������������������\\n\\n�����������������������������������������������������������������������������������������������\\n\\n�����������������������������������������������������������������������������������������������\\n\\n���������������������������������������������������������������������������\\n\\n�������������������������������������������������������������������������������������������������������\\n\\n�������������������������������������������������������������������������������������������\\n\\n�����������������������������������������������������������������������������������������������\\n\\n���������������������������������������������������������\\n\\n**�����** ������������������������������������������������������������������������������������\\n\\n����������������������������������������������������������������������������������������\\n\\n���������\\n\\n**37**\\n\\n**���** **������������**\\n\\n����������������������������������������������������������������������������������\\n\\n�����������������������������������������������������������������������������������������\\n\\n�����������������������������������������������������������������������������������������������������\\n\\n������������������������������������������������������������������������������������������\\n\\n�������������������������������������������������\\n\\n**�����** �������������������������������������������������������������������������������\\n\\n�����������������������������������������������������������������������������\\n\\n������������������������������������������������������������������ **������������������**\\n\\n�������������� ***“downloads”***\\n\\n����������������������������������������������������������������������������������������������������������\\n\\n����������������������������������������������������������������������������������������������\\n\\n�������������������\\n\\n**�����** ��������������������������������������������������������������������������������\\n\\n����������������������������������������������������������������������������������������\\n\\n**������������������** ��������������� ***“downloads”***\\n\\n�������������������������������������������������������������������������������������������������������\\n\\n����������������������������������������������������������������������������������������������\\n\\n������������������������� � **������������������** ��������������� ***“downloads”*** ���\\n\\n�����������������������������������������������������������������������������������������\\n\\n����������������������������������������������������������������������������������������������\\n\\n�����������������������������������\\n\\n�����������������������������������������������������������������������������������������������\\n\\n�������������������������������������������������������������������������������������������������\\n\\n������������������������� � **������������������** ���������������� ***\"downloads\"*** ���\\n\\n**38**\\n\\n���������������������������������������������������������������������������������������������\\n\\n������������������������������\\n\\n|$&(,7(\\x03|Col2|7(03(5$785$\\x030Ë1,0$\\x03|Col4|\\n|---|---|---|---|\\n|7LSR\\x03|9LVFRVLGDG\\x03|/XEULFDFLyQ\\x03<br>SRU\\x03,QPHUVLyQ\\x03|/XEULFDFLyQ\\x03<br>)RU]DGD\\x03|\\n|0LQHUDO\\x03&/3\\x03|,62\\x039*\\x03\\x15\\x15\\x13\\x03|\\x0e\\x15\\x83&\\x03|\\x0e\\x1b\\x83&\\x03|\\n|0LQHUDO\\x03&/3\\x03|,62\\x039*\\x03\\x16\\x15\\x13\\x03|\\x0e\\x1a\\x83&\\x03\\x03|\\x0e\\x14\\x17\\x83&\\x03\\x03|\\n|6LQWpWLFR\\x03&/3\\x03<br>+&\\x03 3$2 \\x03|,62\\x039*\\x03\\x15\\x15\\x13\\x03|\\x10\\x18\\x83&\\x03|\\x0e\\x15\\x83&\\x03|\\n|6LQWpWLFR\\x03&/3\\x03<br>+&\\x03 3$2 \\x03|,62\\x039*\\x03\\x16\\x15\\x13\\x03|\\x13\\x83&\\x03\\x03|\\x0e\\x1b\\x83&\\x03\\x03|\\n|6LQWpWLFR\\x03&/3\\x03<br>+&\\x03 3$2 \\x03|,62\\x039*\\x03\\x17\\x19\\x13\\x03|\\x0e\\x19\\x83&\\x03\\x03|\\x10\\x10\\x10\\x03\\x10\\x10\\x10\\x03|\\n\\n\\n\\n�\\n\\n\\n�\\n\\n\\n�\\n\\n\\n�\\n\\n\\n�\\n\\n\\n�\\n\\n\\n�������������������������������������������������\\n\\n�����������������������������������������������������������������������������������������\\n\\n������������������������������������\\n\\n��������������������������������������������������������������������������������������������\\n\\n��������������������������������������\\n\\n**�����** ���������������������������������������������������������������������������������\\n\\n������������������������������������������������������\\n\\n��������������������������������������������������������������������������������������������������\\n\\n����������������������������������������������������������������������������������������������\\n\\n���������\\n\\n���������������������������������������������������������������������������������������������������\\n\\n����������������������������������������������� **������������������** � �������������� ***“downloads”*** ��\\n\\n��������������������������������������������������������������\\n\\n���������������������������������������������������������������������������������������������������\\n\\n�������������������\\n\\n**39**\\n\\n|7HPSHUDWXUD\\x03<br>GH\\x032SHUDFLyQ\\x03|$FHLWH\\x030LQHUDO\\x03<br>&/3\\x03|$FHLWH\\x036LQWpWLFR\\x03<br>&/3\\x03+&\\x03<br>+LGURFDUERQV\\x03|$FHLWH\\x036LQWpWLFR\\x03<br>&/3\\x033*\\x03<br>3RO\\\\JO\\\\FRO\\x03|\\n|---|---|---|---|\\n|\\x1b\\x13\\x03\\x83&\\x03|\\x18\\x11\\x13\\x13\\x13\\x03KRUDV\\x03|\\x14\\x18\\x11\\x13\\x13\\x13\\x03KRUDV\\x03|\\x15\\x18\\x11\\x13\\x13\\x13\\x03KRUDV\\x03|\\n|\\x1b\\x18\\x03\\x83&\\x03|\\x16\\x11\\x18\\x13\\x13\\x03KRUDV\\x03|\\x14\\x13\\x11\\x13\\x13\\x13\\x03KRUDV\\x03|\\x14\\x1b\\x11\\x13\\x13\\x13\\x03KRUDV\\x03|\\n|\\x13\\x03\\x83&\\x03|\\x15\\x11\\x18\\x13\\x13\\x03KRUDV\\x03|\\x1a\\x11\\x18\\x13\\x13\\x03KRUDV\\x03|\\x14\\x16\\x11\\x13\\x13\\x13\\x03KRUDV\\x03|\\n|\\x18\\x03\\x83&\\x03|\\x10\\x10\\x10\\x03\\x10\\x10\\x10\\x03|\\x19\\x11\\x13\\x13\\x13\\x03KRUDV\\x03|\\x1b\\x11\\x18\\x13\\x13\\x03KRUDV\\x03|\\n|\\x14\\x13\\x13\\x03\\x83&\\x03|\\x10\\x10\\x10\\x03\\x10\\x10\\x10\\x03|\\x16\\x11\\x1b\\x13\\x13\\x03KRUDV\\x03|\\x19\\x11\\x13\\x13\\x13\\x03KRUDV\\x03|\\n|\\x14\\x13\\x18\\x03\\x83&\\x03|\\x10\\x10\\x10\\x03\\x10\\x10\\x10\\x03|\\x15\\x11\\x18\\x13\\x13\\x03KRUDV\\x03|\\x17\\x11\\x13\\x13\\x13\\x03KRUDV\\x03|\\n|\\x14\\x14\\x13\\x03\\x83&\\x03|\\x10\\x10\\x10\\x03\\x10\\x10\\x10\\x03|\\x15\\x11\\x13\\x13\\x13\\x03KRUDV\\x03|\\x16\\x11\\x13\\x13\\x13\\x03KRUDV\\x03|\\n\\n\\n**�����** ����������������������������������������������������������������������������������������\\n\\n�������������������������������������������������������������������������������\\n\\n������������\\n\\n**����** **���������������������������������������������������������**\\n\\n���������������������������������������������������������������������������������������������������\\n\\n�����������������������������������������������������������������������������������\\n\\n�������������������������������������������������������������������\\n\\n���������������������������������������������������������������������\\n\\n����������������������������������������������������������������\\n\\n��������������������������������������������������������������\\n\\n���������������������������������������������������������������������\\n\\n����������������������������������������������������������������������\\n\\n�����������������������������\\n\\n![](WEG-CESTARI-manual-iom-guia-consulta-rapida-50111652-pt-en-es-web.pdf-43-0.png)\\n\\n����������������������������������������������������������������������������������������������������\\n\\n����������������������������������������������������������������������������������������\\n\\n�������������������������������������������������������������������������������������������������\\n\\n���������������������������������������������������������������������������������������\\n\\n����������������������������������������������������������������������������������������������\\n\\n�������������������������������������������������������������������������������������������������\\n\\n��������������������\\n\\n**40**\\n\\n![](WEG-CESTARI-manual-iom-guia-consulta-rapida-50111652-pt-en-es-web.pdf-44-0.png)\\n\\nEn el start-up del equipo es posible y probable que ocurra una presión\\n\\nmás elevada, indicando “atasco” del elemento filtrante. Luego de\\n\\npocas horas de funcionamiento, la presión del sistema deberá caer\\n\\nal rango de trabajo de 0,8bar a 8bar.\\n\\nCuando el sistema de lubricación es eléctrico, el motor de la bomba\\n\\ndebe ser accionado antes del motor principal para evitar la falta de\\n\\nlubricación en los componentes. Para la lubricación mecánica, la\\n\\nrotación de entrada del reductor debe ser la especificada en diseño\\n\\n(ver dimensional y datos de entrada del reductor) con variación\\n\\nmáxima de +/- 7% para evitar la deficiencia en el caudal\\n\\ndimensionado para el reductor.\\n\\n![](WEG-CESTARI-manual-iom-guia-consulta-rapida-50111652-pt-en-es-web.pdf-44-1.png)\\n\\n![](WEG-CESTARI-manual-iom-guia-consulta-rapida-50111652-pt-en-es-web.pdf-44-2.png)\\n\\nEl sistema de refrigeración puede ser por serpentin sumergido en aceite lubricante; intercambiador de\\n\\ncalor casco-tubo agua-aceite o radiador aire-aceite. La temperatura del agua en la entrada del\\n\\nintercambiador de calor o del serpentin debe ser de un máximo de 30°C.\\n\\nPara reductor con sistema de lubricación forzada, tras llenarlo con aceite hasta la mitad del visor,\\n\\naccionar el sistema para llenar todo el circuito y completar nuevamente con óleo hasta la mitad del\\n\\nvisor.\\n\\nConsultar a WEG-CESTARI para obtener el caudal y la calidad del agua recomendada;\\n\\nmantenimiento, instalación y mayores informaciones de los sistemas de refrigeración y lubricación.\\n\\n**41**\\n\\n**���** **����������**\\n\\n��������������������������������������������������������������������������������������������������������\\n\\n��������������������������������������������������������������������������������������������\\n\\n�������������������������� � **������������������** ��������� ***“downloads”*** ���\\n\\n����������������������������������������������������������������������������������������������������\\n\\n�������������������������������������������������������������������������������������������������\\n\\n���������������������������������������������������������������������������������������������������������\\n\\n��������������������������������������������������������������\\n\\n���������������������������������������������������������������������������������������������������\\n\\n����������������������������������������������������������������������������������������������������\\n\\n���������������������������������������������������������������������������������������������������\\n\\n�������������������������������������������������������������������������������������������������\\n\\n�������������������������������������������������������������������������������\\n\\n![](WEG-CESTARI-manual-iom-guia-consulta-rapida-50111652-pt-en-es-web.pdf-45-0.png)\\n\\n�\\n\\n\\n����������������������������������������������������������������������\\n\\n����������������������������������������������������������������������������������������������������\\n\\n������������������������������������������������������������������������������������������\\n\\n**6.** **MANTENIMIENTO**\\n\\nEl mantenimiento preventivo periódico tiene, principalmente, como objetivo verificar las condiciones\\n\\nde funcionamiento del motorreductor/reductor. Éste debe ser ejecutado por personas cualificadas.\\n\\nNo existen reglas rígidas a seren seguidas cuando se abordan programas de inspección. Los\\n\\nperíodos o intervalos, así como los tipos de examenes a seren realizados, pueden ser alargados o\\n\\nreducidos de acuerdo con las condiciones de trabajo y el local donde está instalado el reductor.\\n\\nSe recomienda que cada motorreductor/reductor posea algún tipo de anotación propia, como ficha,\\n\\ntarjetas o etiqueta. Lo importante es registrar todos los mantenimientos ejecutados, las piezas\\n\\ncambiadas y las fechas en que fueron realizados. El análisis de estas anotaciones permitirá cambios\\n\\ny mejorías en el programa de mantenimiento.\\n\\nEn la tabla de abajo esta presentado un programa básico para inspección, conteniendo los ítems a\\n\\nser inspeccionados y los intervalos de tiempo sugeridos; no obstante, tales intervalos son flexibles,\\n\\nalargados o reducidos, de acuerdo con las condiciones del local donde está instalado el\\n\\nmotorreductor/reductor:\\n\\n**Itinerário de Mantenimiento**\\n\\n\\n~~**Ítems**~~ ~~**a**~~ ~~**verifica**~~ **r**\\n\\n**Condiciones**\\n\\n**mecánicas**\\n\\n**Local donde está**\\n\\n**instalado el**\\n\\n**motorreductor**\\n\\n~~**Nivel**~~ ~~**de**~~ ~~**Aceite**~~\\n\\n**Tornillos de**\\n**fijación del**\\n**motorreductor**\\n\\n**Terminales**\\n\\n~~**y**~~\\n**Tornillos**\\n\\n**Candiciones**\\n\\n**mecánicas**\\n\\n\\nExaminar la presencia de ruidos o vibraciones anormales, pérdida\\n~~de~~ ~~aceite~~, ~~inspeccionar~~ ~~también~~ ~~las~~ ~~condiciones~~ ~~del~~ ~~sistema~~ ~~de~~\\ntransmisión, verificando la lubricación y la alineación\\n\\nIdentificar la presencia de agua o vapores junto al motorreductor,\\nexceso de polvo o residuos. Verificar la respiración del reductor,\\ndesobstruyéndolo si fuera necesario, verificar las condiciones de\\nventilación del motor eléctrico.\\n\\n~~Verifique~~ ~~el~~ ~~nivel~~ ~~de~~ ~~aceite~~ ~~y~~, ~~si~~ ~~fuera~~ ~~necesario~~, ~~complételo~~\\n\\nVerificar si hubo aflojamiento de los tornillos de fijación del\\nmotorreductor, debido a vibración.\\n\\nVerificar que, debido a vibración, no se hayan aflojado los tornillos\\n~~ni~~ ~~los~~ ~~puentes~~ ~~de~~ ~~conexión~~, ~~lo~~ ~~que~~ ~~tornaria~~ ~~deficiente~~ ~~el~~ ~~contacto~~\\ny perjudicaria el suministro de energia\\n\\nExaminar las condiciones de los elementos de transmisión,\\n\\nsustituyéndolos en caso necesario, limpiando la carcasa y\\n\\nlas tapasdel motorreductor. Verificar que haya no falta de\\n\\nalineación y que no haya nada produciendo roce\\n\\n\\n~~**Procedimientos**~~ ~~**Periodicidad**~~\\n\\n\\n~~**Semanal**~~\\n\\n**Semanal**\\n\\n~~**Semanal**~~\\n\\n**Mensual**\\n\\n~~**Mensual**~~\\n\\n**Semestral**\\n\\n|MEDIDAS CORRECTIVAS|Verifique la capacidad indicada en la placa del reductor, sustitúyalo por una unidad de capacidad suficiente, o reduzca la carga.|Verifique el nivel de aceite, ajústelo en la posición correcta.|Col4|Drene y llene nuevamente con el nivel de aceite adecuado, con el aceite indicado en la placa del reductor o similar.|Verifique el nivel y drene hasta el nivel indicado.|Limpie o sustituya el respirador, use un solvente no inflamable para limpieza.|Sustituya los retenes gastados por nuevos. Aplique una nueva camada de sellado, permatex o equivalente, monte el conjunto. Monte siempre los retenes con grasa en los labios de sellado.|Verifique el apriete de los tornillos y si los ancladores están firmes en sus cimientos o estructuras. Verifique la alineación de la unidad y las hojas distanciadoras o calces.|Sustituya los rodamientos gastados, limpie todo el interior del reductor y recoloque aceite nuevo, conforme lo especificado|Sustituya los rodamientos gastados, verifique y repare holguras, alineación de los acoplamientos y cargas sobre los ejes de los reductores.|Col12|Verifique las cargas, cambie los engranejes o sustituya por reductor de capacidad adecuada|Verifique el nivel de aceite, ajústelo al nivel indicado.|Inspeccione el reductor contra partes quebradas, pérdida de tornillos, tuercas o roscas dañadas. Verifique la alineación con la máquina accionada. Verifique las chavetas y las tolerancias.|Verifique las velocidades indicadas en la placa. Verifique las tensiones.|Sustituya los rodamientos gastados. Limpie todo el interior de la caja. alimente la unidad con el aceite recomendado|Sustituya los engranajes y chavetas gastados. Apriete todos los tornillos de la unidad|\\n|---|---|---|---|---|---|---|---|---|---|---|---|---|---|---|---|---|---|\\n|CAUSAS|La carga excede la capacidad del reductor|Volumen de aceite insuficiente.|Aceite en demasía en el reductor provoca agitación excesiva, generación de calor y gases en el interior de la caja|Volumen de aceite insuficiente.|Cantidad excesiva de aceite|Respirador, para entrada de aire y salida de gases, obstruido.|Insuficientes camadas de sellado entre las superficies de las cajas|Instalación invertida|Fatiga de los rodamientos, verifique el desgaste en las esferas, rodillos o pistas. La causa del desgaste puede ser suciedad en el aceite|Pistas de los rodamientos descascaradas, marcadas o con flancos magullados generalmente indican sobrecarga|Falla en las jaulas de los rodamientos también indican sobrecarga|La sobrecarga causa Pitting de los dientes (cepillado, pequeños agujeros)|Aceite por debajo del nivel normal puede causar barullo.|Choques excesivos o conexión imperfecta con otros elementos.|Tensión excesiva en las correas o cadenas de accionamientos|Rodamientos expuestos a elementos abrasivos causan desgaste en las esferas, rodillos y pistas|Engranajes y chavetas gastadas o pérdida de los tornillos causan blacklash (holgura en el engranamiento); el blacklash aumenta con el número de juegos de engranaje.|\\n|CAUSAS|Sobrecarga|Lubrificación impropia|Lubrificación impropia|Lubrificación impropia|Retenes gastados o defectuosos|Retenes gastados o defectuosos|Retenes gastados o defectuosos|Irregularidades en los tornillos de fijación|Falla en los rodamientos|Falla en los rodamientos|Falla en los rodamientos|Excesivo desgaste de los engranajes|Cantidad de aceite insuficiente|Pérdidas de partes|Alta velocidad de los ejes|Alta velocidad de los ejes|Alta velocidad de los ejes|\\n|SÍNTOMA|Calentamiento excesivo|Calentamiento excesivo|Calentamiento excesivo|Calentamiento excesivo|Perdida de aceite|Perdida de aceite|Perdida de aceite|Barulho excesivo y vibración|Barulho excesivo y vibración|Barulho excesivo y vibración|Barulho excesivo y vibración|Barulho excesivo y vibración|Barulho excesivo y vibración|Barulho excesivo y vibración|Barulho excesivo y vibración|Holguras excesivas de ejes|Holguras excesivas en los engranajes|\\n\\n\\n**44**\\n\\n**���** **�������������**\\n\\n������������������������������������������������������������������������������������������������\\n\\n�����������������������������������������������������������������������������������������������\\n\\n�����������������������������������������������������������������\\n\\n�����������������������������������������������������������������������������������������������������\\n\\n����� **������������������** � �������������� ***“Relación”, “Canales de Ventas”*** ����������������������������\\n\\n����������� **�������** � **��������������������** ��\\n\\n�����������������������������������������������������������������������������������������������\\n\\n�������������������������������������������������������������������������������������������������\\n\\n��������������������������������������������������������������������������������������������������\\n\\n�����������������������������������������������������\\n\\n**�����** ������������������������������������������������������������������������������������\\n\\n������������������������������������������������������\\n\\n**45**\\n\\n**���** **����������������������**\\n\\n����������������������������������������������������������������������������������������\\n\\n�� **����������** �������������������������������������������������������������������������������\\n\\n�� **����������** ������������������������������������������������������������������������������\\n\\n**�������**\\n\\n�������������������������������������������������������������������������������������������\\n\\n����������������������������������������������������������������������������������������\\n\\n�������������������\\n\\n�������������������������������������������������������������������������������������������\\n\\n�����������������������������������������������������������������������������������\\n\\n���������������������������������������������������������������������������������������������\\n\\n����������������������\\n\\n�������������������������������������������������������������������������������������������\\n\\n��������������������������������������������������������������������������������������������\\n\\n�������������������������������������������������������������������������������������������������\\n\\n�������������������������������������������������������������������������������������������������\\n\\n�����������������������\\n\\n��������������������������������������������������������������������������������������������\\n\\n��������������������������������������������������������������������������������������������\\n\\n���������������������������������������������������������������������������������������������������\\n\\n����������������������������������������������������������������������������������������������\\n\\n���������������������������������������������������������������������������\\n\\n��������������������������������������������������������������������������������������������\\n\\n����������������������������������������������������������������������������������������������������\\n\\n��������������������������������������\\n\\n**46**\\n\\n������������������������������������������������������������������������������������������������\\n\\n���������������������������������������������������������������������������������������\\n\\n�������������������������������������������������������������������������������������������������\\n\\n�������������������������������������������������������������������������������������������������\\n\\n�����������\\n\\n�������������������������������������������������������\\n\\n����������������������������������������������������������������������������������������������������\\n\\n����������������������������������������\\n\\n����������������������������������������������������������������������������������������������\\n\\n���������������������������������������������������������������������\\n\\n��������������������������������������������������������������������������������������������������\\n\\n������������������������������������������������������������������������������������������������\\n\\n�������������������������������������������������������������������������������������\\n\\n��������������������������������\\n\\n��������������������������������������������������������������������������������������������\\n\\n������������\\n\\n���������������������������������������������������������������������������������\\n\\n��������������������������������\\n\\n�����������������������������������������������������������������������������������������\\n\\n����������������\\n\\n������������������������������������������������������������������������������������������������\\n\\n������\\n\\n����������������������������������������������������������\\n\\n������������������������������������������������������������������������������������������������\\n\\n������������������������������������\\n\\n�������������������������������������������������������������������������������\\n\\n��������������������������������������������������������������������������\\n\\n���������������������������������������������������������������������������������������\\n\\n������������������������������������������������������������������������������������������������\\n\\n���������������������������������������������������\\n\\n�����������������������������������������������������������\\n\\n�����������������������������������������������\\n\\n**47**\\n\\n���������������������������������������������������������������������������������������������\\n\\n��������������������������������������������������������\\n\\n������������������������������������������������������������������������������������������������\\n\\n��������������������������������������������������������������������������������������������\\n\\n��������������������������������������������������������������������������������������\\n\\n�����������������������������������������������������������������������������������������\\n\\n������������������������������������������������������������������������������������������������������\\n\\n���������������������������������������������������������������������������������������������������\\n\\n�����������������������������������������������������������������������������������������������������\\n\\n��������������������������������������������������������������������������������������\\n\\n���������\\n\\n���������������������������������������������������������������������������������������\\n\\n���������������������������������������������������������������������������������������������\\n\\n�������������������������������������������������������������������������������������������������\\n\\n�����������������������������������������������������������������������������������������������������\\n\\n�����������������������������������������������������������������������������������\\n\\n�����������������������������������������������������������������������������������������������\\n\\n�����������������������������������������������������������������������������������������������������\\n\\n�������������������������������������\\n\\n**48**\\n\\n**���** **��������������������������**\\n\\n������������������������������������������������������������������������������������������������\\n\\n���������������������������������������������������������������������������������������������������\\n\\n������������������������������������������������������������������������������\\n\\n�� **�������������������������������������������������������������������������**\\n\\n����������������������������������������������������������\\n\\n�� **�����������������������������������������**\\n\\n�����������������������������������������������������������\\n\\n�� **������������������**\\n\\n����������������������������������������������������������\\n\\n�� **���������**\\n\\n����������������������������������������������������������������������������\\n\\n�� **�����������������**\\n\\n��������������������������������������������������������������������������������\\n\\n���������������������������������\\n\\n�� **���������������������**\\n\\n��������������������������������������������������������������������\\n\\n�� **�����������**\\n\\n**��������** �����������������������������������������������������������������������\\n\\n�����������������������������������������������������������������������\\n\\n�������������������������\\n\\n**��������** �������������������������������������������������������������������������������\\n\\n������������������������������������������������\\n\\n**�����** �������������������������������������������������������������������������������\\n\\n���������������������������������������������������������������������\\n\\n����������������������������������\\n\\n**49**\\n\\n## **Check List - Inslatación y Montaje de Reductores**\\n\\n**••••••••••••••••••••••••••••••••••••••••••••••••••••••••••••••••••••••••••••••**\\n### **Recibimiento**\\n\\n**Verificación de la Pintura**\\n\\nVerificar la existencia de rayones, defectos de pintura y otras imperfecciones\\n\\n**Verificación de Oxidación**\\n\\nVerificar si hay puntos o areas oxidadas en el reductor y/o accesorios\\n\\n**Verificación de Perdida de Aceite**\\n\\nVerificar si hay la perdida de aceite en los retenes y tapas\\n\\n**Verificación de Protección de las Partes Usinadas**\\n\\nVerificar si las partes usinadas están protegidas con aceite protector\\n\\n**Verificación de Componentes**\\n\\nVerificar si los componentes utilizados en el montaje están presentes\\n\\n**Verificación de Lacres**\\n\\nVerificar si el respiradero está lacrado y si los componentes del\\nsistema EasyLock están lacrados\\n\\n**Verificación de las Condiciones de Almacenaje**\\n\\nVerificar si el equipo fue almacenado conforme instrucciones del\\n\\nmanual del producto\\n### **Instalación**\\n\\n**Verificación de la Posición de Trabajo**\\n\\nVerificar si el reductor está montado en la posición cuya cual fue\\n\\nsuministrado\\n\\n**Verificación del Nível de Aceite Lubricante**\\n\\nRealizar la verificación del nível de aceite lubricante conforme manual\\n\\ndel producto\\n**Verificación de Retirada del Lacre del Respiradero**\\n\\nVerificar si el lacre del respiradero fue completamente retirado antes\\n\\nde colocar el reductor en operación\\n**Verificación de los Elementos de Sellado**\\n\\nVerificar retenes, tapas y otros elementos de sellado para chequear\\n\\nposibles perdidas de aceite/defectos/deformidades\\n**Verificación de la Instalación del Equipo**\\nVerificar si el equipo fue colocado en la maquina siguiendo las\\n\\nrecomendaciones del manual del producto\\n\\n**50**\\n\\n**Verificación del Sistema Easy-Lock**\\nVerificar si el Sistema Easy-Lock fue instalado según instrucciones del\\n\\nmanuel del producto\\n**Aplicación de Aceite Protetor en Partes Usinadas**\\n\\nVerificar si fue aplicado aceite protector en las partes usinadas después\\n\\n![](WEG-CESTARI-manual-iom-guia-consulta-rapida-50111652-pt-en-es-web.pdf-54-0.png)\\n\\n**51**\\n\\n**NOTAS**\\n\\n��������������������������������������������������������������������������������\\n\\n��������������������������������������������������������������������������������\\n\\n��������������������������������������������������������������������������������\\n\\n��������������������������������������������������������������������������������\\n\\n��������������������������������������������������������������������������������\\n\\n��������������������������������������������������������������������������������\\n\\n��������������������������������������������������������������������������������\\n\\n��������������������������������������������������������������������������������\\n\\n��������������������������������������������������������������������������������\\n\\n��������������������������������������������������������������������������������\\n\\n��������������������������������������������������������������������������������\\n\\n��������������������������������������������������������������������������������\\n\\n��������������������������������������������������������������������������������\\n\\n��������������������������������������������������������������������������������\\n\\n��������������������������������������������������������������������������������\\n\\n��������������������������������������������������������������������������������\\n\\n��������������������������������������������������������������������������������\\n\\n��������������������������������������������������������������������������������\\n\\n��������������������������������������������������������������������������������\\n\\n��������������������������������������������������������������������������������\\n\\n��������������������������������������������������������������������������������\\n\\n��������������������������������������������������������������������������������\\n\\n��������������������������������������������������������������������������������\\n\\n��������������������������������������������������������������������������������\\n\\n��������������������������������������������������������������������������������\\n\\n��������������������������������������������������������������������������������\\n\\n���������������������������������������������������������������������������������\\n\\n**52**\\n\\n![](WEG-CESTARI-manual-iom-guia-consulta-rapida-50111652-pt-en-es-web.pdf-56-0.png)\\n\\n�����������������������������������������������\\n### **����������������������** **���������������������������������������**\\n\\n**������**\\n\\n��������������������������� ��\\n\\n����������������������������������������� ��\\n\\n����������������� ��\\n\\n������������������� ��\\n\\n������������������ ��\\n\\n�������������� ��\\n\\n���������������� ��\\n\\n������������������������ ��\\n\\n������������ ��\\n\\n������������������ ��\\n\\n����������������������������� ��\\n\\n������������������������������� ��\\n\\n**53**\\n\\n**ENGLISH**\\n\\n**1.** **GENERAL CONSIDERATIONS**\\n\\nThis manual provides important information which must be observed during shipment, storage,\\n\\ninstallation, operation and maintenance of WEG-CESTARI products (gear units, gearmotors, parts and\\n\\npieces), and, therefore, we recommend carefully reading the instructions contained in this document.\\n\\nFailure to comply with the instructions contained in this manual, in the motor manual (if provided) and\\n\\nthe complete manual available on: **www.wegcestari.com** in the ***\"download\"*** voids the product\\n\\nwarranty and may cause serious personal injuries and material damages.\\n\\nWhen the gearmotor is supplied with a WEG motor, the Installation, Operation and Maintenance\\n\\nManual of the Motor is attached to this manual and should also be carefully observed.\\n\\nThe gear units are supplied with a nameplate (Fig.1) and the gearmotors are supplied with two\\n\\nnameplates, one for the gear unit (Fig.1) and the other for the motor (according to the manufacturer\\'s\\n\\nstandard). The nameplates contain symbols and values which determine the gear unit and motor\\n\\ncharacteristics. They are affixed to a visible place and made of a bad-weather resistant material.\\n\\nThe data contained on the gear unit Nameplate are:\\n\\n� **Type:** Gear unit or gearmotor code.\\n\\n� **Serial Number:** Serial number.\\n\\n� **P1:** Motor or Gear unit power (kW).\\n\\n� **rpm:** Gear unit output speed (rpm).\\n\\n� **M2:** Output Torque (Nm).\\n\\n� **sf:** Gearmotor service factor.\\n\\n� **i:** Speed ratio.\\n\\n� **Weight:** Weight of the gear unit without motor (kg).\\n\\n� **Oil:** Type and viscosity of the oil at 40º C.\\n\\n\\n� **P:** Mounting Position and **Year** of manufacturing.\\n\\n� **TAG:** Space for Information.\\n\\n\\n![](WEG-CESTARI-manual-iom-guia-consulta-rapida-50111652-pt-en-es-web.pdf-57-0.png)\\n\\n**Figure 1**\\n\\n\\nThe gearmotors and gear units are painted with WEG-CESTARI standard synthetic enamel or\\n\\naccording to the customer\\'s specification.\\n\\n**54**\\n\\n**2.** **TRANSPORTATION, HANDLING AND STORAGE**\\n\\nWe recommend at the receipt of our product (gear unit/gearmotor and/or parts and pieces) to check its\\n\\nconditions and if the product is compliant with the specifications. In case some damage is observed,\\n\\nimmediately notify the carrier and WEG-CESTARI, and do not start any installation works before the\\n\\nproblem is found and solved.\\n\\nFor moving and handling gear units/gearmotors, use proper ropes, lifting slings and lifting equipment\\n\\nso as not to put people and the equipment itself at risk.\\n\\nThe gear units/gearmotors must be moved using the lifting eyebolt (Fig. 2A) and, if eyebolt is not\\n\\npresent, the unit must be lifted through the gear unit housing (Fig.2B), together with the eyebolt of the\\n\\nmotor (Fig.2C) observing the maximum angle of 60º between the cables. Never lift the equipment only\\n\\nthrough the motor.\\n\\n![](WEG-CESTARI-manual-iom-guia-consulta-rapida-50111652-pt-en-es-web.pdf-58-0.png)\\n\\n![](WEG-CESTARI-manual-iom-guia-consulta-rapida-50111652-pt-en-es-web.pdf-58-1.png)\\n\\n![](WEG-CESTARI-manual-iom-guia-consulta-rapida-50111652-pt-en-es-web.pdf-58-2.png)\\n\\n**Figure 2A** **Figure 2B** **Figure 2C**\\n\\nBefore completely lifting the gear unit/gearmotor, make sure the load is properly balanced. The gear\\n\\nunits/gearmotors must always be handled smoothly in order to avoid impacts and damages to the gear\\n\\nunit/gearmotor, especially on the shaft ends.\\n\\nWEG-CESTARI products (gear units/gearmotors, parts and pieces) must be stored in its original\\n\\npackage in a closed (not directly exposed to sunrays or UV rays) and dry environment protected against\\n\\nvermin with relative humidity below 60% and free of dust, gases, fungi and corrosive agents\\n\\n(contaminated air, ozone, gases, solvents, acids, alkaline products, salts, radioactivity, etc.). and\\n\\nambient temperature between -5ºC to +40ºC.\\n\\n**55**\\n\\nWEG-CESTARI gear units/gearmotors must be stored in the specified and supplied working position,\\n\\non a flat surface on proper platforms or shelves (not in direct contact with the floor) free of vibration\\n\\nand oscillations.\\n\\n**2.1** **Period out of operation**\\n\\nAfter leaving the factory, WEG-CESTARI gear units/gearmotors must be put into operation within the\\n\\nmaximum period of six months.\\n\\nFor periods from six months to nine months out of operation, it is recommended to fill the gear unit with\\n\\nproper lubricants (for the recommended lubricant, see the product manual available on:\\n\\n**www.wegcestari.com** in the ***“downloads”*** section). Fill the gear unit with oil to the upper part (right\\n\\nbelow the breather), thus ensuring all the gears and rolling bearings are immersed in oil. The high\\nspeed shaft (the gear unit input shaft) must be turned at least two complete revolutions and this\\n\\nprocedure shall be repeated at least once every two months.\\n\\n**NOTES:** Before operation, the gear unit/gearmotor lubricant must be drained down to the proper\\n\\noperation level (center of the sight glass or at the level when hexagonal plug model HN10\\nWD is used - DIN 510 similar).\\n\\nFor gear units of the lines: Alumag, Magma M and WCG20, the appropriate volume of\\n\\nlubricant must be checked in the product manual available on **www.wegcestari.com** in\\n\\nthe ***\"downloads\"*** section.\\n\\nProtect the lip seals externally with grease; on gear units that have taconite seals and will be out of\\n\\noperation for more than six months, apply a thin layer of grease on the outer surface to prevent it from\\n\\ndrying out. The grease must be removed before starting operation (recommended grease NLGI#2EP\\n\\nTexaco Multifak EP2 or similar product).\\n\\n**56**\\n\\n**����** **�������������������������**\\n\\n������������������������������������������������������������������������������������������������\\n\\n���������������������������������������������������������������������������������������������\\n\\n������������������������������������������������������������������������������������������������\\n\\n��������\\n\\n�������������������������������������������������������������������������������������������������������\\n\\n������������������������������������������\\n\\n���������������������������������������������������������������������������������������������������\\n\\n�� **�������������������** �������� ***“downloads”*** ���������������������������������\\n\\n**�����������������������������������**\\n\\n����������������������������������������������������������������������������������������\\n\\n��������������������������������������������������������������������������������������������������\\n\\n���������\\n\\n������������������������������������������������������������������������������ *Volatile Corrosion*\\n\\n*Inhibitor* ��������������������������������������������������������������������������������������\\n\\n���������������\\n\\n��������������������������������������������������������������������������������������������\\n\\n�������������������������������������������������������������������������������������������\\n\\n����������������������������������������������� �������������������� ���\\n\\n������������������������������������������������������������������������������������\\n\\n����������������������������������������������������������������������������������������������\\n\\n�����������������������������������������������������������������\\n\\n��������������������������������������������������������������������������������������������������\\n\\n���������������������������������������������������������������������\\n\\n������������������������������������������������������������������������������������������������\\n\\n���������������������������������������������������������������������������������������������������\\n\\n����������������������������������������������������������������������������������������������\\n\\n\\n**�**\\n\\n��������������������������������������������������������������������������\\n\\n\\n**�**\\n\\n**57** **��**\\n\\n���������������������������������������������������������������������������������������������\\n\\n�����������������������������������������������������������������������������������������\\n\\n�������������������������������������\\n\\n**�������������������������**\\n\\n�����������������������������������������������������������������������������������������������\\n\\n�����������������������������������������������������������������������������������������������\\n\\n������������������������������������������������������������������������������������������������\\n\\n�����������\\n\\n�����������������������������������������������\\n\\n�������������������������������������������������������������������������������������������\\n\\n����������������������\\n\\n�����������������������������������������������������������������������������������������������\\n\\n�������������������������������\\n\\n������������������������������������������������������������������������������������\\n\\n��������������������������������������������������������������������� **�** **������������������** ����\\n\\n���� ***“downloads”*** ����������\\n\\n������������������������������������������������������������������������������������������������������\\n\\n�������������������������������������������������������������� **�** **������������������** ��������\\n\\n***\"downloads\"*** ����������\\n\\n����������������������������������������������������������������������������������������������������\\n\\n���������������������������������������������������������������������\\n\\n���������������������������������������������������������������������������������������������������\\n\\n���������������������������������������\\n\\n**58**\\n\\n**���** **�������������**\\n\\n�������������������������������������������������������������������������������������������������������\\n\\n�����������������������������������������������������������������������������������������������������\\n\\n�������������������\\n\\n![](WEG-CESTARI-manual-iom-guia-consulta-rapida-50111652-pt-en-es-web.pdf-62-0.png)\\n\\n�����������������������������������������������������\\n\\n������������������������������������������������������������������������������������������������������\\n\\n��������������������������������������������������������������������� **����������** ��������������������\\n\\n��������������������������������������������������������������������\\n\\n�����������������������������������������������������������������������������������������������������\\n\\n���������������������������������������������������������������������������������������������������\\n\\n�����������������������������������\\n\\n**�����������������������������**\\n\\n**59** **��**\\n\\n\\n![](WEG-CESTARI-manual-iom-guia-consulta-rapida-50111652-pt-en-es-web.pdf-62-1.png)\\n�����������������������������������������������������������������������������������������\\n\\n![](WEG-CESTARI-manual-iom-guia-consulta-rapida-50111652-pt-en-es-web.pdf-63-0.png)\\n\\n���������������������������������������������\\n\\n��������������������������������������������������������������������������������������������\\n\\n����������������������������������������������������\\n\\n�����������������������������������������������������������������������������������������������������\\n\\n�����������������������������������������������������������������������������������������������\\n\\n����������������������������������������������������������������������������������������������������\\n\\n����������������������������������������������������������������������������������������������������\\n\\n���������������������������������������������������������������������������������������������\\n\\n������������������������������������������������������������������������������������������������������\\n\\n���������������������������������������������������������������������������������������������\\n\\n�����������������������������������������������������\\n\\n![](WEG-CESTARI-manual-iom-guia-consulta-rapida-50111652-pt-en-es-web.pdf-63-1.png)\\n\\n**�������** ��� �� ��������������������������������\\n\\n��� ��� ��������������������������������������������������������\\n\\n��� ��� �������������������\\n\\n**60**\\n\\n**��������������������������**\\n\\n�������������������������������������������������������������������������������\\n\\n���������������������������������������������������������������������������\\n\\n������������������������������������������������������������������������\\n\\n����������������������������������������������������������������������������\\n\\n���������������������������������������������������������������������������������������\\n\\n�������������������������������������������\\n\\n������������������������������������������������������������������������������������������������\\n\\n�������������������������������������������������������������������������������������������������\\n\\n��������������������������������������������������������������������������������������������\\n\\n![](WEG-CESTARI-manual-iom-guia-consulta-rapida-50111652-pt-en-es-web.pdf-64-0.png)\\n\\n� � � � � � � � � �\\n\\n� � � � � � � � � �\\n\\n� � � � � � � �\\n\\n� � � � � � � � � �\\n\\n� � � � � � � � � � �\\n\\n\\n��������������������������������������������������������������������������������������������������\\n\\n������������������������\\n\\n���������������������������������������������������������������������������������������������������\\n\\n���������������������������������������������������������������������������������������������������������\\n\\n�����������������������������������������������������������������������������������������������\\n\\n��������������������������������������������������������������������������������������\\n\\n~~��~~ � ~~����������~~ � ~~����~~ � ~~��������~~ � ~~����������~~ � ~~������������~~ � ~~�������~~ � ~~���~~ � ~~��������~~ � ~~�����~~ � ~~��~~\\n\\n~~����������~~ � ~~�����������~~ � ~~�������~~ � ~~�����������~~ � ~~�������~~ � ~~���~~ � ~~�������~~ � ~~����~~ � ~~��~~ � ~~�������~~ � ~~��~~\\n\\n~~���~~ � ~~������������~~ � ~~��������~~ � ~~���������~~ � ~~����~~ � ~~���~~ � ~~�������~~ � ~~����������~~ � ~~������������~~\\n\\n~~���~~ � ~~������~~ � ~~���������~~ � ~~��~~ � ~~����~~ � ~~������~~ � ~~���������~~ � ~~��~~ � ~~������������~~ � ~~������~~ � ~~���������~~\\n\\n~~����������~~ � ~~��~~ � ~~���~~ � ~~�������~~ � ~~�����~~ � ~~���~~ � ~~�������~~ � ~~����~~ � ~~��~~ � ~~���������~~ � ~~���~~ � ~~������~~\\n\\n**61**\\n\\n\\n![](WEG-CESTARI-manual-iom-guia-consulta-rapida-50111652-pt-en-es-web.pdf-64-1.png)\\n\\n� � � � � � � � � �\\n\\n� � � � � � � � � �\\n\\n� � � � � � � �\\n\\n� � � � � � � � � �\\n\\n� � � � � � � � � � �\\n\\n����������������������������������������������������������������������������������������������������\\n\\n�����������������������������������������������������������������������������������������������\\n\\n�������������������������������������������������������������������������������������������������\\n\\n������������������������������������������������������������������������������������������������\\n\\n���������������������������������������������������\\n\\n![](WEG-CESTARI-manual-iom-guia-consulta-rapida-50111652-pt-en-es-web.pdf-65-0.png)\\n\\n������������������������������������������������������������������������������������������������\\n\\n���������������������������������������������������������������������������������������������\\n\\n������������������������������������������������������������������������������������������������\\n\\n���������������������������������������������������������������\\n\\n��������������������������������������������������������������������������������������������������\\n\\n������������������������������������������������������������������������������������������������\\n\\n��������������������������������������������������������������������������������������������������\\n\\n**62**\\n\\n\\n![](WEG-CESTARI-manual-iom-guia-consulta-rapida-50111652-pt-en-es-web.pdf-65-1.png)\\n\\n![](WEG-CESTARI-manual-iom-guia-consulta-rapida-50111652-pt-en-es-web.pdf-65-2.png)\\n����������������������������������������������������������������������������������������������������\\n\\n����������������������������������������������������������������������������\\n\\n����������������������������������������������������������������������������������������������������\\n\\n�����������������������������������������������������������\\n\\n�����������������������������������������������������������������������������������������������������\\n\\n���������������������������������������������������������������������������������������\\n\\n**������������������** �� ***“downloads” section.***\\n\\n����������������������������������������������������������������������������������������\\n\\n��������������������������������������������������������������������������������������������������������\\n\\n�����������������������������������������������\\n\\n�����������������������������������������������������������������������������������������������������\\n\\n������������������������������� **������������������** �������� ***\"downloads\"*** ���������� ��������������\\n\\n�����������������������\\n\\n�������������������������������������������������������������������������������������������\\n\\n��������������������������������������������������������������������������������������������������\\n\\n��������������������������������������������������\\n\\n��������������������������������������������������������������������������������������������������������\\n\\n������������������������������������������������������������������������������������������������������\\n\\n������������������������������������������������������������������������������������������\\n\\n**�����** �������������������������������������������������������������������������������������\\n\\n������������������������������������������������������������������������������������\\n\\n**63**\\n\\n**���** **������������**\\n\\n������������������������������������������������������������������������������������������������������\\n\\n�����������������������������������������������������������������������������������������������������\\n\\n��������������������������������������������������������������������������������������������������\\n\\n������������������������������������������\\n\\n**�����** �������������������������������������������������������������������������������������\\n\\n����������������������������������������������������������������������������������������\\n\\n�������������������������������� � **������������������** **�** ������� ***\"downloads\"*** **�** ���������\\n\\n�����������������������������������������������������������������������������������������������������������\\n\\n����������������������������������������������������������������������������������������\\n\\n**�����** ����������������������������������������������������������������������������������\\n\\n������������������������������������������������������������� **������������������** ����\\n\\n���� ***\"downloads\"*** ����������\\n\\n�������������������������������������������������������������������������������������������������������\\n\\n������������������������������������������������������������������������������������������������\\n\\n***\"*** ***\"***\\n���������������������� � **�������������������** ***downloads*** ����������\\n\\n�������������������������������������������������������������������������������������������������������\\n\\n���������������������������������������������������������������������\\n\\n���������������������������������������������������������������������������������������������������\\n\\n������������������������������������������������������������������������� **������������������**\\n\\n***\"downloads\"*** �����������\\n\\n**64**\\n\\n���������������������������������������������������������������������������\\n\\n\\n\\n\\n\\n\\n|2,/\\x03|Col2|0,1,080\\x037(03(5$785(\\x03|Col4|\\n|---|---|---|---|\\n|7\\\\SH\\x03|9LVFRVLW\\\\\\x03|,PPHUVLRQ\\x03<br>/XEULFDWLRQ\\x03|)RUFHG\\x03<br>/XEULFDWLRQ\\x03|\\n|0LQHUDO\\x03&/3\\x03|,62\\x039*\\x03\\x15\\x15\\x13\\x03|\\x0e\\x15\\x83&\\x03|\\x0e\\x1b\\x83&\\x03|\\n|0LQHUDO\\x03&/3\\x03|,62\\x039*\\x03\\x16\\x15\\x13\\x03|\\x0e\\x1a\\x83&\\x03\\x03|\\x0e\\x14\\x17\\x83&\\x03\\x03|\\n|6\\\\QWKHWLF\\x03&/3\\x03<br>+&\\x03 3$2 \\x03|,62\\x039*\\x03\\x15\\x15\\x13\\x03|\\x10\\x18\\x83&\\x03|\\x0e\\x15\\x83&\\x03|\\n|6\\\\QWKHWLF\\x03&/3\\x03<br>+&\\x03 3$2 \\x03|,62\\x039*\\x03\\x16\\x15\\x13\\x03|\\x13\\x83&\\x03\\x03|\\x0e\\x1b\\x83&\\x03\\x03|\\n|6\\\\QWKHWLF\\x03&/3\\x03<br>+&\\x03 3$2 \\x03|,62\\x039*\\x03\\x17\\x19\\x13\\x03|\\x0e\\x19\\x83&\\x03\\x03|\\x10\\x10\\x10\\x03\\x10\\x10\\x10\\x03|\\n\\n\\n��������������������������������������������������\\n\\n�������������������������������������������������������������������������������������������������\\n\\n��������������\\n\\n������������������������������������������������������������������������������������������������������������\\n\\n�����������������������\\n\\n**�����** �����������������������������������������������������������������������������������������\\n\\n������������������������������������\\n\\n���������������������������������������������������������������������������������������������������\\n\\n����������������������������������������������������\\n\\n���������������������������������������������������������������������������������������������������\\n\\n��������������������� **������������������** �������� ***“downloads”*** �������������������������������\\n\\n�������������������������\\n\\n��������������������������������������������������������������������������������������������������\\n\\n�������\\n\\n**65**\\n\\n|2SHUDWLQJ\\x03<br>7HPSHUDWXUH\\x03|0LQHUDO\\x032LO\\x03<br>&/3\\x03|6\\\\QWKHWLF\\x032LO\\x03<br>&/3\\x03+&\\x03<br>+\\\\GURFDUERQV\\x03|6\\\\QWKHWLF\\x032LO\\x03<br>&/3\\x033*\\x03<br>3RO\\\\JO\\\\FRO\\x03|\\n|---|---|---|---|\\n|\\x1b\\x13\\x03\\x83&\\x03|\\x18\\x0f\\x13\\x13\\x13\\x03KRXUV\\x03|\\x14\\x18\\x0f\\x13\\x13\\x13\\x03KRXUV\\x03|\\x15\\x18\\x0f\\x13\\x13\\x13\\x03KRXUV\\x03|\\n|\\x1b\\x18\\x03\\x83&\\x03|\\x16\\x0f\\x18\\x13\\x13\\x03KRXUV\\x03|\\x14\\x13\\x0f\\x13\\x13\\x13\\x03KRXUV\\x03|\\x14\\x1b\\x0f\\x13\\x13\\x13\\x03KRXUV\\x03|\\n|\\x13\\x03\\x83&\\x03|\\x15\\x0f\\x18\\x13\\x13\\x03KRXUV\\x03|\\x1a\\x0f\\x18\\x13\\x13\\x03KRXUV\\x03|\\x14\\x16\\x0f\\x13\\x13\\x13\\x03KRXUV\\x03|\\n|\\x18\\x03\\x83&\\x03|\\x10\\x10\\x10\\x03\\x10\\x10\\x10\\x03|\\x19\\x0f\\x13\\x13\\x13\\x03KRXUV\\x03|\\x1b\\x0f\\x18\\x13\\x13\\x03KRXUV\\x03|\\n|\\x14\\x13\\x13\\x03\\x83&\\x03|\\x10\\x10\\x10\\x03\\x10\\x10\\x10\\x03|\\x16\\x0f\\x1b\\x13\\x13\\x03KRXUV\\x03|\\x19\\x0f\\x13\\x13\\x13\\x03KRXUV\\x03|\\n|\\x14\\x13\\x18\\x03\\x83&\\x03|\\x10\\x10\\x10\\x03\\x10\\x10\\x10\\x03|\\x15\\x0f\\x18\\x13\\x13\\x03KRXUV\\x03|\\x17\\x0f\\x13\\x13\\x13\\x03KRXUV\\x03|\\n|\\x14\\x14\\x13\\x03\\x83&\\x03|\\x10\\x10\\x10\\x03\\x10\\x10\\x10\\x03|\\x15\\x0f\\x13\\x13\\x13\\x03KRXUV\\x03|\\x16\\x0f\\x13\\x13\\x13\\x03KRXUV\\x03|\\n\\n\\n**������** ���������������������������������������������������������������������������������������\\n\\n���������������������������������������������������������������������\\n\\n**�����** **���������������������������������������������������**\\n\\n����������������������������������������������������������������������������������������������\\n\\n���������������������������������������������������������������������������\\n\\n����������������������������������������������������������\\n\\n�����������������������������������������������������������������������������\\n\\n�������������������������������������������������������������\\n\\n����������������������������������������������������������������������\\n\\n�������������������������������������������������������������������\\n\\n�����������������������������������������������������������������������\\n\\n![](WEG-CESTARI-manual-iom-guia-consulta-rapida-50111652-pt-en-es-web.pdf-69-0.png)\\n\\n�����������������������������������������������������������������������������������������������������\\n\\n������������������������������������������������������������������������������������������\\n\\n����������������������������������������������������������������������������������������������������������\\n\\n����������������������������������������������������������������������������������������������������\\n\\n�������������������������������������������������������������������������������������������������������\\n\\n����������������������������������\\n\\n**66**\\n\\n![](WEG-CESTARI-manual-iom-guia-consulta-rapida-50111652-pt-en-es-web.pdf-70-0.png)\\n\\nIt is quite possible and probable that, at the equipment start-up, a\\n\\nhigher pressure will occur, indicating \"clogging\" of the filter element.\\n\\nAfter a few hours of operation, the system pressure should drop to the\\n\\nworking range of 0.8bar to 8bar.\\n\\nWhen the lubrication system is electric, the pump motor must be\\n\\nactivated before the main motor to avoid lack of lubrication in the\\n\\ncomponents. For mechanical lubrication, the inlet speed of the gear\\n\\nunit must be that specified in design (see dimensional and input data\\n\\nof the gear unit) with a maximum variation of +/- 7% to avoid the\\n\\ndeficiency in the rated flow for the gear unit.\\n\\n![](WEG-CESTARI-manual-iom-guia-consulta-rapida-50111652-pt-en-es-web.pdf-70-1.png)\\n\\nThe cooling system can be through a coil immersed in lubricating oil; shell and tube water-oil heat\\n\\nexchanger or air-oil cooler. The water temperature at the heat exchanger or coil inlet must be at most\\n\\n30°C.\\n\\nFor gear units with a forced lubrication system, after filling the gear unit with oil up to the center of the\\n\\nsight glass, put the system into operation to fill the entire circuit, and fill with oil up to the center of the\\n\\nsight glass again.\\n\\nRefer to WEG-CESTARI to obtain the recommended flow and quality of water, maintenance,\\n\\ninstallation and more information on cooling and lubrication systems.\\n\\n**67**\\n\\n**���** **����������**\\n\\n�������������������������������������������������������������������������������������������������������\\n\\n������������������������������������������������������������������������������������������������\\n\\n���������������������� � **������������������** **�** ***\"downloads\"*** ����������\\n\\n�����������������������������������������������������������������������������������������������������������\\n\\n������������������������������������������������\\n\\n�������������������������������������������������������������������������������������������������\\n\\n��������������������������������������\\n\\n���������������������������������������������������������������������������������������������������\\n\\n�������������������������������������������������������������������������\\n\\n�������������������������������������������������������������������������������������������������������\\n\\n�������������������������������������������������������������������������������������������������\\n\\n��������\\n\\n![](WEG-CESTARI-manual-iom-guia-consulta-rapida-50111652-pt-en-es-web.pdf-71-0.png)\\n\\n� **�**\\n\\n\\n�����������������������������������������������������\\n\\n�����������������������������������������������������������������������������������������������������\\n\\n���������������������������������������������������������������\\n\\n**68**\\n\\n**6.** **MAINTENANCE**\\n\\nThe regular preventive maintenance specially aims to check the operating conditions of the\\n\\ngearmotor/gear unit. It must be performed by qualified personnel.\\n\\nThere are no rigid rules to be followed regarding inspection programs. The periods or intervals and\\n\\nthe types of examinations to be performed may be extended or reduced according to the working\\n\\nconditions and the place where the gear unit is installed.\\n\\nIt is recommended that each gearmotor/gear unit have its own record, such as a card or label. It is\\n\\nimportant to record all the maintenances, the parts changed and the dates when they were\\n\\nperformed. The analysis of those records will allow adjustments in the maintenance program.\\n\\nThe table below contains a basic inspection program with the items to be inspected and the\\n\\nsuggested intervals; however, such intervals are flexible, and they may be extended or reduced\\n\\naccording to the environment conditions where the gearmotor/gear unit is installed.\\n\\n**Maintenance Guide**\\n\\n\\n~~**Item**~~ ~~**to**~~ ~~**verify**~~\\n\\n~~**Mechanical**~~ ~~**conditions**~~\\n\\n**Local where the**\\n\\n**gearmotor is**\\n\\n**installed**\\n\\n\\n~~**Procedures**~~ ~~**Frequency**~~\\n\\nCheck for abnormal noise or vibrations, oil leaks, as well as the\\n\\n\\n~~conditions~~ ~~of~~ ~~the~~ ~~transmission~~ ~~system~~ ~~by~~ ~~examining~~ ~~the~~ ~~lubrication~~ ~~and~~\\n\\nalignment.\\n\\nIdentify the existence of water or vapors around the gearmotor, excess\\n\\nof dust, chips or residue; check the gear unit breather, unclogging it if\\n\\nnecessary; check the cooling conditions of the electric motor.\\n\\n\\n~~**Weekly**~~\\n\\n**Weekly**\\n\\n\\n~~**Oil**~~ ~~**level**~~ ~~Check~~ ~~the~~ ~~oil~~ ~~level~~ ~~and~~ ~~complete~~ ~~it~~ ~~if~~ ~~necessary~~ ~~**Weekly**~~\\n\\n**Gearmotor mounting**\\n\\nCheck if the vibration did not loosen the gearmotor mounting screws. **Monthly**\\n**screws**\\n\\n\\n**Terminais**\\n\\n**and screws**\\n\\n**Mechanical**\\n\\n**conditions**\\n\\n\\nCheck the conditions of the transmission elements, replacing them if\\n\\nnecessary, and cleaning the gear ratio frame and covers.\\n\\nCheck for misalignment of something dragging.\\n\\n\\nCheck if vibration did not loosen the connectin g brid g es and screws,\\n\\n~~**Monthly**~~\\njeopardizing the contact end the power supply.\\n\\n\\n**Biannual**\\n\\n\\n**69**\\n\\n|CORRECTIVE MEASURES|Check the capacity indicated on the gear unit nameplate; replace it by a unit of enough capacity or reduce the load.|Check the oil level correct the level.|Col4|Drain the oil and refill to the correct level with the oil indicated on the gear unit nameplate or similar product.|Check the oil level and drain it to the correct level.|Clean or replace the breather; use non flammeble solvent for cleaning.|Replace the worn outlip seals by new ones. Apply a new sealing layer, permatex or equivalent product; assemble the unit. Always install the lip seals with grease on the sealing lips.|Check the tightening of the screws and if the anchors are film in the foudation or structure. Check alignment os the unit and the spacing plates or shims|Replace the worn out rolling bearings, clean inside the gear unit and refill with new oil, according to the specification.|Replece the worn out rolling bearings; check and repair clearance in the rolling bearings, alignment of the coupling and overload on the gear unit shafts.|Col12|Check the loads, change the gears or replace by a gear unit of proper load|Check the oil level and correct it.|Inspect the gear unit. for broken parts, loss of screws, nuts or damaged threads. Check the alignment with the drive machine. Check the keys and tolerances.|Check the speeds indicated on the nameplate. Check the tightening.|Replace the worn out rolling bearings. Clean inside the gear unit. and refill if with the recommended oil.|Replace worn out gears and keys. Tighten all the screws of the unit.|\\n|---|---|---|---|---|---|---|---|---|---|---|---|---|---|---|---|---|---|\\n|CAUSES|Load exceeds the gear unit capacity.|Lock of oil.|Excess of oil the gear unit causes to much agitation, generating heat and gases inside the frame.|Oil out of specification|Excell of oil.|Breather for ais ingress end exit of gases clogged|Insufficient sealing layers between the frame surfaces.|Installation inverted.|Fatigue of the rolling bearings; check for wear on the ball, rollers or tracks; Wear may be for dirt in the oil.|Rolling bearing tracks with scales, dents or damaged flanks usually indicate overload.|Fault on the rolling bearing cages also indicate overload.|Overload causes pitting of the teeth.|Oil below the regular level may cause noise.|Excessive shocks or incorrect connection with other elements.|Driving pulleys or chains too tight.|Rolling bearing exposed to abrasive elements cause wear on the balls, rollers and tracks.|Worn out gears and keys or loss of the screws cause backlash (clearance in the gearing);|\\n|CAUSES|Overload|Improper lubrication|Improper lubrication|Improper lubrication|Lip seal worn out or defective|Lip seal worn out or defective|Lip seal worn out or defective|Irregularities on the mounting screws|Fault on the rolling bearings|Fault on the rolling bearings|Fault on the rolling bearings|Excessive wear of the gears|Lack of oil|Loss of parts|Hight speed of the shafts|Hight speed of the shafts|Hight speed of the shafts|\\n|SYMPTOMS|Overheating|Overheating|Overheating|Overheating|Oil Ioss|Oil Ioss|Oil Ioss|Excessive Noise and Vibration|Excessive Noise and Vibration|Excessive Noise and Vibration|Excessive Noise and Vibration|Excessive Noise and Vibration|Excessive Noise and Vibration|Excessive Noise and Vibration|Excessive Noise and Vibration|Excessive Clearrance on the shafts|Holguras excesivas en los engranajes|\\n\\n\\n**70**\\n\\n**���** **��������**\\n\\n������������������������������������������������������������������������������������������������\\n\\n����������������������������������������������������������������������������������������������\\n\\n�����������������\\n\\n�����������������������������������������������������������������������������������������������������\\n\\n**�������������������** �������� ***\"Relationship\", \"Sales Channels\"*** ���������������������������� **�������**\\n\\n**���������������������** ��\\n\\n����������������������������������������������������������������������������������������������\\n\\n�����������������������������������������������������������������������������������������������������\\n\\n��������������������������������������\\n\\n**�����** �����������������������������������������������������������������������������������������\\n\\n������������������������������������\\n\\n**71**\\n\\n**���** **��������������**\\n\\n�������������������������������������������������������������������������������������\\n\\n�� **���������** �����������������������������������������������������������������\\n\\n�� **���������** ����������������������������������������������������������������\\n\\n**�������**\\n\\n����������������������������������������������������������������������������������������������������\\n\\n����������������������������������������������������������������������������������������������\\n\\n�����������\\n\\n����������������� ������������������������������ ��� ���� ���������� ���� ����������� ���������\\n\\n��������������������������������������������������������������������������������\\n\\n������������������������������������������������������������������������������������������\\n\\n���������������������������������������������������������������������������������������������������\\n\\n�������������������������������������������������������������������������������������������������\\n\\n�����������������������������������������������������������������������������������������������\\n\\n�����������������������������������������������������������������\\n\\n���������������������������������������������������������������������������������������\\n\\n��������������������������������������������������������������������������������������������������\\n\\n�������������������������������������������������������������������������������������������������\\n\\n���������������������������������������������������������������������������������������������������\\n\\n�����������������������������\\n\\n����������������������������������������������������������������������������������������������������\\n\\n�����������������������������������������������������������������������������������������������������\\n\\n����������������������������������������������������������������������������������������������������\\n\\n�����������������������������������������������������������������������������������������������������\\n\\n�����������������������������������������������������������������������������������������������\\n\\n����������������������������������������������\\n\\n**72**\\n\\n**�����������������������������������������������������**\\n\\n�����������������������������������������������������������������������������������������������\\n\\n���������������������������������\\n\\n��������������������������������������������������������������������������������������������������\\n\\n�����������������������������������\\n\\n����������������������������������������������������������������������������������������������������\\n\\n�������������������������������������������������������������������������������������������������\\n\\n��������������������������������������������������������������������������\\n\\n����������������������������������������������������������������������������������������������\\n\\n�����������\\n\\n��������������������������������������������������������������������������������������������\\n\\n������������������������\\n\\n������������������������������������������������������������������������������������������\\n\\n��������������������������������������������������������������������������������������������������\\n\\n�����������������������\\n\\n���������������������������������������\\n\\n������������������������������������������������������������������������������������������\\n\\n��������������������\\n\\n�����������������������������������������������������������������\\n\\n���������������������������������������������������������������������������\\n\\n����������������������������������������������������������������������������������������\\n\\n������������������������������������������������������������������������������������������������\\n\\n�����������������������������������\\n\\n��������������������������������������������\\n\\n��������������������������������������������\\n\\n�������������������������������������������������������������������������������������������\\n\\n������������������������������������������������������������������������\\n\\n��������������������������������������������������������������������������������������������\\n\\n�����������������������������������������������������������������������������������������������\\n\\n������������������������������������������������������������������������������������������������\\n\\n�����������������������������������������������������������������������������������������������������\\n\\n��������������������������������������������������������������������������������������������������\\n\\n������������������������������������������������������������������������������������������������\\n\\n**73**\\n\\n����������������������������������������������������������������������������������������������\\n\\n���������������������������������������������������\\n\\n����������������������������������������������������������������������������������������\\n\\n����������������������������������������������������������������������������������������������\\n\\n�����������������������������������������������������������������������������������������������������\\n\\n����������������������������������������������������������\\n\\n����������������������������������������������������������������������������������������������������\\n\\n������������������������������������������������������������������������������������������������������\\n\\n��������������������������������������������������������������������������������������������\\n\\n**74**\\n\\n**9.** **ENVIRONMENTAL DIRECTIONS**\\n\\nThe products manufactured by WEG-CESTARI meet the legal and environmental requirements defined\\n\\nby the company, and, as part of our Environmental Management System, the information regarding\\n\\nthe recycling of our products is available in this Manual:\\n\\n� **Frame, Couplings, Covers, etc. (Cast Iron, Steel or Aluminium):**\\n\\nThey are 100% recyclable and must be sent to foundries.\\n\\n� **Shafts, Gears, Pinions, etc. (Steel):**\\n\\nThey are 100% recyclable and must be sent to steel plants.\\n\\n� **Bevel Gears (Bronze):**\\n\\nThey are 100% recyclable and must be sent to foundries.\\n\\n� **Oils:**\\n\\nThey must be sent for re-refining at duly authorized companies.\\n\\n� **Seals (Rubber):**\\n\\nThey must be sent to companies duly licensed by the responsible environmental agency (landfill\\n\\nclass II)\\n\\n� **Elastic Elements:**\\n\\nThey are 100% recyclable and must be sent to recycling companies.\\n\\n� **Packages:**\\n\\n**Wood:** They are made with reforestation wood and may be reused or used as fuel in\\n\\nboilers when not contaminated (with oil, grease, paint).\\n\\n**Cardboard:** They are 100% recyclable when not contaminated (with oil, grease, paint) and\\n\\nmust be sent to recycling companies.\\n\\n**NOTE:** If some material is contaminated with oil, grease or paint, it must be sent to\\n\\ncompanies duly licensed by the responsible environmental agency.\\n\\n**75**\\n\\n## **Gear Units Mounting Check List**\\n\\n**••••••••••••••••••••••••••••••••••••••••••••••••••••••••••••••••••••••••••••••**\\n### **Receiveing the gear unit.**\\n\\n**Paint Coat**\\n\\nCheck for transport dents, paint coat pelling and other imperfections\\n\\n**Oxidation**\\n\\nCheck for oxideted spots or areas on the gear unit and acessories\\n\\n**Leaks**\\n\\nCheck for lubricant presence on the surface of seals, lids and joints\\n\\n**Machined surfaces protection**\\n\\nCheck if machined surfaces are properly covered with protective oil\\n\\n**Components**\\n\\nCheck if all components to be used on the mounting process are\\n\\npresent\\n\\n**Breather Seals and Easy-lock components**\\n\\nCheck if Breather seal and Easy-Lock components are properly sealed\\n\\n**Storage conditions**\\n\\nCheck if gear unit is stored according to Product Manual instructions\\n### **Mouting the gear unit**\\n\\n**Mouting Position**\\n\\nCheck if gear unit is mounted acoording to supplied Mounting position\\n\\n**Lubricant level**\\n\\nCheck lubricant level according to Product Manual instructions\\n\\n**Breather seal removal**\\n\\nCheck if breather seal was removed BEFORE gear unit start up\\n\\n**Sealing**\\n\\nCheck for oil leak presence on any part of the gear unit.\\n\\n**Gear unit mouting recommendations**\\n\\nCheck if gear unit mounting on driven machine is in accordance to\\n\\nProduct Manual instructions\\n\\n**76**\\n\\n**Easy-Lock system**\\nCheck if Easy-Lock system was assembled according to Product Manual\\n\\ninstructions\\n\\n**Machined surfaces oil protection application**\\nCheck if protective oil was applied on machined surfaces AFTER gear\\n\\nunit mounting on drive machine\\n\\nBrearher Seal Removal\\n\\nMounting Positions\\n\\nBreather must ALWAYS\\n\\nbe on upper side\\n\\nVerification DATE:\\n_______/_______/_________\\n\\nVerification Responsible:\\n\\nSignature:\\n\\n**77**\\n\\n**NOTES**\\n\\n��������������������������������������������������������������������������������\\n\\n��������������������������������������������������������������������������������\\n\\n��������������������������������������������������������������������������������\\n\\n��������������������������������������������������������������������������������\\n\\n��������������������������������������������������������������������������������\\n\\n��������������������������������������������������������������������������������\\n\\n��������������������������������������������������������������������������������\\n\\n��������������������������������������������������������������������������������\\n\\n��������������������������������������������������������������������������������\\n\\n��������������������������������������������������������������������������������\\n\\n��������������������������������������������������������������������������������\\n\\n��������������������������������������������������������������������������������\\n\\n��������������������������������������������������������������������������������\\n\\n��������������������������������������������������������������������������������\\n\\n��������������������������������������������������������������������������������\\n\\n��������������������������������������������������������������������������������\\n\\n��������������������������������������������������������������������������������\\n\\n��������������������������������������������������������������������������������\\n\\n��������������������������������������������������������������������������������\\n\\n��������������������������������������������������������������������������������\\n\\n��������������������������������������������������������������������������������\\n\\n��������������������������������������������������������������������������������\\n\\n��������������������������������������������������������������������������������\\n\\n��������������������������������������������������������������������������������\\n\\n��������������������������������������������������������������������������������\\n\\n��������������������������������������������������������������������������������\\n\\n���������������������������������������������������������������������������������\\n\\n**78**\\n\\n![](WEG-CESTARI-manual-iom-guia-consulta-rapida-50111652-pt-en-es-web.pdf-83-1.png)\\n\\n![](WEG-CESTARI-manual-iom-guia-consulta-rapida-50111652-pt-en-es-web.pdf-83-2.png)\\n\\n'"
      ]
     },
     "execution_count": 10,
     "metadata": {},
     "output_type": "execute_result"
    }
   ],
   "source": [
    "md_text"
   ]
  },
  {
   "cell_type": "code",
   "execution_count": null,
   "id": "c08c1904",
   "metadata": {},
   "outputs": [],
   "source": [
    "text_splitter = RecursiveCharacterTextSplitter(\n",
    "            chunk_size=1000,\n",
    "            chunk_overlap=200,\n",
    "            length_function=len,\n",
    "            is_separator_regex=False,\n",
    "        )\n",
    "texts = text_splitter.create_documents([md_text])"
   ]
  },
  {
   "cell_type": "code",
   "execution_count": 4,
   "id": "ab05a783",
   "metadata": {},
   "outputs": [
    {
     "data": {
      "text/plain": [
       "[Document(metadata={}, page_content='**AC & DC Motor Installation & Maintenance Instructions**\\n**Handling**\\nThe weight of the motor and shipping container will vary. Use correct material handling\\nequipment to avoid injury.\\n\\n**Receiving**\\nInspect the motor for damage before accepting it. The Motor shaft should rotate freely with\\nno rubs. Report any damage immediately to the commercial carrier that delivered your\\nmotor.'),\n",
       " Document(metadata={}, page_content='**Safety Notice**\\nOnly qualified personnel trained in the safe installation and operation of this equipment\\nshould install this motor. When improperly installed or used, rotating equipment can\\ncause serious or fatal injury. Equipment must be installed in accordance with the National\\nElectrical Code (NEC), local codes and NEMA MG2 Safety Standards for Construction and\\nGuide for Selection, Installation and Use of Electric Motors and Generators. Observe the\\nfollowing guidelines:\\n1. When eyebolts are provided, they must be fully tightened and are intended to lift the\\nmotor and its included accessories only.\\n2. Ground the motor according to NEC and local codes.\\n3. Provide a permanent guard to prevent accidental contact of body parts or clothing with\\nrotating or moving parts or burns if motor is hot.\\n4. Shaft key must be secured before starting motor.\\n5. Do not apply power to the motor until the motor is securely mounted by its mounting\\nholes.'),\n",
       " Document(metadata={}, page_content='5. Do not apply power to the motor until the motor is securely mounted by its mounting\\nholes.\\n6. This motor must only be connected to the proper line voltage, line frequency and load\\nsize.\\n7. If a motor mounted brake is installed, provide proper safeguards for personnel in case\\nof brake failure.\\n8. Disconnect all power services and stop the motor before servicing.\\n9. For single phase motors, discharge the start and/or run capacitors before servicing.\\n10. Do not by-pass or render inoperative any safety device.\\n11. When using AC motors with frequency inverters, be certain that the Maximum Speed\\nrating (on nameplate) is not exceeded.\\n12. Mounting bolts should be high tensile steel. Be sure to use a suitable locking device on\\neach bolt (spring washer or thread lock compound).'),\n",
       " Document(metadata={}, page_content='**Motor Enclosure**\\nODP, Open drip proof motors are intended for use in clean, dry locations with adequate\\nsupply of cooling air. These motors should not be used in the presence of flammable or\\ncombustible materials. Open motors can emit flame and/or molten metal in the event of\\ninsulation failure.\\nTEFC, totally enclosed motors are intended for use where moisture, dirt and/or corrosive\\nmaterials are present in indoor and outdoor locations. Explosion proof motors, as indicated\\nby the Underwriters Laboratories, Inc. label are intended for use in hazardous areas as\\nspecified by the NEC.'),\n",
       " Document(metadata={}, page_content='**Mounting**\\nFoot mounted machines should be mounted to a rigid foundation to prevent excessive\\nvibration. Shims may be used if location is uneven.\\nFlange mounted machines should be properly seated and aligned. Note: If improper\\nrotation direction is detrimental to the load, check rotation direction prior to coupling the\\nload to the motor shaft.\\nFor V-belt drive, mount the sheave pulley close to the motor housing. Allow clearance\\nfor end to end movement of the motor shaft. Do not overtighten belts as this may cause\\npremature bearing failure or shaft breakage.\\nDirect coupled machines should be carefully aligned and the shaft should rotate freely\\nwithout binding.'),\n",
       " Document(metadata={}, page_content='**Wiring**\\nConnect the motor as shown in the connection diagram. The wiring, fusing and grounding\\nmust comply with the National Electrical Code and local codes. When the motor is connected\\nto the load for proper direction of rotation and started, it should start quickly and run\\nsmoothly. If not, stop the motor immediately and determine the cause.\\nPossible causes are: low voltage at the motor, motor connections are not correct or the\\nload is too heavy. Check the motor current after a few minutes of operation and compare\\nthe measured current with the nameplate rating.\\n\\n**Lubrication**\\nThis is a ball bearing motor. The bearings have been lubricated at the factory. Motors that do\\nnot have regrease capability are factory lubricated for the normal life of the bearings.\\n**Relubrication Intervals** (For motors with rearease capability)\\nNew motors that have been stored for a year or more should be relubricated. Lubrication is\\nalso recommended at these intervals:'),\n",
       " Document(metadata={}, page_content='|also recommended at these inte|ervals: Relubrication Intervals|Col3|Col4|Col5|\\n|---|---|---|---|---|\\n|NEMA (IEC) Frame Size|Rated Speed (RPM)|Rated Speed (RPM)|Rated Speed (RPM)|Rated Speed (RPM)|\\n|NEMA (IEC) Frame Size|3600|1800|1200|900|\\n|Up to 210 incl. (132)|5500Hrs.|12000Hrs.|18000Hrs.|22000Hrs.|\\n|Over 210 to 280 incl. (180)|3600Hrs.|9500Hrs.|15000Hrs.|18000Hrs.|\\n|Over 280 to 360 incl. (225)|*2200Hrs.|7400Hrs.|12000Hrs.|15000Hrs.|\\n|Over 360 to 5000 incl.(300)|*2200Hrs.|3500Hrs.|7400Hrs.|10500Hrs.|\\n\\n\\n\\n- Lubrication interval for 6313 or 6314 bearings that are used in 360 through 5000 frame,\\n2 pole motors. If roller bearings are used, bearings must be lubricated more frequently,\\ndivide the interval by 2.\\n\\n**Lubricant**\\nBaldor motors are pregreased, normally with Polyrex EM (Exxon Mobil). If other greases are\\npreferred, check with a local Baldor Service Center for recommendations.'),\n",
       " Document(metadata={}, page_content='**Procedure**\\nClean the grease fitting (or area around grease hole, if equipped with slotted grease\\nscrews). If motor has a purge plug, remove it. Motors can be regreased while stopped\\n(at less than 80°C) or running.\\nApply grease gun to fitting (or grease hole). Too much grease or injecting grease to quickly\\ncan cause premature bearing failure. Slowly apply the recommended amount of grease,\\ntaking 1 minute or so to apply. Operate motor for 20 minutes, then reinstall purge plug if\\npreviously removed.\\n\\n**Caution:  Keep grease clean. Mixing dissimilar grease is not recommended.**\\n\\n**Amount of Grease to Add**'),\n",
       " Document(metadata={}, page_content='**Amount of Grease to Add**\\n\\n\\n\\n\\n|Frame Size NEMA (IEC)|Weight of grease<br>to add<br>ounce (gram)|Volume of grease to add|Col4|\\n|---|---|---|---|\\n|Frame Size NEMA (IEC)|Weight of grease<br>to add<br>ounce (gram)|inches3|teaspoon|\\n|Up to 210 incl. (132)|0.30 (8.4)|0.6|2.0|\\n|Over 210 to 280 incl. (180)|0.61 (17.4)|1.2|3.9|\\n|Over 280 to 360 incl. (225)|0.81 (23.1)|1.5|5.2|\\n|Over 360 to 5000 incl.(300)|2.12(60.0)|4.1|13.4|\\n\\n\\n**Maintenance Interval for Motors with Baldor Shaft Grounding Brush**\\nBaldor shaft grounding motors are designed for long life, but do require periodic replacement.\\nRecommended interval for changing the brush assembly on all frame sizes:\\n**Replacement Intervals**\\n\\n|Rated speed (RPM)|Col2|Col3|Col4|\\n|---|---|---|---|\\n|3600|1800|1200|900|\\n|22,000Hrs.|44,000Hrs.|66,000Hrs.|88,000Hrs.|\\n\\n\\n\\nP.O. Box 2400\\nFort Smith, AR 72902-2400 USA\\n(479) 646-4711\\n\\n9/14 LB5001')]"
      ]
     },
     "execution_count": 4,
     "metadata": {},
     "output_type": "execute_result"
    }
   ],
   "source": [
    "texts"
   ]
  },
  {
   "cell_type": "code",
   "execution_count": 1,
   "id": "9ad8fe14",
   "metadata": {},
   "outputs": [],
   "source": [
    "from pinecone import Pinecone, ServerlessSpec\n",
    "from pinecone import ServerlessSpec\n",
    "\n",
    "pc = Pinecone(api_key=\"pcsk_2SrBmu_MDxZLJmhrvwasnH9P8KEDAHmKfA5hhGWKebMRaNdRm8yuuf6wcwcsszpBNuvaBL\")\n",
    "\n",
    "dense_index_name = \"dense-chat-with-pdf\"\n",
    "sparse_index_name = \"sparse-chat-with-pdf\"\n",
    "\n",
    "if not pc.has_index(dense_index_name):\n",
    "    pc.create_index(\n",
    "        name=dense_index_name,\n",
    "        dimension=1536,\n",
    "        metric=\"cosine\",\n",
    "        spec=ServerlessSpec(\n",
    "            cloud=\"aws\",\n",
    "            region=\"us-east-1\"\n",
    "        ),\n",
    "        deletion_protection=\"disabled\",\n",
    "    )\n",
    "\n",
    "if not pc.has_index(sparse_index_name):\n",
    "    pc.create_index(\n",
    "        name=sparse_index_name,\n",
    "        vector_type=\"sparse\",\n",
    "        metric=\"dotproduct\",\n",
    "        spec=ServerlessSpec(cloud=\"aws\", region=\"us-east-1\")\n",
    "    )"
   ]
  },
  {
   "cell_type": "code",
   "execution_count": null,
   "id": "e7b9c262",
   "metadata": {},
   "outputs": [],
   "source": []
  },
  {
   "cell_type": "code",
   "execution_count": 6,
   "id": "80c49f03",
   "metadata": {},
   "outputs": [
    {
     "name": "stderr",
     "output_type": "stream",
     "text": [
      "/home/cristianomendieta/estudos/chat-with-pdf/my_env/lib/python3.11/site-packages/tqdm/auto.py:21: TqdmWarning: IProgress not found. Please update jupyter and ipywidgets. See https://ipywidgets.readthedocs.io/en/stable/user_install.html\n",
      "  from .autonotebook import tqdm as notebook_tqdm\n",
      "None of PyTorch, TensorFlow >= 2.0, or Flax have been found. Models won't be available and only tokenizers, configuration and file/data utilities can be used.\n",
      "None of PyTorch, TensorFlow >= 2.0, or Flax have been found. Models won't be available and only tokenizers, configuration and file/data utilities can be used.\n"
     ]
    }
   ],
   "source": [
    "from transformers import BertTokenizerFast  # !pip install transformers\n",
    "\n",
    "# load bert tokenizer from huggingface\n",
    "tokenizer = BertTokenizerFast.from_pretrained(\n",
    "   'bert-base-multilingual-uncased'\n",
    ")"
   ]
  },
  {
   "cell_type": "code",
   "execution_count": 7,
   "id": "5d44cdbb",
   "metadata": {},
   "outputs": [
    {
     "data": {
      "text/plain": [
       "dict_keys(['input_ids', 'token_type_ids', 'attention_mask'])"
      ]
     },
     "execution_count": 7,
     "metadata": {},
     "output_type": "execute_result"
    }
   ],
   "source": [
    "# tokenize the context passage\n",
    "inputs = tokenizer(\n",
    "    texts[0].page_content, padding=True, truncation=True,\n",
    "    max_length=512\n",
    ")\n",
    "inputs.keys()"
   ]
  },
  {
   "cell_type": "code",
   "execution_count": 8,
   "id": "c58cb242",
   "metadata": {},
   "outputs": [
    {
     "data": {
      "text/plain": [
       "[101,\n",
       " 115,\n",
       " 115,\n",
       " 12181,\n",
       " 111,\n",
       " 14410,\n",
       " 13469,\n",
       " 33040,\n",
       " 111,\n",
       " 33379,\n",
       " 58179,\n",
       " 115,\n",
       " 115,\n",
       " 115,\n",
       " 115,\n",
       " 47240,\n",
       " 115,\n",
       " 115,\n",
       " 10103,\n",
       " 23602,\n",
       " 10108,\n",
       " 10103,\n",
       " 13469,\n",
       " 10110,\n",
       " 47639,\n",
       " 77258,\n",
       " 11229,\n",
       " 37355,\n",
       " 119,\n",
       " 11868,\n",
       " 46085,\n",
       " 13220,\n",
       " 47240,\n",
       " 22490,\n",
       " 10114,\n",
       " 32406,\n",
       " 26751,\n",
       " 119,\n",
       " 115,\n",
       " 115,\n",
       " 30512,\n",
       " 115,\n",
       " 115,\n",
       " 15450,\n",
       " 84789,\n",
       " 10103,\n",
       " 13469,\n",
       " 10139,\n",
       " 24046,\n",
       " 11364,\n",
       " 39898,\n",
       " 10285,\n",
       " 10197,\n",
       " 119,\n",
       " 10103,\n",
       " 13469,\n",
       " 65315,\n",
       " 14693,\n",
       " 46566,\n",
       " 10218,\n",
       " 12487,\n",
       " 10563,\n",
       " 10171,\n",
       " 10181,\n",
       " 13462,\n",
       " 20540,\n",
       " 119,\n",
       " 13100,\n",
       " 11318,\n",
       " 24046,\n",
       " 23062,\n",
       " 10114,\n",
       " 10103,\n",
       " 16229,\n",
       " 34441,\n",
       " 10203,\n",
       " 35768,\n",
       " 12787,\n",
       " 13469,\n",
       " 119,\n",
       " 102]"
      ]
     },
     "execution_count": 8,
     "metadata": {},
     "output_type": "execute_result"
    }
   ],
   "source": [
    "# extract the input ids\n",
    "input_ids = inputs['input_ids']\n",
    "input_ids"
   ]
  },
  {
   "cell_type": "code",
   "execution_count": 9,
   "id": "af09b146",
   "metadata": {},
   "outputs": [],
   "source": [
    "from collections import Counter\n",
    "from langchain_openai import OpenAIEmbeddings\n",
    "\n",
    "def build_dict(input_batch):\n",
    "    # store a batch of sparse embeddings\n",
    "    sparse_emb = []\n",
    "    # iterate through input batch\n",
    "    for token_ids in input_batch:\n",
    "        # convert the input_ids list to a dictionary of key to frequency values\n",
    "        d = dict(Counter(token_ids))\n",
    "        # remove special tokens and create indices/values lists\n",
    "        indices = []\n",
    "        values = []\n",
    "        for idx in d:\n",
    "            if idx not in [101, 102, 103, 0]:  # filter out special tokens\n",
    "                indices.append(idx)\n",
    "                values.append(float(d[idx]))\n",
    "        sparse_emb.append({'indices': indices, 'values': values})\n",
    "    # return sparse_emb list\n",
    "    return sparse_emb\n",
    "\n",
    "\n",
    "def generate_sparse_vectors(context_batch):\n",
    "    # create batch of input_ids\n",
    "    inputs = tokenizer(\n",
    "            context_batch, padding=True,\n",
    "            truncation=True,\n",
    "            max_length=512\n",
    "    )['input_ids']\n",
    "    # create sparse dictionaries\n",
    "    sparse_embeds = build_dict(inputs)\n",
    "    return sparse_embeds\n",
    "\n",
    "\n",
    "def generate_dense_vectors(context_batch):\n",
    "    # Initialize OpenAI embeddings\n",
    "    embeddings = OpenAIEmbeddings(\n",
    "        model=\"text-embedding-3-small\",\n",
    "    )\n",
    "    \n",
    "    # Generate embeddings for the entire batch\n",
    "    dense_vectors = embeddings.embed_documents(context_batch)\n",
    "    \n",
    "    return dense_vectors\n"
   ]
  },
  {
   "cell_type": "code",
   "execution_count": 10,
   "id": "06655767",
   "metadata": {},
   "outputs": [],
   "source": [
    "text_chunks = [text.page_content for text in texts]"
   ]
  },
  {
   "cell_type": "code",
   "execution_count": 11,
   "id": "92f7b8ad",
   "metadata": {},
   "outputs": [
    {
     "data": {
      "text/plain": [
       "9"
      ]
     },
     "execution_count": 11,
     "metadata": {},
     "output_type": "execute_result"
    }
   ],
   "source": [
    "len(text_chunks)"
   ]
  },
  {
   "cell_type": "code",
   "execution_count": 15,
   "id": "96be63e5",
   "metadata": {},
   "outputs": [],
   "source": [
    "# from tqdm.auto import tqdm\n",
    "\n",
    "# batch_size = 32\n",
    "# vectors = []  # Initialize vectors list\n",
    "\n",
    "# for i in tqdm(range(0, len(text_chunks), batch_size)):\n",
    "#     # find end of batch\n",
    "#     i_end = min(i+batch_size, len(text_chunks))\n",
    "#     # extract batch\n",
    "#     context_batch = text_chunks[i:i_end]\n",
    "#     # create unique IDs\n",
    "#     ids = [str(x) for x in range(i, i_end)]\n",
    "#     # add context passages as metadata\n",
    "#     meta = [{'chunk_text': context} for context in context_batch]\n",
    "#     # create sparse vectors\n",
    "#     sparse_embeds = generate_sparse_vectors(context_batch)\n",
    "\n",
    "#     # loop through the data and create dictionaries for uploading documents to pinecone index\n",
    "#     for _id, sparse, metadata in zip(ids, sparse_embeds, meta):\n",
    "#         vectors.append({\n",
    "#             'id': _id,\n",
    "#             'sparse_values': sparse,  # sparse já tem o formato correto: {'indices': [...], 'values': [...]}\n",
    "#             'metadata': metadata\n",
    "#         })\n",
    "\n",
    "# print(f\"Total vectors created: {len(vectors)}\")\n",
    "# print(f\"First vector format: {vectors[0] if vectors else 'No vectors created'}\")\n",
    "\n",
    "# #     # upload the documents to the new hybrid index\n",
    "# #     index.upsert(vectors=vectors)\n",
    "\n",
    "# # # show index description after uploading the documents\n",
    "# # index.describe_index_stats()"
   ]
  },
  {
   "cell_type": "code",
   "execution_count": 12,
   "id": "bd411cb7",
   "metadata": {},
   "outputs": [
    {
     "name": "stderr",
     "output_type": "stream",
     "text": [
      "100%|██████████| 1/1 [00:01<00:00,  1.65s/it]"
     ]
    },
    {
     "name": "stdout",
     "output_type": "stream",
     "text": [
      "Total dense vectors created: 9\n",
      "Total sparse vectors created: 9\n",
      "Dense vector dimension: 1536\n",
      "Sparse vector indices count: 52\n"
     ]
    },
    {
     "name": "stderr",
     "output_type": "stream",
     "text": [
      "\n"
     ]
    }
   ],
   "source": [
    "# Processamento de vetores separados para cada índice\n",
    "from tqdm.auto import tqdm\n",
    "\n",
    "batch_size = 32\n",
    "dense_vectors = []  # Vetores apenas densos\n",
    "sparse_vectors = []  # Vetores apenas esparsos\n",
    "\n",
    "for i in tqdm(range(0, len(text_chunks), batch_size)):\n",
    "    # find end of batch\n",
    "    i_end = min(i+batch_size, len(text_chunks))\n",
    "    # extract batch\n",
    "    context_batch = text_chunks[i:i_end]\n",
    "    # create unique IDs\n",
    "    ids = [str(x) for x in range(i, i_end)]\n",
    "    # add context passages as metadata\n",
    "    meta = [{'chunk_text': context} for context in context_batch]\n",
    "    \n",
    "    # create sparse vectors\n",
    "    sparse_embeds = generate_sparse_vectors(context_batch)\n",
    "    # create dense vectors\n",
    "    dense_embeds = generate_dense_vectors(context_batch)\n",
    "\n",
    "    # Create separate vectors for each index type\n",
    "    for _id, sparse, dense, metadata in zip(ids, sparse_embeds, dense_embeds, meta):\n",
    "        # Dense vector for dense index\n",
    "        dense_vectors.append({\n",
    "            'id': _id,\n",
    "            'values': dense,  # only dense vector\n",
    "            'metadata': metadata\n",
    "        })\n",
    "        \n",
    "        # Sparse vector for sparse index\n",
    "        sparse_vectors.append({\n",
    "            'id': _id,\n",
    "            'sparse_values': sparse,  # only sparse vector\n",
    "            'metadata': metadata\n",
    "        })\n",
    "\n",
    "print(f\"Total dense vectors created: {len(dense_vectors)}\")\n",
    "print(f\"Total sparse vectors created: {len(sparse_vectors)}\")\n",
    "print(f\"Dense vector dimension: {len(dense_vectors[0]['values']) if dense_vectors else 'N/A'}\")\n",
    "print(f\"Sparse vector indices count: {len(sparse_vectors[0]['sparse_values']['indices']) if sparse_vectors else 'N/A'}\")"
   ]
  },
  {
   "cell_type": "code",
   "execution_count": 13,
   "id": "b456acde",
   "metadata": {},
   "outputs": [
    {
     "data": {
      "text/plain": [
       "1536"
      ]
     },
     "execution_count": 13,
     "metadata": {},
     "output_type": "execute_result"
    }
   ],
   "source": [
    "len(dense_vectors[0]['values'])"
   ]
  },
  {
   "cell_type": "code",
   "execution_count": 3,
   "id": "c95dc7d3",
   "metadata": {},
   "outputs": [
    {
     "name": "stderr",
     "output_type": "stream",
     "text": [
      "/home/cristianomendieta/estudos/chat-with-pdf/my_env/lib/python3.11/site-packages/tqdm/auto.py:21: TqdmWarning: IProgress not found. Please update jupyter and ipywidgets. See https://ipywidgets.readthedocs.io/en/stable/user_install.html\n",
      "  from .autonotebook import tqdm as notebook_tqdm\n"
     ]
    }
   ],
   "source": [
    "# Upload dos vetores para os índices apropriados\n",
    "dense_index = pc.Index(dense_index_name)\n",
    "sparse_index = pc.Index(sparse_index_name)"
   ]
  },
  {
   "cell_type": "code",
   "execution_count": 4,
   "id": "f073a33b",
   "metadata": {},
   "outputs": [
    {
     "name": "stdout",
     "output_type": "stream",
     "text": [
      "Upload completed!\n",
      "\n",
      "Dense index stats:\n",
      "{'dimension': 1536,\n",
      " 'index_fullness': 0.0,\n",
      " 'metric': 'cosine',\n",
      " 'namespaces': {'': {'vector_count': 61}},\n",
      " 'total_vector_count': 61,\n",
      " 'vector_type': 'dense'}\n",
      "\n",
      "Sparse index stats:\n",
      "{'index_fullness': 0.0,\n",
      " 'metric': 'dotproduct',\n",
      " 'namespaces': {'': {'vector_count': 61}},\n",
      " 'total_vector_count': 61,\n",
      " 'vector_type': 'sparse'}\n"
     ]
    }
   ],
   "source": [
    "print(\"Upload completed!\")\n",
    "print(\"\\nDense index stats:\")\n",
    "print(dense_index.describe_index_stats())\n",
    "print(\"\\nSparse index stats:\")\n",
    "print(sparse_index.describe_index_stats())"
   ]
  },
  {
   "cell_type": "code",
   "execution_count": 6,
   "id": "834b47f2",
   "metadata": {},
   "outputs": [
    {
     "data": {
      "text/plain": [
       "{}"
      ]
     },
     "execution_count": 6,
     "metadata": {},
     "output_type": "execute_result"
    }
   ],
   "source": [
    "dense_index.delete(delete_all=True)"
   ]
  },
  {
   "cell_type": "code",
   "execution_count": 7,
   "id": "50e4e7ee",
   "metadata": {},
   "outputs": [
    {
     "data": {
      "text/plain": [
       "{}"
      ]
     },
     "execution_count": 7,
     "metadata": {},
     "output_type": "execute_result"
    }
   ],
   "source": [
    "sparse_index.delete(delete_all=True)"
   ]
  },
  {
   "cell_type": "code",
   "execution_count": null,
   "id": "69e004b6",
   "metadata": {},
   "outputs": [],
   "source": [
    "# Upload dos vetores para os índices apropriados\n",
    "dense_index = pc.Index(dense_index_name)\n",
    "sparse_index = pc.Index(sparse_index_name)\n",
    "\n",
    "# Upload em batches para evitar problemas de timeout\n",
    "upload_batch_size = 100\n",
    "\n",
    "print(\"Uploading dense vectors...\")\n",
    "for i in tqdm(range(0, len(dense_vectors), upload_batch_size)):\n",
    "    i_end = min(i + upload_batch_size, len(dense_vectors))\n",
    "    batch_vectors = dense_vectors[i:i_end]\n",
    "    dense_index.upsert(vectors=batch_vectors)\n",
    "\n",
    "print(\"Uploading sparse vectors...\")\n",
    "for i in tqdm(range(0, len(sparse_vectors), upload_batch_size)):\n",
    "    i_end = min(i + upload_batch_size, len(sparse_vectors))\n",
    "    batch_vectors = sparse_vectors[i:i_end]\n",
    "    sparse_index.upsert(vectors=batch_vectors)"
   ]
  },
  {
   "cell_type": "code",
   "execution_count": 2,
   "id": "32622075",
   "metadata": {},
   "outputs": [
    {
     "name": "stdout",
     "output_type": "stream",
     "text": [
      "Upload completed!\n",
      "\n",
      "Dense index stats:\n"
     ]
    },
    {
     "ename": "NameError",
     "evalue": "name 'dense_index' is not defined",
     "output_type": "error",
     "traceback": [
      "\u001b[31m---------------------------------------------------------------------------\u001b[39m",
      "\u001b[31mNameError\u001b[39m                                 Traceback (most recent call last)",
      "\u001b[36mCell\u001b[39m\u001b[36m \u001b[39m\u001b[32mIn[2]\u001b[39m\u001b[32m, line 3\u001b[39m\n\u001b[32m      1\u001b[39m \u001b[38;5;28mprint\u001b[39m(\u001b[33m\"\u001b[39m\u001b[33mUpload completed!\u001b[39m\u001b[33m\"\u001b[39m)\n\u001b[32m      2\u001b[39m \u001b[38;5;28mprint\u001b[39m(\u001b[33m\"\u001b[39m\u001b[38;5;130;01m\\n\u001b[39;00m\u001b[33mDense index stats:\u001b[39m\u001b[33m\"\u001b[39m)\n\u001b[32m----> \u001b[39m\u001b[32m3\u001b[39m \u001b[38;5;28mprint\u001b[39m(\u001b[43mdense_index\u001b[49m.describe_index_stats())\n\u001b[32m      4\u001b[39m \u001b[38;5;28mprint\u001b[39m(\u001b[33m\"\u001b[39m\u001b[38;5;130;01m\\n\u001b[39;00m\u001b[33mSparse index stats:\u001b[39m\u001b[33m\"\u001b[39m)\n\u001b[32m      5\u001b[39m \u001b[38;5;28mprint\u001b[39m(sparse_index.describe_index_stats())\n",
      "\u001b[31mNameError\u001b[39m: name 'dense_index' is not defined"
     ]
    }
   ],
   "source": [
    "print(\"Upload completed!\")\n",
    "print(\"\\nDense index stats:\")\n",
    "print(dense_index.describe_index_stats())\n",
    "print(\"\\nSparse index stats:\")\n",
    "print(sparse_index.describe_index_stats())"
   ]
  },
  {
   "cell_type": "code",
   "execution_count": 17,
   "id": "01db9f06",
   "metadata": {},
   "outputs": [],
   "source": [
    "def sparse_query(question, top_k):\n",
    "    # convert the question into a sparse vector\n",
    "    sparse_vec = generate_sparse_vectors([question])[0]\n",
    "    # query pinecone with the query parameters\n",
    "    result = sparse_index.query(\n",
    "        sparse_vector=sparse_vec,\n",
    "        top_k=top_k,\n",
    "        include_metadata=True\n",
    "    )\n",
    "    # return search results as json\n",
    "    return result"
   ]
  },
  {
   "cell_type": "code",
   "execution_count": 18,
   "id": "097a1b67",
   "metadata": {},
   "outputs": [],
   "source": [
    "sparse_query_result = sparse_query(\n",
    "    question=\"Polyrex EM\",\n",
    "    top_k=5\n",
    ")"
   ]
  },
  {
   "cell_type": "code",
   "execution_count": 21,
   "id": "994614a4",
   "metadata": {},
   "outputs": [],
   "source": [
    "def dense_query(question, top_k):\n",
    "    # convert the question into a dense vector\n",
    "    dense_vec = generate_dense_vectors([question])[0]\n",
    "    # query pinecone with the query parameters\n",
    "    result = dense_index.query(\n",
    "        vector=dense_vec,\n",
    "        top_k=top_k,\n",
    "        include_metadata=True\n",
    "    )\n",
    "    # return search results as json\n",
    "    return result"
   ]
  },
  {
   "cell_type": "code",
   "execution_count": 22,
   "id": "b8842bdf",
   "metadata": {},
   "outputs": [],
   "source": [
    "dense_query_result = dense_query(\n",
    "    question=\"whats the name of the company that produces Polyrex EM?\",\n",
    "    top_k=5\n",
    ")"
   ]
  },
  {
   "cell_type": "code",
   "execution_count": 38,
   "id": "5c25ebb8",
   "metadata": {},
   "outputs": [],
   "source": [
    "# dense_query_result"
   ]
  },
  {
   "cell_type": "code",
   "execution_count": 41,
   "id": "a377107e",
   "metadata": {},
   "outputs": [],
   "source": [
    "# sparse_query_result"
   ]
  },
  {
   "cell_type": "code",
   "execution_count": 33,
   "id": "7c89f77a",
   "metadata": {},
   "outputs": [],
   "source": [
    "h1 = sparse_query_result\n",
    "h2 = dense_query_result\n",
    "\n",
    "deduped_hits = {hit['id']: hit for hit in h1['matches'] + h2['matches']}.values()"
   ]
  },
  {
   "cell_type": "code",
   "execution_count": 42,
   "id": "773f6b51",
   "metadata": {},
   "outputs": [
    {
     "name": "stdout",
     "output_type": "stream",
     "text": [
      "[\n",
      "   {'id': '3', 'chunk_text': '**Motor Enclosure**\\nODP, Open drip proof motors are intended for use in clean, dry locations with adequate\\nsupply of cooling air. These motors should not be used in the presence of flammable or\\ncombustible materials. Open motors can emit flame and/or molten metal in the event of\\ninsulation failure.\\nTEFC, totally enclosed motors are intended for use where moisture, dirt and/or corrosive\\nmaterials are present in indoor and outdoor locations. Explosion proof motors, as indicated\\nby the Underwriters Laboratories, Inc. label are intended for use in hazardous areas as\\nspecified by the NEC.'},\n",
      "   {'id': '6', 'chunk_text': '|also recommended at these inte|ervals: Relubrication Intervals|Col3|Col4|Col5|\\n|---|---|---|---|---|\\n|NEMA (IEC) Frame Size|Rated Speed (RPM)|Rated Speed (RPM)|Rated Speed (RPM)|Rated Speed (RPM)|\\n|NEMA (IEC) Frame Size|3600|1800|1200|900|\\n|Up to 210 incl. (132)|5500Hrs.|12000Hrs.|18000Hrs.|22000Hrs.|\\n|Over 210 to 280 incl. (180)|3600Hrs.|9500Hrs.|15000Hrs.|18000Hrs.|\\n|Over 280 to 360 incl. (225)|*2200Hrs.|7400Hrs.|12000Hrs.|15000Hrs.|\\n|Over 360 to 5000 incl.(300)|*2200Hrs.|3500Hrs.|7400Hrs.|10500Hrs.|\\n\\n\\n\\n- Lubrication interval for 6313 or 6314 bearings that are used in 360 through 5000 frame,\\n2 pole motors. If roller bearings are used, bearings must be lubricated more frequently,\\ndivide the interval by 2.\\n\\n**Lubricant**\\nBaldor motors are pregreased, normally with Polyrex EM (Exxon Mobil). If other greases are\\npreferred, check with a local Baldor Service Center for recommendations.'},\n",
      "   {'id': '8', 'chunk_text': '**Amount of Grease to Add**\\n\\n\\n\\n\\n|Frame Size NEMA (IEC)|Weight of grease<br>to add<br>ounce (gram)|Volume of grease to add|Col4|\\n|---|---|---|---|\\n|Frame Size NEMA (IEC)|Weight of grease<br>to add<br>ounce (gram)|inches3|teaspoon|\\n|Up to 210 incl. (132)|0.30 (8.4)|0.6|2.0|\\n|Over 210 to 280 incl. (180)|0.61 (17.4)|1.2|3.9|\\n|Over 280 to 360 incl. (225)|0.81 (23.1)|1.5|5.2|\\n|Over 360 to 5000 incl.(300)|2.12(60.0)|4.1|13.4|\\n\\n\\n**Maintenance Interval for Motors with Baldor Shaft Grounding Brush**\\nBaldor shaft grounding motors are designed for long life, but do require periodic replacement.\\nRecommended interval for changing the brush assembly on all frame sizes:\\n**Replacement Intervals**\\n\\n|Rated speed (RPM)|Col2|Col3|Col4|\\n|---|---|---|---|\\n|3600|1800|1200|900|\\n|22,000Hrs.|44,000Hrs.|66,000Hrs.|88,000Hrs.|\\n\\n\\n\\nP.O. Box 2400\\nFort Smith, AR 72902-2400 USA\\n(479) 646-4711\\n\\n9/14 LB5001'},\n",
      "   {'id': '7', 'chunk_text': '**Procedure**\\nClean the grease fitting (or area around grease hole, if equipped with slotted grease\\nscrews). If motor has a purge plug, remove it. Motors can be regreased while stopped\\n(at less than 80°C) or running.\\nApply grease gun to fitting (or grease hole). Too much grease or injecting grease to quickly\\ncan cause premature bearing failure. Slowly apply the recommended amount of grease,\\ntaking 1 minute or so to apply. Operate motor for 20 minutes, then reinstall purge plug if\\npreviously removed.\\n\\n**Caution:  Keep grease clean. Mixing dissimilar grease is not recommended.**\\n\\n**Amount of Grease to Add**'},\n",
      "   {'id': '1', 'chunk_text': '**Safety Notice**\\nOnly qualified personnel trained in the safe installation and operation of this equipment\\nshould install this motor. When improperly installed or used, rotating equipment can\\ncause serious or fatal injury. Equipment must be installed in accordance with the National\\nElectrical Code (NEC), local codes and NEMA MG2 Safety Standards for Construction and\\nGuide for Selection, Installation and Use of Electric Motors and Generators. Observe the\\nfollowing guidelines:\\n1. When eyebolts are provided, they must be fully tightened and are intended to lift the\\nmotor and its included accessories only.\\n2. Ground the motor according to NEC and local codes.\\n3. Provide a permanent guard to prevent accidental contact of body parts or clothing with\\nrotating or moving parts or burns if motor is hot.\\n4. Shaft key must be secured before starting motor.\\n5. Do not apply power to the motor until the motor is securely mounted by its mounting\\nholes.'}\n",
      "]\n"
     ]
    }
   ],
   "source": [
    "def merge_chunks(h1, h2):\n",
    "    \"\"\"Get the unique hits from two search results and return them as single array of {'id', 'chunk_text'} dicts, printing each dict on a new line.\"\"\"\n",
    "    # Deduplicate by id\n",
    "    deduped_hits = {hit['id']: hit for hit in h1['matches'] + h2['matches']}.values()\n",
    "\n",
    "    # Sort by _score descending\n",
    "    sorted_hits = sorted(deduped_hits, key=lambda x: x['score'], reverse=True)\n",
    "    # Transform to format for reranking\n",
    "    result = [{'id': hit['id'], 'chunk_text': hit['metadata']['chunk_text']} for hit in sorted_hits]\n",
    "    return result\n",
    "\n",
    "merged_results = merge_chunks(sparse_query_result, dense_query_result)\n",
    "\n",
    "print('[\\n   ' + ',\\n   '.join(str(obj) for obj in merged_results) + '\\n]')"
   ]
  },
  {
   "cell_type": "code",
   "execution_count": null,
   "id": "0e2a07d8",
   "metadata": {},
   "outputs": [],
   "source": [
    "# Exemplo de como usar as estratégias de busca implementadas na aplicação\n",
    "\n",
    "# Simulando o uso das estratégias:\n",
    "print(\"=== Estratégias de Busca Implementadas ===\")\n",
    "print()\n",
    "\n",
    "# 1. Busca Dense (usando OpenAI embeddings)\n",
    "print(\"1. BUSCA DENSE:\")\n",
    "print(\"   - Usa embeddings do OpenAI (text-embedding-3-small)\")\n",
    "print(\"   - Melhor para busca semântica\")\n",
    "print(\"   - Dimensão: 1536\")\n",
    "print(\"   - Índice: dense-chat-with-pdf\")\n",
    "print()\n",
    "\n",
    "# 2. Busca Sparse (usando BERT tokenizer)\n",
    "print(\"2. BUSCA SPARSE:\")\n",
    "print(\"   - Usa tokenização BERT (bert-base-multilingual-uncased)\")\n",
    "print(\"   - Melhor para correspondência exata de palavras\")\n",
    "print(\"   - Baseada em frequência de tokens\")\n",
    "print(\"   - Índice: sparse-chat-with-pdf\")\n",
    "print()\n",
    "\n",
    "# 3. Busca Híbrida (combinando ambas)\n",
    "print(\"3. BUSCA HÍBRIDA:\")\n",
    "print(\"   - Combina dense + sparse\")\n",
    "print(\"   - Pesos: 70% dense + 30% sparse (configurável)\")\n",
    "print(\"   - Melhor dos dois mundos\")\n",
    "print(\"   - Deduplicação automática\")\n",
    "print()\n",
    "\n",
    "print(\"=== Como usar na aplicação ===\")\n",
    "print()\n",
    "print(\"# Exemplo de request para a API:\")\n",
    "example_request = {\n",
    "    \"question\": \"O que é Polyrex EM?\",\n",
    "    \"search_strategy\": \"hybrid\",  # dense, sparse, ou hybrid\n",
    "    \"max_documents\": 5\n",
    "}\n",
    "print(f\"POST /questions/\")\n",
    "print(f\"Body: {example_request}\")\n",
    "print()\n",
    "\n",
    "print(\"# Exemplo de response:\")\n",
    "example_response = {\n",
    "    \"answer\": \"Resposta baseada nos documentos encontrados...\",\n",
    "    \"references\": [\n",
    "        \"documento1.pdf (Score: 0.95, Tipo: hybrid)\",\n",
    "        \"documento2.pdf (Score: 0.87, Tipo: hybrid)\"\n",
    "    ],\n",
    "    \"search_strategy\": \"hybrid\",\n",
    "    \"documents_found\": 5,\n",
    "    \"context_used\": 3\n",
    "}\n",
    "print(f\"Response: {example_response}\")"
   ]
  },
  {
   "cell_type": "code",
   "execution_count": 12,
   "id": "f791b078",
   "metadata": {},
   "outputs": [],
   "source": [
    "md_text = pymupdf4llm.to_markdown(doc=\"/home/cristianomendieta/estudos/chat-with-pdf/case_files/WEG-motores-eletricos-guia-de-especificacao-50032749-brochure-portuguese-web.pdf\",\n",
    "                                      write_images=True,\n",
    "                                      image_path=\"/home/cristianomendieta/estudos/chat-with-pdf/case_files/images-2\")"
   ]
  },
  {
   "cell_type": "code",
   "execution_count": 1,
   "id": "15df1f9a",
   "metadata": {},
   "outputs": [],
   "source": [
    "# !pip install -U sentence-transformers"
   ]
  },
  {
   "cell_type": "code",
   "execution_count": 3,
   "id": "ece93f34",
   "metadata": {},
   "outputs": [
    {
     "ename": "ModuleNotFoundError",
     "evalue": "No module named 'sentence_transformers'",
     "output_type": "error",
     "traceback": [
      "\u001b[31m---------------------------------------------------------------------------\u001b[39m",
      "\u001b[31mModuleNotFoundError\u001b[39m                       Traceback (most recent call last)",
      "\u001b[36mCell\u001b[39m\u001b[36m \u001b[39m\u001b[32mIn[3]\u001b[39m\u001b[32m, line 1\u001b[39m\n\u001b[32m----> \u001b[39m\u001b[32m1\u001b[39m \u001b[38;5;28;01mfrom\u001b[39;00m\u001b[38;5;250m \u001b[39m\u001b[34;01msentence_transformers\u001b[39;00m\u001b[38;5;250m \u001b[39m\u001b[38;5;28;01mimport\u001b[39;00m CrossEncoder\n\u001b[32m      3\u001b[39m \u001b[38;5;66;03m# 1. Load a pre-trained CrossEncoder model\u001b[39;00m\n\u001b[32m      4\u001b[39m model = CrossEncoder(\u001b[33m\"\u001b[39m\u001b[33mcross-encoder/ms-marco-MiniLM-L6-v2\u001b[39m\u001b[33m\"\u001b[39m)\n",
      "\u001b[31mModuleNotFoundError\u001b[39m: No module named 'sentence_transformers'"
     ]
    }
   ],
   "source": [
    "from sentence_transformers import CrossEncoder\n",
    "\n",
    "# 1. Load a pre-trained CrossEncoder model\n",
    "model = CrossEncoder(\"cross-encoder/ms-marco-MiniLM-L6-v2\")\n",
    "\n",
    "# 2. Predict scores for a pair of sentences\n",
    "scores = model.predict([\n",
    "    (\"How many people live in Berlin?\", \"Berlin had a population of 3,520,031 registered inhabitants in an area of 891.82 square kilometers.\"),\n",
    "    (\"How many people live in Berlin?\", \"Berlin is well known for its museums.\"),\n",
    "])\n",
    "# => array([ 8.607138 , -4.3200774], dtype=float32)\n",
    "\n",
    "# 3. Rank a list of passages for a query\n",
    "query = \"How many people live in Berlin?\"\n",
    "passages = [\n",
    "    \"Berlin had a population of 3,520,031 registered inhabitants in an area of 891.82 square kilometers.\",\n",
    "    \"Berlin is well known for its museums.\",\n",
    "    \"In 2014, the city state Berlin had 37,368 live births (+6.6%), a record number since 1991.\",\n",
    "    \"The urban area of Berlin comprised about 4.1 million people in 2014, making it the seventh most populous urban area in the European Union.\",\n",
    "    \"The city of Paris had a population of 2,165,423 people within its administrative city limits as of January 1, 2019\",\n",
    "    \"An estimated 300,000-420,000 Muslims reside in Berlin, making up about 8-11 percent of the population.\",\n",
    "    \"Berlin is subdivided into 12 boroughs or districts (Bezirke).\",\n",
    "    \"In 2015, the total labour force in Berlin was 1.85 million.\",\n",
    "    \"In 2013 around 600,000 Berliners were registered in one of the more than 2,300 sport and fitness clubs.\",\n",
    "    \"Berlin has a yearly total of about 135 million day visitors, which puts it in third place among the most-visited city destinations in the European Union.\",\n",
    "]\n",
    "ranks = model.rank(query, passages)\n",
    "\n",
    "# Print the scores\n",
    "print(\"Query:\", query)\n",
    "for rank in ranks:\n",
    "    print(f\"{rank['score']:.2f}\\t{passages[rank['corpus_id']]}\")\n",
    "\"\"\"\n",
    "Query: How many people live in Berlin?\n",
    "8.92    The urban area of Berlin comprised about 4.1 million people in 2014, making it the seventh most populous urban area in the European Union.\n",
    "8.61    Berlin had a population of 3,520,031 registered inhabitants in an area of 891.82 square kilometers.\n",
    "8.24    An estimated 300,000-420,000 Muslims reside in Berlin, making up about 8-11 percent of the population.\n",
    "7.60    In 2014, the city state Berlin had 37,368 live births (+6.6%), a record number since 1991.\n",
    "6.35    In 2013 around 600,000 Berliners were registered in one of the more than 2,300 sport and fitness clubs.\n",
    "5.42    Berlin has a yearly total of about 135 million day visitors, which puts it in third place among the most-visited city destinations in the European Union.\n",
    "3.45    In 2015, the total labour force in Berlin was 1.85 million.\n",
    "0.33    Berlin is subdivided into 12 boroughs or districts (Bezirke).\n",
    "-4.24   The city of Paris had a population of 2,165,423 people within its administrative city limits as of January 1, 2019\n",
    "-4.32   Berlin is well known for its museums.\n",
    "\"\"\""
   ]
  },
  {
   "cell_type": "code",
   "execution_count": 2,
   "id": "5c6cb7f1",
   "metadata": {},
   "outputs": [
    {
     "ename": "ModuleNotFoundError",
     "evalue": "No module named 'sentence_transformers'",
     "output_type": "error",
     "traceback": [
      "\u001b[31m---------------------------------------------------------------------------\u001b[39m",
      "\u001b[31mModuleNotFoundError\u001b[39m                       Traceback (most recent call last)",
      "\u001b[36mCell\u001b[39m\u001b[36m \u001b[39m\u001b[32mIn[2]\u001b[39m\u001b[32m, line 1\u001b[39m\n\u001b[32m----> \u001b[39m\u001b[32m1\u001b[39m \u001b[38;5;28;01mfrom\u001b[39;00m\u001b[38;5;250m \u001b[39m\u001b[34;01msentence_transformers\u001b[39;00m\u001b[38;5;250m \u001b[39m\u001b[38;5;28;01mimport\u001b[39;00m CrossEncoder\n\u001b[32m      3\u001b[39m model = CrossEncoder(\u001b[33m'\u001b[39m\u001b[33mcross-encoder/ms-marco-MiniLM-L6-v2\u001b[39m\u001b[33m'\u001b[39m)\n\u001b[32m      4\u001b[39m scores = model.predict([\n\u001b[32m      5\u001b[39m     (\u001b[33m\"\u001b[39m\u001b[33mHow many people live in Berlin?\u001b[39m\u001b[33m\"\u001b[39m, \u001b[33m\"\u001b[39m\u001b[33mBerlin had a population of 3,520,031 registered inhabitants in an area of 891.82 square kilometers.\u001b[39m\u001b[33m\"\u001b[39m),\n\u001b[32m      6\u001b[39m     (\u001b[33m\"\u001b[39m\u001b[33mHow many people live in Berlin?\u001b[39m\u001b[33m\"\u001b[39m, \u001b[33m\"\u001b[39m\u001b[33mBerlin is well known for its museums.\u001b[39m\u001b[33m\"\u001b[39m),\n\u001b[32m      7\u001b[39m ])\n",
      "\u001b[31mModuleNotFoundError\u001b[39m: No module named 'sentence_transformers'"
     ]
    }
   ],
   "source": [
    "from sentence_transformers import CrossEncoder\n",
    "\n",
    "model = CrossEncoder('cross-encoder/ms-marco-MiniLM-L6-v2')\n",
    "scores = model.predict([\n",
    "    (\"How many people live in Berlin?\", \"Berlin had a population of 3,520,031 registered inhabitants in an area of 891.82 square kilometers.\"),\n",
    "    (\"How many people live in Berlin?\", \"Berlin is well known for its museums.\"),\n",
    "])\n",
    "print(scores)\n",
    "# [ 8.607138 -4.320078]\n"
   ]
  }
 ],
 "metadata": {
  "kernelspec": {
   "display_name": "my_env",
   "language": "python",
   "name": "python3"
  },
  "language_info": {
   "codemirror_mode": {
    "name": "ipython",
    "version": 3
   },
   "file_extension": ".py",
   "mimetype": "text/x-python",
   "name": "python",
   "nbconvert_exporter": "python",
   "pygments_lexer": "ipython3",
   "version": "3.11.9"
  }
 },
 "nbformat": 4,
 "nbformat_minor": 5
}
